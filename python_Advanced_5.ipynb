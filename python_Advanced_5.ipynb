{
 "cells": [
  {
   "cell_type": "code",
   "execution_count": 1,
   "id": "b3751d28",
   "metadata": {},
   "outputs": [],
   "source": [
    "# Q1. What is the meaning of multiple inheritance?"
   ]
  },
  {
   "cell_type": "markdown",
   "id": "a620cdb8",
   "metadata": {},
   "source": [
    "Multiple inheritance is a feature of object-oriented programming languages that allows a class to inherit properties and methods from multiple parent classes. In multiple inheritance, a derived class is created by inheriting from two or more base classes, and it acquires all the properties and methods of the base classes.\n",
    "\n",
    "For example, if there are two base classes A and B, and a derived class C that inherits from both A and B, then C would have access to all the public and protected members of A and B. This allows for greater code reusability and flexibility in designing complex systems. However, multiple inheritance can also lead to problems like the diamond problem, where there is ambiguity in resolving conflicting method names or attributes from different parent classes."
   ]
  },
  {
   "cell_type": "code",
   "execution_count": 3,
   "id": "20010383",
   "metadata": {},
   "outputs": [
    {
     "name": "stdout",
     "output_type": "stream",
     "text": [
      "Method A\n",
      "Method B\n",
      "Method C\n"
     ]
    }
   ],
   "source": [
    "class A:\n",
    "    def method_a(self):\n",
    "        print(\"Method A\")\n",
    "\n",
    "class B:\n",
    "    def method_b(self):\n",
    "        print(\"Method B\")\n",
    "\n",
    "class C(A, B):\n",
    "    def method_c(self):\n",
    "        print(\"Method C\")\n",
    "\n",
    "# Creating an object of class C and calling its methods\n",
    "obj_c = C()\n",
    "obj_c.method_a()   # Output: Method A\n",
    "obj_c.method_b()   # Output: Method B\n",
    "obj_c.method_c()   # Output: Method C\n"
   ]
  },
  {
   "cell_type": "code",
   "execution_count": 2,
   "id": "381f174d",
   "metadata": {},
   "outputs": [],
   "source": [
    "# Q2. What is the concept of delegation?"
   ]
  },
  {
   "cell_type": "markdown",
   "id": "bade8a06",
   "metadata": {},
   "source": [
    "Delegation is a design pattern in which an object forwards a request to another object to perform a task or provide a service, rather than handling the request itself. In other words, delegation allows one object to use the functionality of another object by passing on tasks to it, rather than implementing the tasks itself.\n",
    "\n",
    "Delegation can be used to achieve separation of concerns, where an object responsible for one aspect of a system can delegate tasks related to other aspects to other objects that are specialized for those tasks. This can make code more modular and easier to maintain, since objects are responsible for a well-defined set of tasks.\n",
    "\n",
    "For example, a GUI component might delegate user input handling to a controller object, which in turn delegates database operations to a data access object. By using delegation, each object can focus on its specific responsibility, making the overall system more flexible and easier to extend or modify"
   ]
  },
  {
   "cell_type": "code",
   "execution_count": 4,
   "id": "51e73160",
   "metadata": {},
   "outputs": [],
   "source": [
    "# Q3. What is the concept of composition?"
   ]
  },
  {
   "cell_type": "markdown",
   "id": "5a044627",
   "metadata": {},
   "source": [
    "Composition is a design pattern in which an object is made up of other objects, called its components or parts, rather than inheriting from a parent object. In other words, composition involves creating a new object by combining two or more existing objects in a meaningful way.\n",
    "\n",
    "In composition, the composed object has a reference to its components, which can be used to invoke their methods or access their properties. The composed object can also provide additional functionality by defining its own methods that use the methods and properties of its components.\n",
    "\n",
    "Composition is often used in situations where multiple objects need to collaborate to accomplish a task, or when a complex object needs to be created from simpler building blocks. It can also help to avoid the potential problems that can arise from the use of multiple inheritance, such as the diamond problem.\n",
    "\n",
    "For example, consider a car object that is composed of various components such as an engine, wheels, and a steering mechanism. Each component can be implemented as a separate object with its own set of methods and properties. The car object can then be composed by creating references to each of these components and using them to provide the functionality of the car as a whole. By using composition, the car object can be easily extended or modified by adding or removing components as needed, without affecting the behavior of the other components.\n",
    "\n",
    "\n",
    "\n"
   ]
  },
  {
   "cell_type": "code",
   "execution_count": 5,
   "id": "c02d5c49",
   "metadata": {},
   "outputs": [
    {
     "name": "stdout",
     "output_type": "stream",
     "text": [
      "Engine started\n",
      "Wheel rotating\n",
      "Wheel rotating\n",
      "Wheel rotating\n",
      "Wheel rotating\n",
      "Engine stopped\n"
     ]
    }
   ],
   "source": [
    "class Engine:\n",
    "    def start(self):\n",
    "        print(\"Engine started\")\n",
    "\n",
    "    def stop(self):\n",
    "        print(\"Engine stopped\")\n",
    "\n",
    "class Wheel:\n",
    "    def rotate(self):\n",
    "        print(\"Wheel rotating\")\n",
    "\n",
    "class Car:\n",
    "    def __init__(self):\n",
    "        self.engine = Engine()\n",
    "        self.wheels = [Wheel() for i in range(4)]\n",
    "\n",
    "    def start(self):\n",
    "        self.engine.start()\n",
    "        for wheel in self.wheels:\n",
    "            wheel.rotate()\n",
    "\n",
    "    def stop(self):\n",
    "        self.engine.stop()\n",
    "\n",
    "# Creating an object of class Car and calling its methods\n",
    "car = Car()\n",
    "car.start()   # Output: Engine started\\nWheel rotating\\nWheel rotating\\nWheel rotating\\nWheel rotating\n",
    "car.stop()    # Output: Engine stopped\n"
   ]
  },
  {
   "cell_type": "code",
   "execution_count": 6,
   "id": "b6de64af",
   "metadata": {},
   "outputs": [],
   "source": [
    "# Q4. What are bound methods and how do we use them?"
   ]
  },
  {
   "cell_type": "markdown",
   "id": "1cbd4082",
   "metadata": {},
   "source": [
    "In Python, a bound method is a method that is associated with an instance of a class. When a method is called on an instance of a class, the instance is passed as the first argument to the method automatically, which is conventionally named self. This binding of the method to the instance is called binding the method, and the resulting method is called a bound method.\n",
    "\n",
    "Bound methods can be accessed and called just like regular methods, but they are bound to a specific instance of the class. This means that they have access to the instance's properties and methods, and they can modify them if needed.\n",
    "\n",
    "To use a bound method, we simply call the method on an instance of the class, as shown in the following example:"
   ]
  },
  {
   "cell_type": "code",
   "execution_count": 7,
   "id": "02be02d8",
   "metadata": {},
   "outputs": [
    {
     "name": "stdout",
     "output_type": "stream",
     "text": [
      "value: 10, x: 20\n"
     ]
    }
   ],
   "source": [
    "class MyClass:\n",
    "    def __init__(self, value):\n",
    "        self.value = value\n",
    "\n",
    "    def my_method(self, x):\n",
    "        print(f\"value: {self.value}, x: {x}\")\n",
    "\n",
    "# Creating an object of class MyClass\n",
    "obj = MyClass(10)\n",
    "\n",
    "# Calling the bound method on the object\n",
    "obj.my_method(20)   # Output: value: 10, x: 20\n"
   ]
  },
  {
   "cell_type": "code",
   "execution_count": 8,
   "id": "2a010c35",
   "metadata": {},
   "outputs": [],
   "source": [
    "# Q5. What is the purpose of pseudoprivate attributes?"
   ]
  },
  {
   "cell_type": "markdown",
   "id": "8a543c12",
   "metadata": {},
   "source": [
    "In Python, pseudoprivate attributes are attributes that are prefixed with two underscores (e.g., __attribute). These attributes are not truly private in the sense that they can still be accessed and modified from outside the class, but their names are mangled to prevent accidental name clashes with attributes in subclasses or in other parts of the program.\n",
    "\n",
    "The purpose of pseudoprivate attributes is to provide a degree of name privacy and encapsulation for attributes that are intended to be used only within a class or its subclasses. By prefixing an attribute name with two underscores, we indicate that the attribute is not part of the public interface of the class, and that it should not be accessed or modified from outside the class."
   ]
  },
  {
   "cell_type": "code",
   "execution_count": 9,
   "id": "eccd9664",
   "metadata": {},
   "outputs": [
    {
     "name": "stdout",
     "output_type": "stream",
     "text": [
      "10\n",
      "20\n"
     ]
    },
    {
     "ename": "AttributeError",
     "evalue": "'MyClass' object has no attribute '__value'",
     "output_type": "error",
     "traceback": [
      "\u001b[1;31m---------------------------------------------------------------------------\u001b[0m",
      "\u001b[1;31mAttributeError\u001b[0m                            Traceback (most recent call last)",
      "Input \u001b[1;32mIn [9]\u001b[0m, in \u001b[0;36m<cell line: 20>\u001b[1;34m()\u001b[0m\n\u001b[0;32m     17\u001b[0m \u001b[38;5;28mprint\u001b[39m(obj\u001b[38;5;241m.\u001b[39mget_value())    \u001b[38;5;66;03m# Output: 20\u001b[39;00m\n\u001b[0;32m     19\u001b[0m \u001b[38;5;66;03m# Trying to access the pseudoprivate attribute from outside the class\u001b[39;00m\n\u001b[1;32m---> 20\u001b[0m \u001b[38;5;28mprint\u001b[39m(\u001b[43mobj\u001b[49m\u001b[38;5;241;43m.\u001b[39;49m\u001b[43m__value\u001b[49m)\n",
      "\u001b[1;31mAttributeError\u001b[0m: 'MyClass' object has no attribute '__value'"
     ]
    }
   ],
   "source": [
    "class MyClass:\n",
    "    def __init__(self, value):\n",
    "        self.__value = value\n",
    "\n",
    "    def get_value(self):\n",
    "        return self.__value\n",
    "\n",
    "    def set_value(self, value):\n",
    "        self.__value = value\n",
    "\n",
    "# Creating an object of class MyClass\n",
    "obj = MyClass(10)\n",
    "\n",
    "# Accessing and modifying the pseudoprivate attribute\n",
    "print(obj.get_value())    # Output: 10\n",
    "obj.set_value(20)\n",
    "print(obj.get_value())    # Output: 20\n",
    "\n",
    "# Trying to access the pseudoprivate attribute from outside the class\n",
    "print(obj.__value)        # Raises AttributeError\n"
   ]
  },
  {
   "cell_type": "code",
   "execution_count": null,
   "id": "26116fb4",
   "metadata": {},
   "outputs": [],
   "source": []
  }
 ],
 "metadata": {
  "kernelspec": {
   "display_name": "Python 3 (ipykernel)",
   "language": "python",
   "name": "python3"
  },
  "language_info": {
   "codemirror_mode": {
    "name": "ipython",
    "version": 3
   },
   "file_extension": ".py",
   "mimetype": "text/x-python",
   "name": "python",
   "nbconvert_exporter": "python",
   "pygments_lexer": "ipython3",
   "version": "3.9.12"
  }
 },
 "nbformat": 4,
 "nbformat_minor": 5
}
