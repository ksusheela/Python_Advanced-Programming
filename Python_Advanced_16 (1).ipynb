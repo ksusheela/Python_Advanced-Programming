{
 "cells": [
  {
   "cell_type": "code",
   "execution_count": 1,
   "id": "194f9391",
   "metadata": {},
   "outputs": [],
   "source": [
    "# Q1. What is the benefit of regular expressions?"
   ]
  },
  {
   "cell_type": "markdown",
   "id": "3d997e0b",
   "metadata": {},
   "source": [
    "Regular expressions are a powerful tool for working with text data in Python and other programming languages. They provide a way to search, extract, and manipulate patterns of text data based on a set of rules or patterns defined by the user.\n",
    "\n",
    "Some of the key benefits of regular expressions in Python include:\n",
    "\n",
    "Text searching and manipulation: Regular expressions provide a powerful way to search and manipulate text data based on a set of rules or patterns. This can be particularly useful when working with large datasets or when dealing with complex patterns of text data.\n",
    "\n",
    "Efficient and flexible: Regular expressions are highly efficient and flexible, and can be used to match a wide range of patterns, from simple string patterns to more complex patterns involving wildcards, quantifiers, and character classes.\n",
    "\n",
    "Reusability: Regular expressions can be defined once and reused multiple times, which can save time and reduce code duplication.\n",
    "\n",
    "Cross-platform support: Regular expressions are supported by a wide range of programming languages and platforms, making them a portable and versatile tool for working with text data.\n",
    "\n",
    "Integration with Python: Python provides a built-in module called re for working with regular expressions, making it easy to integrate regular expressions into your Python code.\n",
    "\n",
    "In summary, regular expressions provide a powerful and flexible tool for working with text data in Python and other programming languages. They can be used for a wide range of tasks, from simple text searching and manipulation to more complex pattern matching and data extraction."
   ]
  },
  {
   "cell_type": "code",
   "execution_count": 2,
   "id": "e15d6a38",
   "metadata": {},
   "outputs": [],
   "source": [
    "# Q2. Describe the difference between the effects of \"(ab)c+\" and \"a(bc)+\"Which of these, if any, is the\n",
    "# unqualified pattern \"abc+\"\"?"
   ]
  },
  {
   "cell_type": "markdown",
   "id": "18ede011",
   "metadata": {},
   "source": [
    "The regular expressions \"(ab)c+\" and \"a(bc)+\" have different effects and match different patterns.\n",
    "\n",
    "\n",
    "The regular expression \"(ab)c+\" matches a sequence of characters that starts with the substring \"ab\" and is followed by one or more occurrences of the character \"c\". For example, it would match \"abc\", \"abcc\", \"abccc\", and so on, but not \"ab\" or \"ac\".\n",
    "\n",
    "\n",
    "The regular expression \"a(bc)+\" matches a sequence of characters that starts with the character \"a\" and is followed by one or more occurrences of the substring \"bc\". For example, it would match \"abc\", \"abcbc\", \"abcbcbc\", and so on, but not \"ac\" or \"bc\".\n",
    "\n",
    "\n",
    "The unqualified pattern \"abc+\" matches a sequence of characters that starts with the substring \"ab\" and is followed by one or more occurrences of the character \"c\". This is the same as the first pattern, \"(ab)c+\", but without the parentheses to group the \"ab\" substring together."
   ]
  },
  {
   "cell_type": "code",
   "execution_count": 3,
   "id": "24e1cf36",
   "metadata": {},
   "outputs": [],
   "source": [
    "# Q3. How much do you need to use the following sentence while using regular expressions?\n",
    "\n",
    "# import re"
   ]
  },
  {
   "cell_type": "markdown",
   "id": "d78af062",
   "metadata": {},
   "source": [
    "The sentence \"import re\" is required to use regular expressions in Python. The re module is a built-in Python module that provides support for regular expressions, and it must be imported before regular expressions can be used in your code.\n",
    "\n",
    "To use regular expressions in your Python code, you would typically start by importing the re module at the beginning of your script or module, like this:"
   ]
  },
  {
   "cell_type": "code",
   "execution_count": 19,
   "id": "dfbbad0f",
   "metadata": {},
   "outputs": [
    {
     "name": "stdout",
     "output_type": "stream",
     "text": [
      "Pattern found in text\n"
     ]
    }
   ],
   "source": [
    "import re\n",
    "\n",
    "text = \"The quick brown fox jumps over the lazy dog\"\n",
    "pattern = \"brown\"\n",
    "\n",
    "match = re.search(pattern, text)\n",
    "\n",
    "if match:\n",
    "    print(\"Pattern found in text\")\n",
    "else:\n",
    "    print(\"Pattern not found in text\")\n"
   ]
  },
  {
   "cell_type": "code",
   "execution_count": 5,
   "id": "2a72e639",
   "metadata": {},
   "outputs": [],
   "source": [
    "# Q4. Which characters have special significance in square brackets when expressing a range, and\n",
    "# under what circumstances?"
   ]
  },
  {
   "cell_type": "markdown",
   "id": "ade7084d",
   "metadata": {},
   "source": [
    "In regular expressions, square brackets ([]) are used to define a character set or a range of characters that should be matched. The characters inside the square brackets have special significance, and the following characters have special meaning when used inside square brackets to specify a range:\n",
    "\n",
    "\n",
    "Hyphen (-): The hyphen is used to specify a range of characters between two other characters. For example, the pattern [a-z] matches any lowercase letter from \"a\" to \"z\".\n",
    "\n",
    "\n",
    "Caret (^): The caret is used to negate the character set or range that follows it. For example, the pattern [^a-z] matches any character that is not a lowercase letter from \"a\" to \"z\".\n",
    "\n",
    "\n",
    "Backslash (): The backslash is used to escape a special character inside square brackets. For example, the pattern [\\[\\]] matches either an opening or closing square bracket.\n",
    "\n",
    "\n",
    "Other special characters: In some regex flavors, other special characters may have special meaning inside square brackets. For example, the period (.) may match a newline character in some regex flavors when used inside square brackets."
   ]
  },
  {
   "cell_type": "code",
   "execution_count": 6,
   "id": "e84852e8",
   "metadata": {},
   "outputs": [],
   "source": [
    "# Q5. How does compiling a regular-expression object benefit you?"
   ]
  },
  {
   "cell_type": "markdown",
   "id": "cbddfdc9",
   "metadata": {},
   "source": [
    "Compiling a regular expression object in Python using the re.compile() function provides several benefits, including:\n",
    "\n",
    "Improved performance: Compiling a regular expression object can improve the performance of your code, especially if you are using the same pattern repeatedly. When you compile a regular expression object, Python translates the regular expression into a more efficient internal representation, which can speed up matching operations.\n",
    "\n",
    "Code readability: Compiling a regular expression object can make your code more readable and easier to maintain. By defining a regular expression as a named object, you can give it a descriptive name that makes it clear what the regular expression is used for.\n",
    "\n",
    "Reuse of regular expressions: Once you have compiled a regular expression object, you can reuse it multiple times in your code without having to recompile the pattern each time. This can save time and improve performance.\n",
    "\n",
    "Error checking: When you compile a regular expression object, Python checks the syntax of the regular expression and raises an error if the pattern is invalid. This can help you catch errors early and ensure that your regular expressions are valid before they are used in your code.\n",
    "\n",
    "To use a compiled regular expression object in your code, you can create it using the re.compile() function, like this:\n",
    "\n",
    "python Copy code\n",
    "\n",
    "import re\n",
    "\n",
    "#Compile a regular expression object\n",
    "\n",
    "pattern = re.compile(r'\\d+')\n",
    "\n",
    "#Use the regular expression object to match a string\n",
    "\n",
    "match = pattern.search('The price is $19.99')\n",
    "\n",
    "if match:\n",
    "\n",
    "    print('Match found:', match.group())\n",
    "else:\n",
    "\n",
    "    print('No match found')\n",
    "    \n",
    "In this example, we compile a regular expression object that matches one or more digits (\\d+). We then use the regular expression object to search for a match in the string \"The price is $19.99\". If a match is found, we print a message indicating that the match was found and display the matched text.\n",
    "\n",
    "\n",
    "\n",
    "\n",
    "\n",
    "\n"
   ]
  },
  {
   "cell_type": "code",
   "execution_count": 7,
   "id": "63b57f06",
   "metadata": {},
   "outputs": [],
   "source": [
    "# Q6. What are some examples of how to use the match object returned by re.match and re.search?"
   ]
  },
  {
   "cell_type": "markdown",
   "id": "c4be118c",
   "metadata": {},
   "source": [
    "When you use re.match() or re.search() in Python to search for a regular expression pattern in a string, the function returns a match object if a match is found, or None if no match is found. The match object contains information about the match, such as the matched text, the position of the match in the original string, and any captured groups. Here are some examples of how to use the match object returned by re.match() and re.search():\n",
    "\n"
   ]
  },
  {
   "cell_type": "markdown",
   "id": "d6cb3284",
   "metadata": {},
   "source": [
    "Getting the matched text: You can get the text that was matched by the regular expression by calling the group() method on the match object. For example:"
   ]
  },
  {
   "cell_type": "code",
   "execution_count": 8,
   "id": "1721cbf0",
   "metadata": {},
   "outputs": [
    {
     "name": "stdout",
     "output_type": "stream",
     "text": [
      "Python\n"
     ]
    }
   ],
   "source": [
    "import re\n",
    "\n",
    "# Search for the word \"Python\" in a string\n",
    "match = re.search(r'Python', 'Python is a great programming language')\n",
    "\n",
    "# Get the matched text\n",
    "if match:\n",
    "    print(match.group())  # Output: \"Python\"\n"
   ]
  },
  {
   "cell_type": "markdown",
   "id": "e17db715",
   "metadata": {},
   "source": [
    "Getting the position of the match: You can get the starting and ending positions of the match in the original string by calling the start() and end() methods on the match object. For example:"
   ]
  },
  {
   "cell_type": "code",
   "execution_count": 9,
   "id": "dab3a6b2",
   "metadata": {},
   "outputs": [
    {
     "name": "stdout",
     "output_type": "stream",
     "text": [
      "0\n",
      "6\n"
     ]
    }
   ],
   "source": [
    "import re\n",
    "\n",
    "# Search for the word \"Python\" in a string\n",
    "match = re.search(r'Python', 'Python is a great programming language')\n",
    "\n",
    "# Get the position of the match\n",
    "if match:\n",
    "    print(match.start())  # Output: 0\n",
    "    print(match.end())    # Output: 6\n"
   ]
  },
  {
   "cell_type": "markdown",
   "id": "12e2cd09",
   "metadata": {},
   "source": [
    "Getting captured groups: If your regular expression contains capturing groups (expressions enclosed in parentheses), you can get the text that was captured by each group by calling the group() method on the match object with an argument that specifies the group number. For example:"
   ]
  },
  {
   "cell_type": "code",
   "execution_count": 10,
   "id": "720f8db0",
   "metadata": {},
   "outputs": [
    {
     "name": "stdout",
     "output_type": "stream",
     "text": [
      "Smith\n",
      "John\n"
     ]
    }
   ],
   "source": [
    "import re\n",
    "\n",
    "# Search for a name in a string in the format \"Last, First\"\n",
    "match = re.search(r'(\\w+), (\\w+)', 'Smith, John')\n",
    "\n",
    "# Get the captured groups\n",
    "if match:\n",
    "    print(match.group(1))  # Output: \"Smith\"\n",
    "    print(match.group(2))  # Output: \"John\"\n"
   ]
  },
  {
   "cell_type": "markdown",
   "id": "1d348cf7",
   "metadata": {},
   "source": [
    "Replacing matched text: You can use the sub() function in the re module to replace matched text with a new string. The sub() function takes a regular expression pattern, a replacement string, and the original string, and returns a new string with all occurrences of the pattern replaced with the replacement string. For example:"
   ]
  },
  {
   "cell_type": "code",
   "execution_count": 11,
   "id": "4cf6a3a7",
   "metadata": {},
   "outputs": [
    {
     "name": "stdout",
     "output_type": "stream",
     "text": [
      "Java is a great programming language\n"
     ]
    }
   ],
   "source": [
    "import re\n",
    "\n",
    "# Replace all occurrences of \"Python\" with \"Java\"\n",
    "new_string = re.sub(r'Python', 'Java', 'Python is a great programming language')\n",
    "\n",
    "print(new_string)  # Output: \"Java is a great programming language\"\n"
   ]
  },
  {
   "cell_type": "code",
   "execution_count": 12,
   "id": "8cdda4d0",
   "metadata": {},
   "outputs": [],
   "source": [
    "# Q7. What is the difference between using a vertical bar (|) as an alteration and using square brackets\n",
    "# as a character set?"
   ]
  },
  {
   "cell_type": "markdown",
   "id": "470da0f7",
   "metadata": {},
   "source": [
    "The vertical bar (|) and square brackets ([]) have different meanings and are used in different ways in regular expressions.\n",
    "\n",
    "The vertical bar is used to create an alteration or alternation group, which allows you to specify multiple alternative patterns that can match the same portion of the input string. The alternation group is enclosed in parentheses and the individual alternatives are separated by the vertical bar. For example, the regular expression foo|bar matches either \"foo\" or \"bar\" in the input string.\n",
    "\n",
    "On the other hand, square brackets are used to create a character set, which allows you to specify a set of characters that can match a single character in the input string. For example, the regular expression [abc] matches either \"a\", \"b\", or \"c\" in the input string.\n",
    "\n",
    "The key difference between the two is that the vertical bar creates an alternation between multiple patterns, whereas the square brackets create a character set with multiple characters that can match a single character in the input string"
   ]
  },
  {
   "cell_type": "code",
   "execution_count": 13,
   "id": "be718f04",
   "metadata": {},
   "outputs": [
    {
     "name": "stdout",
     "output_type": "stream",
     "text": [
      "foo\n",
      "foo\n"
     ]
    }
   ],
   "source": [
    "import re\n",
    "\n",
    "# Using a vertical bar to create an alternation group\n",
    "pattern1 = re.compile(r'foo|bar')\n",
    "match1 = pattern1.search('foo bar')\n",
    "print(match1.group())  # Output: \"foo\"\n",
    "\n",
    "# Using square brackets to create a character set\n",
    "pattern2 = re.compile(r'[fb]oo')\n",
    "match2 = pattern2.search('foo bar')\n",
    "print(match2.group())  # Output: \"foo\"\n"
   ]
  },
  {
   "cell_type": "code",
   "execution_count": 15,
   "id": "496219cc",
   "metadata": {},
   "outputs": [],
   "source": [
    "# Q8. In regular-expression search patterns, why is it necessary to use the raw-string indicator (r)? In  \n",
    "# replacement strings?"
   ]
  },
  {
   "cell_type": "markdown",
   "id": "78f8d916",
   "metadata": {},
   "source": [
    "It is recommended to use the raw-string indicator (r) when working with regular-expression search patterns and replacement strings in Python because it helps to avoid unexpected behavior due to escape characters.\n",
    "\n",
    "In regular-expression search patterns, raw strings ensure that escape sequences are not interpreted by Python before being passed to the regular expression engine. This is important because regular expressions often use special characters that require escape sequences (e.g., \\ for escaping special characters like ., +, *, etc.). If you do not use a raw string, Python may interpret these escape sequences before passing the pattern to the regular expression engine, resulting in unexpected behavior.\n",
    "\n",
    "In replacement strings, the raw-string indicator ensures that any backslashes in the replacement string are not interpreted as escape characters. This is important because backslashes are often used to refer to capture groups in replacement strings (e.g., \\1 to refer to the first capture group). If you do not use a raw string, Python may interpret backslashes as escape characters, resulting in unexpected behavior."
   ]
  },
  {
   "cell_type": "code",
   "execution_count": 14,
   "id": "d3e45d08",
   "metadata": {},
   "outputs": [
    {
     "name": "stdout",
     "output_type": "stream",
     "text": [
      "123\n",
      "123\n",
      "\u0002, \u0001\n",
      "Smith, John\n"
     ]
    }
   ],
   "source": [
    "import re\n",
    "\n",
    "# Without using a raw string in the pattern\n",
    "pattern1 = '\\d+'  # Not a raw string\n",
    "string1 = 'The number is 123.'\n",
    "match1 = re.search(pattern1, string1)\n",
    "print(match1.group())  # Output: \"123\"\n",
    "\n",
    "# Using a raw string in the pattern\n",
    "pattern2 = r'\\d+'  # Raw string\n",
    "string2 = 'The number is 123.'\n",
    "match2 = re.search(pattern2, string2)\n",
    "print(match2.group())  # Output: \"123\"\n",
    "\n",
    "# Without using a raw string in the replacement string\n",
    "pattern3 = '(\\w+) (\\w+)'\n",
    "string3 = 'John Smith'\n",
    "replacement3 = '\\2, \\1'  # Not a raw string\n",
    "result3 = re.sub(pattern3, replacement3, string3)\n",
    "print(result3)  # Output: \"Smith, John\"\n",
    "\n",
    "# Using a raw string in the replacement string\n",
    "pattern4 = r'(\\w+) (\\w+)'\n",
    "string4 = 'John Smith'\n",
    "replacement4 = r'\\2, \\1'  # Raw string\n",
    "result4 = re.sub(pattern4, replacement4, string4)\n",
    "print(result4)  # Output: \"Smith, John\"\n"
   ]
  },
  {
   "cell_type": "markdown",
   "id": "7bc4c158",
   "metadata": {},
   "source": [
    "In the first example, the regular expression pattern '\\d+' matches one or more digits in the input string. However, since '\\d+' is not a raw string, Python interprets the backslash character as an escape character and removes it before passing the pattern to the regular expression engine.\n",
    "\n",
    "In the second example, the regular expression pattern r'\\d+' is a raw string, so Python does not interpret the backslash character as an escape character and passes the pattern as-is to the regular expression engine.\n",
    "\n",
    "In the third example, the replacement string '\\2, \\1' replaces the captured groups in the input string with the second group followed by a comma and a space, and then the first group. However, since '\\2' and '\\1' are not raw strings, Python interprets the backslash characters as escape characters and removes them before passing the replacement string to the re.sub() function."
   ]
  },
  {
   "cell_type": "code",
   "execution_count": null,
   "id": "5e96034a",
   "metadata": {},
   "outputs": [],
   "source": []
  }
 ],
 "metadata": {
  "kernelspec": {
   "display_name": "Python 3 (ipykernel)",
   "language": "python",
   "name": "python3"
  },
  "language_info": {
   "codemirror_mode": {
    "name": "ipython",
    "version": 3
   },
   "file_extension": ".py",
   "mimetype": "text/x-python",
   "name": "python",
   "nbconvert_exporter": "python",
   "pygments_lexer": "ipython3",
   "version": "3.9.12"
  }
 },
 "nbformat": 4,
 "nbformat_minor": 5
}
