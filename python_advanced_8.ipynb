{
 "cells": [
  {
   "cell_type": "code",
   "execution_count": 1,
   "id": "80cb9417",
   "metadata": {},
   "outputs": [],
   "source": [
    "# Q1. What are the two latest user-defined exception constraints in Python 3.X?"
   ]
  },
  {
   "cell_type": "markdown",
   "id": "67bdfbdf",
   "metadata": {},
   "source": [
    "Python 3.X has not introduced any specific constraints or limitations for user-defined exceptions. The rules for defining user-defined exceptions are the same as in previous versions of Python.\n",
    "\n",
    "To define a custom exception in Python 3.X, you can create a new class that inherits from the Exception base class or any of its derived classes, such as ValueError, TypeError, etc. You can also define your own custom exception hierarchy by defining multiple classes that inherit from each other.\n",
    "\n",
    "One common practice when defining custom exceptions is to include an informative error message in the constructor of the exception class, which can help in debugging and error reporting."
   ]
  },
  {
   "cell_type": "code",
   "execution_count": 2,
   "id": "f3d4b023",
   "metadata": {},
   "outputs": [],
   "source": [
    "# class CustomException(Exception):\n",
    "#     def __init__(self, message):\n",
    "#         super().__init__(message)\n",
    "#         self.message = message\n"
   ]
  },
  {
   "cell_type": "code",
   "execution_count": 3,
   "id": "e75e8add",
   "metadata": {},
   "outputs": [],
   "source": [
    "# Q2. How are class-based exceptions that have been raised matched to handlers?"
   ]
  },
  {
   "cell_type": "markdown",
   "id": "cc2285f7",
   "metadata": {},
   "source": [
    "An exception handler that matches the type of the raised exception is a try/except block that specifies the same exception type as the one being raised, or a superclass of that exception type. If a matching exception handler is found, the block of code associated with the handler is executed. If no matching handler is found, the program terminates with an error message."
   ]
  },
  {
   "cell_type": "code",
   "execution_count": 4,
   "id": "63456bf2",
   "metadata": {},
   "outputs": [
    {
     "name": "stdout",
     "output_type": "stream",
     "text": [
      "CustomException was raised: Something went wrong\n"
     ]
    }
   ],
   "source": [
    "class CustomException(Exception):\n",
    "    pass\n",
    "\n",
    "try:\n",
    "    # some code that may raise CustomException\n",
    "    raise CustomException(\"Something went wrong\")\n",
    "except CustomException as e:\n",
    "    # handle CustomException\n",
    "    print(\"CustomException was raised:\", e)\n"
   ]
  },
  {
   "cell_type": "code",
   "execution_count": null,
   "id": "982f962b",
   "metadata": {},
   "outputs": [],
   "source": [
    "# Q3. Describe two methods for attaching context information to exception artefacts."
   ]
  },
  {
   "cell_type": "markdown",
   "id": "2715a283",
   "metadata": {},
   "source": [
    "Using the raise ... from ... syntax: When raising an exception in Python, you can use the raise ... from ... syntax to attach the original exception that caused the current exception to be raised. This can be helpful for propagating the root cause of an error across multiple layers of code. You can also use the __cause__ attribute of the exception object to access the original exception. Here's an example:"
   ]
  },
  {
   "cell_type": "code",
   "execution_count": 6,
   "id": "5ab638d6",
   "metadata": {},
   "outputs": [
    {
     "ename": "IndentationError",
     "evalue": "expected an indented block (2241019411.py, line 3)",
     "output_type": "error",
     "traceback": [
      "\u001b[1;36m  Input \u001b[1;32mIn [6]\u001b[1;36m\u001b[0m\n\u001b[1;33m    except Exception as e:\u001b[0m\n\u001b[1;37m    ^\u001b[0m\n\u001b[1;31mIndentationError\u001b[0m\u001b[1;31m:\u001b[0m expected an indented block\n"
     ]
    }
   ],
   "source": [
    "try:\n",
    "    # some code that may raise an exception\n",
    "except Exception as e:\n",
    "    # attach additional context information\n",
    "    raise Exception(\"An error occurred\") from e\n"
   ]
  },
  {
   "cell_type": "markdown",
   "id": "32507470",
   "metadata": {},
   "source": [
    "Using the __init__() method of the exception class: Another way to attach context information to an exception object is by defining an __init__() method for the exception class that takes additional arguments and stores them as instance variables. You can then access these instance variables later when handling the exception. Here's an example:"
   ]
  },
  {
   "cell_type": "code",
   "execution_count": 8,
   "id": "97229521",
   "metadata": {},
   "outputs": [],
   "source": [
    "# class CustomException(Exception):\n",
    "#     def __init__(self, message, context=None):\n",
    "#         super().__init__(message)\n",
    "#         self.context = context\n",
    "\n",
    "# try:\n",
    "#     # some code that may raise CustomException\n",
    "# except CustomException as e:\n",
    "#     # handle CustomException and access context information\n",
    "#     print(\"CustomException was raised:\", e)\n",
    "#     if e.context is not None:\n",
    "#         print(\"Context information:\", e.context)\n"
   ]
  },
  {
   "cell_type": "code",
   "execution_count": 11,
   "id": "43f3b637",
   "metadata": {},
   "outputs": [],
   "source": [
    "# Q4. Describe two methods for specifying the text of an exception object&#39;s error message."
   ]
  },
  {
   "cell_type": "markdown",
   "id": "fb3c1df7",
   "metadata": {},
   "source": [
    "When raising an exception in Python, you can specify the text of the exception object's error message in various ways. Here are two methods for doing so:\n",
    "\n",
    "Passing a string message to the exception constructor: When defining a custom exception class or raising a built-in exception in Python, you can pass a string message to the exception constructor to specify the error message. The message can be accessed later by calling the str() function on the exception object or by accessing the args attribute of the exception object. Here's an example:"
   ]
  },
  {
   "cell_type": "code",
   "execution_count": 9,
   "id": "185c9131",
   "metadata": {},
   "outputs": [
    {
     "name": "stdout",
     "output_type": "stream",
     "text": [
      "CustomException was raised with message: An error occurred\n"
     ]
    }
   ],
   "source": [
    "class CustomException(Exception):\n",
    "    pass\n",
    "\n",
    "try:\n",
    "    # some code that may raise CustomException\n",
    "    raise CustomException(\"An error occurred\")\n",
    "except CustomException as e:\n",
    "    # handle CustomException and access error message\n",
    "    print(\"CustomException was raised with message:\", str(e))\n"
   ]
  },
  {
   "cell_type": "code",
   "execution_count": 10,
   "id": "273df7f1",
   "metadata": {},
   "outputs": [],
   "source": [
    "# Q5. Why do you no longer use string-based exceptions?"
   ]
  },
  {
   "cell_type": "markdown",
   "id": "7d75236c",
   "metadata": {},
   "source": [
    "In earlier versions of Python, it was possible to raise and catch exceptions using string-based exception types. For example, you could raise an exception using a string like this:"
   ]
  },
  {
   "cell_type": "code",
   "execution_count": 12,
   "id": "879cf979",
   "metadata": {},
   "outputs": [],
   "source": [
    "# raise \"An error occurred\""
   ]
  },
  {
   "cell_type": "code",
   "execution_count": 13,
   "id": "1d2edb42",
   "metadata": {},
   "outputs": [],
   "source": [
    "# And you could catch it like this:\n",
    "# try:\n",
    "#     # some code that may raise an exception\n",
    "#     raise \"An error occurred\"\n",
    "# except \"An error occurred\":\n",
    "#     # handle the exception\n",
    "#     pass\n"
   ]
  },
  {
   "cell_type": "markdown",
   "id": "0386c3c0",
   "metadata": {},
   "source": [
    "However, this approach has been deprecated in Python 2 and removed in Python 3. The main reasons for this are:\n",
    "\n",
    "Code clarity: Using string-based exceptions makes code less clear and more difficult to read and understand. It is not immediately clear what type of exception is being raised or caught.\n",
    "\n",
    "No compile-time checks: Since string-based exceptions are just plain strings, there are no compile-time checks to ensure that the exception type exists or is spelled correctly. This can lead to runtime errors that are difficult to debug.\n",
    "\n",
    "Reduced functionality: String-based exceptions do not support all the features of class-based exceptions, such as inheritance and custom attributes. This limits the functionality and flexibility of exception handling in Python."
   ]
  },
  {
   "cell_type": "code",
   "execution_count": null,
   "id": "0c18d1a6",
   "metadata": {},
   "outputs": [],
   "source": []
  }
 ],
 "metadata": {
  "kernelspec": {
   "display_name": "Python 3 (ipykernel)",
   "language": "python",
   "name": "python3"
  },
  "language_info": {
   "codemirror_mode": {
    "name": "ipython",
    "version": 3
   },
   "file_extension": ".py",
   "mimetype": "text/x-python",
   "name": "python",
   "nbconvert_exporter": "python",
   "pygments_lexer": "ipython3",
   "version": "3.9.12"
  }
 },
 "nbformat": 4,
 "nbformat_minor": 5
}
