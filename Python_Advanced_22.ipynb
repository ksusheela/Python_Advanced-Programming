{
 "cells": [
  {
   "cell_type": "code",
   "execution_count": 1,
   "id": "e3edab78",
   "metadata": {},
   "outputs": [],
   "source": [
    "# Q1. What are the benefits of the built-in array package, if any?"
   ]
  },
  {
   "cell_type": "markdown",
   "id": "e918ccf5",
   "metadata": {},
   "source": [
    "The built-in array package in many programming languages offers several benefits, including:\n",
    "\n",
    "Simple syntax: Arrays offer a simple syntax for storing and accessing multiple values of the same data type.\n",
    "\n",
    "Random access: Arrays provide fast and efficient random access to individual elements based on their index.\n",
    "\n",
    "Memory efficiency: Arrays are memory-efficient because they store data in contiguous blocks of memory, allowing for easy and efficient traversal.\n",
    "\n",
    "Versatility: Arrays can be used to represent a wide variety of data structures, such as stacks, queues, and matrices.\n",
    "\n",
    "Built-in operations: Many programming languages provide built-in array operations, such as sorting and searching, that make it easy to manipulate and analyze array data.\n",
    "\n",
    "Portability: Arrays can be easily serialized and transmitted across different systems, making them a versatile and portable data structure.\n",
    "\n",
    "Overall, the built-in array package is a powerful tool that provides programmers with a flexible and efficient way to store and manipulate large amounts of data."
   ]
  },
  {
   "cell_type": "code",
   "execution_count": 2,
   "id": "ef5e894e",
   "metadata": {},
   "outputs": [],
   "source": [
    "# Q2. What are some of the array package's limitations?"
   ]
  },
  {
   "cell_type": "markdown",
   "id": "ee01fc3d",
   "metadata": {},
   "source": [
    "While the array package is a useful tool for storing and manipulating data, it also has some limitations that programmers should be aware of:\n",
    "\n",
    "Fixed size: Arrays are typically of fixed size, which means that they cannot be easily resized once they are created. This can be a limitation when dealing with data that is dynamic or when the size of the array needs to change frequently.\n",
    "\n",
    "Homogeneity: Arrays typically store data of a single data type. This means that if you want to store data of different types, you may need to create multiple arrays or use a more complex data structure.\n",
    "\n",
    "Inefficient insertion and deletion: Inserting or deleting elements in an array can be inefficient, especially for large arrays. This is because elements need to be shifted in memory to maintain the contiguous block of memory used by the array.\n",
    "\n",
    "Lack of flexibility: Arrays are a relatively inflexible data structure and may not be suitable for all use cases. For example, they are not well-suited for representing hierarchical data structures or graphs.\n",
    "\n",
    "Null elements: Arrays typically cannot store null elements or empty spaces. This means that if you need to represent missing or undefined values, you may need to use a more complex data structure.\n",
    "\n",
    "Not thread-safe: Arrays are typically not thread-safe, which means that multiple threads may attempt to access or modify the same element concurrently, leading to race conditions and other synchronization issues.\n",
    "\n",
    "Overall, while the array package is a useful tool, it is important to understand its limitations and to choose the right data structure for the task at hand.\n",
    "\n",
    "\n",
    "\n",
    "\n",
    "\n"
   ]
  },
  {
   "cell_type": "code",
   "execution_count": 3,
   "id": "19a3f7d4",
   "metadata": {},
   "outputs": [],
   "source": [
    "# Q3. Describe the main differences between the array and numpy packages."
   ]
  },
  {
   "cell_type": "markdown",
   "id": "69f5d17a",
   "metadata": {},
   "source": [
    "The main differences between the built-in array package and NumPy are as follows:\n",
    "\n",
    "Data types: The built-in array package can only store elements of a single data type, whereas NumPy supports a wider range of data types, including integers, floating-point numbers, and complex numbers.\n",
    "\n",
    "Multi-dimensional arrays: The built-in array package can only handle one-dimensional arrays, whereas NumPy provides support for multi-dimensional arrays, which are commonly used to represent matrices and tensors.\n",
    "\n",
    "Broadcasting: NumPy provides support for broadcasting, which allows for efficient element-wise operations between arrays of different shapes and sizes.\n",
    "\n",
    "Vectorization: NumPy provides support for vectorization, which allows for faster and more efficient element-wise operations between arrays, by executing the operation on an entire array rather than iterating over each element.\n",
    "\n",
    "Mathematical operations: NumPy provides a wide range of mathematical and statistical functions that can be applied to arrays, making it easier to perform complex mathematical operations on large datasets.\n",
    "\n",
    "Memory efficiency: NumPy is designed to be more memory-efficient than the built-in array package, especially for large datasets. This is achieved through the use of efficient memory management techniques and data storage formats.\n",
    "\n",
    "In summary, while the built-in array package is a basic tool for storing and manipulating arrays of a single data type, NumPy provides a more powerful and efficient solution for handling multi-dimensional arrays, performing complex mathematical operations, and optimizing memory usage.\n",
    "\n",
    "\n",
    "\n",
    "\n",
    "\n"
   ]
  },
  {
   "cell_type": "code",
   "execution_count": 4,
   "id": "42882e41",
   "metadata": {},
   "outputs": [],
   "source": [
    "# Q4. Explain the distinctions between the empty, ones, and zeros functions."
   ]
  },
  {
   "cell_type": "markdown",
   "id": "e74227a3",
   "metadata": {},
   "source": [
    "The NumPy package provides three functions for creating arrays with a specified shape and data type: numpy.empty(), numpy.ones(), and numpy.zeros(). These functions differ in their behavior as follows:\n",
    "\n",
    "numpy.empty(): This function creates a new array with a specified shape and data type, but does not initialize its values. Instead, the values in the array are arbitrary and may depend on the current state of the memory.\n",
    "\n",
    "numpy.ones(): This function creates a new array with a specified shape and data type, where all elements in the array are set to 1.\n",
    "\n",
    "numpy.zeros(): This function creates a new array with a specified shape and data type, where all elements in the array are set to 0."
   ]
  },
  {
   "cell_type": "code",
   "execution_count": 5,
   "id": "e162d74e",
   "metadata": {},
   "outputs": [
    {
     "name": "stdout",
     "output_type": "stream",
     "text": [
      "[[7274610 7471207 7143521]\n",
      " [6029427 6881357 7471203]]\n",
      "[[1. 1. 1.]\n",
      " [1. 1. 1.]]\n",
      "[[False False False]\n",
      " [False False False]]\n"
     ]
    }
   ],
   "source": [
    "import numpy as np\n",
    "\n",
    "# create an empty array of shape (2, 3) with data type int\n",
    "arr_empty = np.empty((2, 3), dtype=int)\n",
    "print(arr_empty)\n",
    "\n",
    "# create an array of shape (2, 3) filled with ones and data type float\n",
    "arr_ones = np.ones((2, 3), dtype=float)\n",
    "print(arr_ones)\n",
    "\n",
    "# create an array of shape (2, 3) filled with zeros and data type bool\n",
    "arr_zeros = np.zeros((2, 3), dtype=bool)\n",
    "print(arr_zeros)\n"
   ]
  },
  {
   "cell_type": "code",
   "execution_count": 6,
   "id": "d59e3b0a",
   "metadata": {},
   "outputs": [],
   "source": [
    "# Q5. In the fromfunction function, which is used to construct new arrays, what is the role of the callable\n",
    "# argument?"
   ]
  },
  {
   "cell_type": "markdown",
   "id": "0afbcefa",
   "metadata": {},
   "source": [
    "The numpy.fromfunction() function is used to construct new arrays by executing a specified function over each element in the array. The function takes two arguments: shape and callable.\n",
    "\n",
    "The shape argument is a tuple that specifies the shape of the output array. The callable argument is a function that takes the indices of the array as input and returns the value of the corresponding element in the array.\n",
    "\n",
    "The callable argument plays a crucial role in determining the values of the elements in the output array. The function should take the form of func(i, j, ...) where i, j, etc. represent the indices of the array along each dimension. The function can be defined using a lambda function or any other callable object, such as a function or a method.\n",
    "\n",
    "For example, consider the following code that creates a 3x3 array with the values of each element determined by the sum of its indices:"
   ]
  },
  {
   "cell_type": "code",
   "execution_count": 9,
   "id": "73f35c50",
   "metadata": {},
   "outputs": [
    {
     "name": "stdout",
     "output_type": "stream",
     "text": [
      "[[0. 1. 2.]\n",
      " [1. 2. 3.]\n",
      " [2. 3. 4.]]\n"
     ]
    }
   ],
   "source": [
    "import numpy as np\n",
    "\n",
    "def sum_indices(i, j):\n",
    "    return i + j\n",
    "\n",
    "arr = np.fromfunction(sum_indices, (3, 3))\n",
    "print(arr)\n"
   ]
  },
  {
   "cell_type": "code",
   "execution_count": 8,
   "id": "defe864b",
   "metadata": {},
   "outputs": [],
   "source": [
    "# Q6. What happens when a numpy array is combined with a single-value operand (a scalar, such as\n",
    "# an int or a floating-point value) through addition, as in the expression A + n?"
   ]
  },
  {
   "cell_type": "markdown",
   "id": "8db49d67",
   "metadata": {},
   "source": [
    "When a NumPy array is combined with a single-value operand through addition, such as in the expression A + n, where A is a NumPy array and n is a scalar value, the scalar value is added to each element in the array. This operation is called scalar addition or broadcasting.\n",
    "\n",
    "In NumPy, scalar addition is performed element-wise, meaning that each element in the array is added to the scalar value. The resulting array has the same shape as the original array, and each element in the resulting array is equal to the corresponding element in the original array plus the scalar value.\n",
    "\n",
    "For example, consider the following code that demonstrates scalar addition:"
   ]
  },
  {
   "cell_type": "code",
   "execution_count": 10,
   "id": "6e4be67c",
   "metadata": {},
   "outputs": [
    {
     "name": "stdout",
     "output_type": "stream",
     "text": [
      "[[11 12 13]\n",
      " [14 15 16]\n",
      " [17 18 19]]\n"
     ]
    }
   ],
   "source": [
    "import numpy as np\n",
    "\n",
    "A = np.array([[1, 2, 3], [4, 5, 6], [7, 8, 9]])\n",
    "n = 10\n",
    "\n",
    "B = A + n\n",
    "\n",
    "print(B)\n"
   ]
  },
  {
   "cell_type": "markdown",
   "id": "926d3bf8",
   "metadata": {},
   "source": [
    "In this example, the scalar value n is added to each element in the array A using the + operator. The resulting array B has the same shape as A, and each element in B is equal to the corresponding element in A plus 10. The output of the above code is:"
   ]
  },
  {
   "cell_type": "code",
   "execution_count": 11,
   "id": "3f9c35e3",
   "metadata": {},
   "outputs": [],
   "source": [
    "# Q7. Can array-to-scalar operations use combined operation-assign operators (such as += or *=)?\n",
    "# What is the outcome?"
   ]
  },
  {
   "cell_type": "markdown",
   "id": "8890aa2e",
   "metadata": {},
   "source": [
    "Yes, array-to-scalar operations can use combined operation-assign operators such as += or *=. These operators perform an in-place modification of the array by combining the specified operation with the scalar value and assigning the result back to the array.\n",
    "\n",
    "When a combined operation-assign operator is used with an array and a scalar value, the scalar value is combined with each element in the array according to the specified operation, and the resulting array is then assigned back to the original array.\n",
    "\n",
    "For example, consider the following code that demonstrates the use of combined operation-assign operators:"
   ]
  },
  {
   "cell_type": "code",
   "execution_count": 12,
   "id": "35018690",
   "metadata": {},
   "outputs": [
    {
     "name": "stdout",
     "output_type": "stream",
     "text": [
      "[11 12 13]\n",
      "[22 24 26]\n"
     ]
    }
   ],
   "source": [
    "import numpy as np\n",
    "\n",
    "A = np.array([1, 2, 3])\n",
    "n = 10\n",
    "\n",
    "A += n\n",
    "print(A)\n",
    "\n",
    "A *= 2\n",
    "print(A)\n"
   ]
  },
  {
   "cell_type": "code",
   "execution_count": 13,
   "id": "f42a0f8d",
   "metadata": {},
   "outputs": [],
   "source": [
    "# Q8. Does a numpy array contain fixed-length strings? What happens if you allocate a longer string to\n",
    "# one of these arrays?"
   ]
  },
  {
   "cell_type": "markdown",
   "id": "84c19a7f",
   "metadata": {},
   "source": [
    "Yes, NumPy arrays can contain fixed-length strings using the dtype parameter with the numpy.string_ type.\n",
    "\n",
    "When an array with fixed-length strings is allocated, each element of the array is assigned a fixed length and data type, which is determined by the dtype parameter. If a longer string is assigned to one of the elements of the array, the string will be truncated to fit within the allocated length, and the resulting string will be padded with null characters."
   ]
  },
  {
   "cell_type": "code",
   "execution_count": 14,
   "id": "e1403e3d",
   "metadata": {},
   "outputs": [
    {
     "name": "stdout",
     "output_type": "stream",
     "text": [
      "[b'h' b'w' b't']\n"
     ]
    }
   ],
   "source": [
    "import numpy as np\n",
    "\n",
    "arr = np.zeros(3, dtype=np.string_)\n",
    "arr[0] = 'hello'\n",
    "arr[1] = 'world'\n",
    "arr[2] = 'this is a longer string'\n",
    "\n",
    "print(arr)\n"
   ]
  },
  {
   "cell_type": "markdown",
   "id": "2af4250e",
   "metadata": {},
   "source": [
    "In this example, an array of length 3 is allocated with a data type of numpy.string_. The first two elements of the array are assigned shorter strings, while the third element is assigned a longer string. When the array is printed, the output is:"
   ]
  },
  {
   "cell_type": "code",
   "execution_count": 15,
   "id": "c0f4e814",
   "metadata": {},
   "outputs": [],
   "source": [
    "# Q9. What happens when you combine two numpy arrays using an operation like addition (+) or\n",
    "# multiplication (*)? What are the conditions for combining two numpy arrays?"
   ]
  },
  {
   "cell_type": "markdown",
   "id": "1b3abf1e",
   "metadata": {},
   "source": [
    "When two NumPy arrays are combined using an operation like addition (+) or multiplication (*), the operation is performed element-wise between the two arrays. That is, the corresponding elements of the two arrays are combined using the specified operation to produce a new array with the same shape as the original arrays.\n",
    "\n",
    "The conditions for combining two NumPy arrays are that they must have the same shape and the same data type. If the arrays have different shapes or data types, NumPy will try to broadcast the arrays to a common shape before performing the operation. If broadcasting is not possible, a ValueError will be raised."
   ]
  },
  {
   "cell_type": "code",
   "execution_count": 16,
   "id": "5ca3ab6d",
   "metadata": {},
   "outputs": [
    {
     "name": "stdout",
     "output_type": "stream",
     "text": [
      "[5 7 9]\n",
      "[ 4 10 18]\n"
     ]
    }
   ],
   "source": [
    "import numpy as np\n",
    "\n",
    "A = np.array([1, 2, 3])\n",
    "B = np.array([4, 5, 6])\n",
    "\n",
    "C = A + B\n",
    "D = A * B\n",
    "\n",
    "print(C)\n",
    "print(D)\n"
   ]
  },
  {
   "cell_type": "code",
   "execution_count": 17,
   "id": "43a96aa7",
   "metadata": {},
   "outputs": [],
   "source": [
    "# Q10. What is the best way to use a Boolean array to mask another array?"
   ]
  },
  {
   "cell_type": "markdown",
   "id": "fd80eab1",
   "metadata": {},
   "source": [
    "The best way to use a Boolean array to mask another array is by using NumPy's indexing functionality. NumPy provides a powerful indexing mechanism that allows you to select elements from an array based on a Boolean mask. Here's an example:"
   ]
  },
  {
   "cell_type": "code",
   "execution_count": 18,
   "id": "d38734c1",
   "metadata": {},
   "outputs": [
    {
     "name": "stdout",
     "output_type": "stream",
     "text": [
      "[1 3]\n"
     ]
    }
   ],
   "source": [
    "import numpy as np\n",
    "\n",
    "# Create a sample array\n",
    "arr = np.array([1, 2, 3, 4, 5])\n",
    "\n",
    "# Create a Boolean mask\n",
    "mask = np.array([True, False, True, False, False])\n",
    "\n",
    "# Mask the array using the Boolean mask\n",
    "masked_arr = arr[mask]\n",
    "\n",
    "# Print the masked array\n",
    "print(masked_arr)\n"
   ]
  },
  {
   "cell_type": "code",
   "execution_count": 19,
   "id": "ff7ede4b",
   "metadata": {},
   "outputs": [],
   "source": [
    "# Q11. What are three different ways to get the standard deviation of a wide collection of data using\n",
    "# both standard Python and its packages? Sort the three of them by how quickly they execute."
   ]
  },
  {
   "cell_type": "code",
   "execution_count": 20,
   "id": "96486e79",
   "metadata": {},
   "outputs": [],
   "source": [
    "import numpy as np\n",
    "\n",
    "data = np.array([1, 2, 3, 4, 5])\n",
    "std = np.std(data)\n"
   ]
  },
  {
   "cell_type": "code",
   "execution_count": 21,
   "id": "b5de3bcd",
   "metadata": {},
   "outputs": [],
   "source": [
    "import statistics\n",
    "\n",
    "data = [1, 2, 3, 4, 5]\n",
    "std = statistics.stdev(data)\n"
   ]
  },
  {
   "cell_type": "code",
   "execution_count": 22,
   "id": "2055d465",
   "metadata": {},
   "outputs": [],
   "source": [
    "import math\n",
    "\n",
    "data = [1, 2, 3, 4, 5]\n",
    "mean = sum(data) / len(data)\n",
    "variance = sum((x - mean) ** 2 for x in data) / len(data)\n",
    "std = math.sqrt(variance)\n"
   ]
  },
  {
   "cell_type": "code",
   "execution_count": 23,
   "id": "755d605c",
   "metadata": {},
   "outputs": [],
   "source": [
    "# 12. What is the dimensionality of a Boolean mask-generated array?"
   ]
  },
  {
   "cell_type": "markdown",
   "id": "76a34c21",
   "metadata": {},
   "source": [
    "The dimensionality of a Boolean mask-generated array is equal to the number of True values in the Boolean mask.\n",
    "\n",
    "When you use a Boolean mask to index an array, you get a new array that only contains the elements where the Boolean mask is True. The shape of this new array is determined by the number of True values in the Boolean mask. For example, if you have a 1D array of length 5 and a Boolean mask with 2 True values, the resulting masked array will be a 1D array of length 2.\n",
    "\n",
    "Here's an example to illustrate this:"
   ]
  },
  {
   "cell_type": "code",
   "execution_count": 24,
   "id": "0bd82200",
   "metadata": {},
   "outputs": [
    {
     "name": "stdout",
     "output_type": "stream",
     "text": [
      "(2,)\n"
     ]
    }
   ],
   "source": [
    "import numpy as np\n",
    "\n",
    "# Create an array\n",
    "a = np.array([1, 2, 3, 4, 5])\n",
    "\n",
    "# Create a Boolean mask\n",
    "mask = np.array([True, False, True, False, False])\n",
    "\n",
    "# Index the array using the Boolean mask\n",
    "masked_array = a[mask]\n",
    "\n",
    "# Print the shape of the masked array\n",
    "print(masked_array.shape)\n"
   ]
  },
  {
   "cell_type": "code",
   "execution_count": null,
   "id": "f75c439d",
   "metadata": {},
   "outputs": [],
   "source": []
  }
 ],
 "metadata": {
  "kernelspec": {
   "display_name": "Python 3 (ipykernel)",
   "language": "python",
   "name": "python3"
  },
  "language_info": {
   "codemirror_mode": {
    "name": "ipython",
    "version": 3
   },
   "file_extension": ".py",
   "mimetype": "text/x-python",
   "name": "python",
   "nbconvert_exporter": "python",
   "pygments_lexer": "ipython3",
   "version": "3.9.12"
  }
 },
 "nbformat": 4,
 "nbformat_minor": 5
}
