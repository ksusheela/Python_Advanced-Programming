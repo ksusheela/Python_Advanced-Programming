{
 "cells": [
  {
   "cell_type": "code",
   "execution_count": 1,
   "id": "65f71132",
   "metadata": {},
   "outputs": [],
   "source": [
    "# Q1. Explain the difference between greedy and non-greedy syntax with visual terms in as few words\n",
    "# as possible. What is the bare minimum effort required to transform a greedy pattern into a non-greedy\n",
    "# one? What characters or characters can you introduce or change?"
   ]
  },
  {
   "cell_type": "markdown",
   "id": "95053415",
   "metadata": {},
   "source": [
    "In regular expressions, a greedy syntax matches the longest possible string that satisfies the pattern, while a non-greedy syntax matches the shortest possible string.\n",
    "\n",
    "To transform a greedy pattern into a non-greedy one, you can introduce a question mark after the quantifier character. For example, changing .* to .*? will make the matching non-greedy. The question mark transforms the greedy quantifier into a non-greedy one.\n",
    "\n",
    "Alternatively, you can use a different quantifier character altogether. For example, changing * to *+ will make the matching non-greedy. The + quantifier matches one or more occurrences of the previous character, but does so in a non-greedy manner."
   ]
  },
  {
   "cell_type": "code",
   "execution_count": 2,
   "id": "576b64a7",
   "metadata": {},
   "outputs": [],
   "source": [
    "# Q2. When exactly does greedy versus non-greedy make a difference?  What if you&#39;re looking for a\n",
    "# non-greedy match but the only one available is greedy?"
   ]
  },
  {
   "cell_type": "markdown",
   "id": "cb6080aa",
   "metadata": {},
   "source": [
    "Greedy versus non-greedy makes a difference in regular expressions when there are multiple matches possible for a given pattern within a string. In such cases, greedy matching would match the longest possible substring that satisfies the pattern, while non-greedy matching would match the shortest possible substring that satisfies the pattern.\n",
    "\n",
    "If you are looking for a non-greedy match but the only one available is greedy, you can try modifying the pattern by adding a non-greedy quantifier, such as *? or +?. If that does not work, you can try using negative lookahead or lookbehind assertions to exclude certain substrings from the match. In some cases, you may need to use a more complex pattern or a different tool altogether to achieve the desired result."
   ]
  },
  {
   "cell_type": "code",
   "execution_count": 3,
   "id": "b7cecd7d",
   "metadata": {},
   "outputs": [],
   "source": [
    "# Q3. In a simple match of a string, which looks only for one match and does not do any replacement, is\n",
    "# the use of a nontagged group likely to make any practical difference?"
   ]
  },
  {
   "cell_type": "markdown",
   "id": "ffd053a3",
   "metadata": {},
   "source": [
    "In a simple match of a string where only one match is expected and no replacement is required, the use of a non-tagged group is unlikely to make any practical difference.\n",
    "\n",
    "A non-tagged group is a group that is used for grouping purposes only and does not capture the matched substring for later use in the regular expression or replacement string. It is denoted by the use of non-capturing parentheses (?:...) instead of capturing parentheses (...).\n",
    "\n",
    "If the matched substring is not going to be used in the regular expression or replacement string, there is no need to capture it using tagged or non-tagged groups. The use of non-tagged groups may slightly improve the performance of the regular expression engine, but the difference is likely to be negligible for simple patterns.\n",
    "\n",
    "However, if the regular expression is more complex and involves multiple groups and backreferences, the use of non-tagged groups may help to reduce confusion and improve readability of the regular expression."
   ]
  },
  {
   "cell_type": "code",
   "execution_count": 5,
   "id": "01592bf5",
   "metadata": {},
   "outputs": [],
   "source": [
    "# Q4. Describe a scenario in which using a nontagged category would have a significant impact on the\n",
    "# programs outcomes."
   ]
  },
  {
   "cell_type": "markdown",
   "id": "4d119465",
   "metadata": {},
   "source": [
    "Using a non-tagged category can have a significant impact on the program's outcomes in certain scenarios where capturing the matched substring can lead to unexpected or undesirable behavior.\n",
    "\n",
    "One example is when using a regular expression to extract data from a large text file. If the regular expression contains capturing groups that match the same substring multiple times, the resulting output may contain duplicate data that needs to be removed manually. In such cases, using non-tagged groups instead of capturing groups can prevent the duplication of data.\n",
    "\n",
    "Another example is when using a regular expression to validate user input in a web form. If the regular expression contains capturing groups that match sensitive information, such as passwords or credit card numbers, capturing and storing the matched substrings can pose a security risk. In such cases, using non-tagged groups can help to protect user privacy and prevent data breaches.\n",
    "\n",
    "In both of these scenarios, using non-tagged groups can have a significant impact on the program's outcomes by improving efficiency, reducing errors, and enhancing security.\n"
   ]
  },
  {
   "cell_type": "code",
   "execution_count": 6,
   "id": "cda7b3a0",
   "metadata": {},
   "outputs": [],
   "source": [
    "# Q5. Unlike a normal regex pattern, a look-ahead condition does not consume the characters it\n",
    "# examines. Describe a situation in which this could make a difference in the results of your\n",
    "# programme. "
   ]
  },
  {
   "cell_type": "markdown",
   "id": "58f23b5b",
   "metadata": {},
   "source": [
    "A look-ahead condition in a regular expression is a zero-width assertion that matches a pattern only if it is followed by another pattern, without consuming the characters that make up the second pattern. This can make a difference in the results of a program in situations where the text to be matched contains overlapping patterns.\n",
    "\n",
    "For example, consider a regular expression that matches all occurrences of the pattern aba followed by the pattern cab in a given string. If we use a normal regex pattern to match these patterns, it would consume the characters that make up the first pattern aba, and thus, it would not be able to match the second occurrence of the pattern if it overlaps with the first one, as shown below:"
   ]
  },
  {
   "cell_type": "code",
   "execution_count": 10,
   "id": "732e03a2",
   "metadata": {},
   "outputs": [],
   "source": [
    "# Pattern: (aba)cab\n",
    "# Input string: abacababa\n",
    "# Normal match: abacab\n"
   ]
  },
  {
   "cell_type": "markdown",
   "id": "cbb210b9",
   "metadata": {},
   "source": [
    "As we can see, the normal matching algorithm matches only the first occurrence of the pattern, because the second occurrence overlaps with the first one.\n",
    "\n",
    "On the other hand, if we use a look-ahead condition to match these patterns, it would not consume the characters that make up the first pattern aba, and thus, it would be able to match the second occurrence even if it overlaps with the first one, as shown below:"
   ]
  },
  {
   "cell_type": "code",
   "execution_count": 11,
   "id": "6341d8fd",
   "metadata": {},
   "outputs": [],
   "source": [
    "# Pattern: (aba)(?=cab)\n",
    "# Input string: abacababa\n",
    "# Look-ahead match: abacab, aba\n"
   ]
  },
  {
   "cell_type": "code",
   "execution_count": 12,
   "id": "57eee555",
   "metadata": {},
   "outputs": [],
   "source": [
    "# Q6. In standard expressions, what is the difference between positive look-ahead and negative look-\n",
    "# ahead?"
   ]
  },
  {
   "cell_type": "markdown",
   "id": "feddd06a",
   "metadata": {},
   "source": [
    "In regular expressions, a look-ahead assertion is a zero-width assertion that matches a pattern only if it is followed by another pattern. There are two types of look-ahead assertions: positive and negative.\n",
    "\n",
    "A positive look-ahead assertion is denoted by (?=...) and matches the first pattern only if it is followed by the second pattern. It is used to specify a condition that must be true for the first pattern to match, without including the second pattern in the match. For example, the regular expression foo(?=bar) matches the word \"foo\" only if it is followed by the word \"bar\", but it does not include the word \"bar\" in the match.\n",
    "\n",
    "A negative look-ahead assertion is denoted by (?!...) and matches the first pattern only if it is not followed by the second pattern. It is used to specify a condition that must be false for the first pattern to match, without including the second pattern in the match. For example, the regular expression foo(?!bar) matches the word \"foo\" only if it is not followed by the word \"bar\", but it does not include the word \"bar\" in the match.\n",
    "\n",
    "In summary, positive look-ahead assertions match the first pattern if it is followed by a specific pattern, while negative look-ahead assertions match the first pattern if it is not followed by a specific pattern. Both types of look-ahead assertions are useful in a variety of regular expression applications, including text parsing, data validation, and string manipulation.\n",
    "\n"
   ]
  },
  {
   "cell_type": "code",
   "execution_count": 13,
   "id": "609a045b",
   "metadata": {},
   "outputs": [],
   "source": [
    "# Q7. What is the benefit of referring to groups by name rather than by number in a standard\n",
    "# expression?"
   ]
  },
  {
   "cell_type": "markdown",
   "id": "00849c64",
   "metadata": {},
   "source": [
    "Referring to groups by name rather than by number in a regular expression has several benefits:\n",
    "\n",
    "Readability: Using named groups makes the regular expression more readable and easier to understand, especially for complex patterns that contain multiple groups.\n",
    "\n",
    "Maintainability: When the regular expression needs to be modified or updated, referring to groups by name makes it easier to make changes without having to worry about changing the order or number of the groups.\n",
    "\n",
    "Clarity: Named groups make the intent of the regular expression clearer, as the names can be chosen to reflect the meaning or purpose of the group.\n",
    "\n",
    "Reusability: Named groups can be reused within the same regular expression, which can reduce redundancy and make the regular expression more concise.\n",
    "\n",
    "Accessibility: Using named groups can make the regular expression more accessible to other developers, especially those who are not familiar with the specific numbering system used in the regular expression engine being used.\n",
    "\n",
    "In summary, using named groups in a regular expression improves readability, maintainability, clarity, reusability, and accessibility, making it easier to create and maintain regular expressions that are effective and efficient."
   ]
  },
  {
   "cell_type": "code",
   "execution_count": 15,
   "id": "3181e517",
   "metadata": {},
   "outputs": [],
   "source": [
    "# Q8. Can you identify repeated items within a target string using named groups, as in \"The cow\n",
    "# jumped over the moon\"?"
   ]
  },
  {
   "cell_type": "markdown",
   "id": "5a06da00",
   "metadata": {},
   "source": [
    "Yes, you can identify repeated items within a target string using named groups. Here's an example using the string \"The cow jumped over the moon\":"
   ]
  },
  {
   "cell_type": "code",
   "execution_count": 16,
   "id": "745baaa9",
   "metadata": {},
   "outputs": [
    {
     "name": "stdout",
     "output_type": "stream",
     "text": [
      "[]\n"
     ]
    }
   ],
   "source": [
    "import re\n",
    "\n",
    "pattern = r'(?P<word>\\b\\w+\\b)\\s+(?P=word)'\n",
    "text = \"The cow jumped over the moon\"\n",
    "matches = re.findall(pattern, text)\n",
    "\n",
    "print(matches)\n"
   ]
  },
  {
   "cell_type": "code",
   "execution_count": 17,
   "id": "540aa370",
   "metadata": {},
   "outputs": [],
   "source": [
    "# Q9. When parsing a string, what is at least one thing that the Scanner interface does for you that the\n",
    "# re.findall feature does not?"
   ]
  },
  {
   "cell_type": "markdown",
   "id": "f4ec7068",
   "metadata": {},
   "source": [
    "\n",
    "The Scanner interface and the re.findall() function serve different purposes when it comes to parsing strings.\n",
    "\n",
    "The Scanner interface is a class in Java that provides a way to tokenize a string into smaller parts based on a specified delimiter pattern. It reads input from a source such as a file or a string, and returns the tokens as separate strings. In addition to tokenizing the string, the Scanner class provides methods for parsing and converting the tokenized data to the desired data type.\n",
    "\n",
    "On the other hand, the re.findall() function in Python is used to find all non-overlapping matches of a regular expression in a string, and returns a list of all matches found.\n",
    "\n",
    "One thing that the Scanner interface does that re.findall() does not is that it allows you to specify a delimiter pattern for tokenizing the input string. This means that you can easily split a string into smaller parts based on a specified pattern, such as whitespace or a specific character. The re.findall() function, on the other hand, does not provide this feature and only matches regular expression patterns.\n",
    "\n",
    "In summary, the Scanner interface provides a way to tokenize a string based on a specified delimiter pattern, which is not a feature of the re.findall() function."
   ]
  },
  {
   "cell_type": "code",
   "execution_count": 18,
   "id": "78432795",
   "metadata": {},
   "outputs": [],
   "source": [
    "# Q10. Does a scanner object have to be named scanner?"
   ]
  },
  {
   "cell_type": "markdown",
   "id": "bb5e09bc",
   "metadata": {},
   "source": [
    "The Scanner class is a class in Java and not a built-in class in Python. Therefore, there is no Scanner object in Python.\n",
    "\n",
    "In Python, regular expressions are commonly used for parsing strings, and the re module provides a variety of functions for working with regular expressions, such as re.findall(), re.search(), and re.sub().\n",
    "\n",
    "When using regular expressions in Python, you can create a regular expression pattern and apply it to a string using the re module. You can then assign the result of the function to any variable name of your choice, and it does not have to be named \"scanner\"."
   ]
  },
  {
   "cell_type": "code",
   "execution_count": 19,
   "id": "dad46a4e",
   "metadata": {},
   "outputs": [
    {
     "name": "stdout",
     "output_type": "stream",
     "text": [
      "['The', 'fox', 'the', 'dog']\n"
     ]
    }
   ],
   "source": [
    "import re\n",
    "\n",
    "text = \"The quick brown fox jumps over the lazy dog\"\n",
    "pattern = r\"\\b\\w{3}\\b\"\n",
    "\n",
    "result = re.findall(pattern, text)\n",
    "print(result)\n"
   ]
  },
  {
   "cell_type": "code",
   "execution_count": null,
   "id": "422aba1d",
   "metadata": {},
   "outputs": [],
   "source": []
  }
 ],
 "metadata": {
  "kernelspec": {
   "display_name": "Python 3 (ipykernel)",
   "language": "python",
   "name": "python3"
  },
  "language_info": {
   "codemirror_mode": {
    "name": "ipython",
    "version": 3
   },
   "file_extension": ".py",
   "mimetype": "text/x-python",
   "name": "python",
   "nbconvert_exporter": "python",
   "pygments_lexer": "ipython3",
   "version": "3.9.12"
  }
 },
 "nbformat": 4,
 "nbformat_minor": 5
}
