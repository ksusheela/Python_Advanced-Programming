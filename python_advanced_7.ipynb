{
 "cells": [
  {
   "cell_type": "code",
   "execution_count": 1,
   "id": "76acd38b",
   "metadata": {},
   "outputs": [],
   "source": [
    "# Q1. What is the purpose of the try statement?"
   ]
  },
  {
   "cell_type": "markdown",
   "id": "283312de",
   "metadata": {},
   "source": [
    "he purpose of the try statement in programming is to define a block of code that may raise an exception, and to handle that exception if it occurs.\n",
    "\n",
    "The try statement works by enclosing the code that might raise an exception inside a try block. If an exception is raised within the try block, the program execution is transferred to the corresponding except block. The except block allows the program to handle the exception in a specific way, such as logging an error message, notifying the user, or taking corrective action.\n",
    "\n",
    "By using the try statement, a programmer can anticipate and handle errors and prevent the program from crashing. This helps to make the program more robust and reliable."
   ]
  },
  {
   "cell_type": "code",
   "execution_count": 5,
   "id": "d7c4ea3d",
   "metadata": {},
   "outputs": [],
   "source": [
    "# Q2. What are the two most popular try statement variations?"
   ]
  },
  {
   "cell_type": "markdown",
   "id": "0df9ea3f",
   "metadata": {},
   "source": [
    "The two most popular variations of the try statement in Python are:\n",
    "\n",
    "try-except: This variation catches the exception raised in the try block and handles it in the corresponding except block. The syntax is as follows:"
   ]
  },
  {
   "cell_type": "code",
   "execution_count": 6,
   "id": "058042a6",
   "metadata": {},
   "outputs": [],
   "source": [
    "# try:\n",
    "#    # code that may raise an exception\n",
    "# except ExceptionType:\n",
    "#    # code to handle the exception\n"
   ]
  },
  {
   "cell_type": "markdown",
   "id": "4570f20f",
   "metadata": {},
   "source": [
    "try-finally: This variation ensures that a certain block of code is always executed, whether or not an exception is raised. The syntax is as follows:"
   ]
  },
  {
   "cell_type": "code",
   "execution_count": 7,
   "id": "78af9f7b",
   "metadata": {},
   "outputs": [],
   "source": [
    "# try:\n",
    "#    # code that may raise an exception\n",
    "# finally:\n",
    "#    # code that will always be executed\n"
   ]
  },
  {
   "cell_type": "code",
   "execution_count": 8,
   "id": "4c55b0eb",
   "metadata": {},
   "outputs": [],
   "source": [
    "# Q3. What is the purpose of the raise statement?"
   ]
  },
  {
   "cell_type": "markdown",
   "id": "52df098e",
   "metadata": {},
   "source": [
    "The raise statement in Python is used to manually raise an exception in a program. The purpose of the raise statement is to allow the programmer to signal that an exceptional condition has occurred and to stop normal program execution.\n",
    "\n",
    "The raise statement can be used in several ways, such as:\n",
    "\n",
    "Raising a built-in exception: Python comes with a number of built-in exceptions, such as ValueError, TypeError, IndexError, and KeyError. To raise one of these exceptions, you simply need to use the raise statement followed by the name of the exception. For example:"
   ]
  },
  {
   "cell_type": "code",
   "execution_count": 9,
   "id": "9d1c750a",
   "metadata": {},
   "outputs": [],
   "source": [
    "# raise ValueError(\"Invalid input\")\n"
   ]
  },
  {
   "cell_type": "markdown",
   "id": "9cded8f6",
   "metadata": {},
   "source": [
    "Raising a custom exception: In addition to the built-in exceptions, you can also define your own custom exceptions by creating a new class that inherits from the Exception class. Once you have defined your custom exception, you can raise it using the raise statement. For example:"
   ]
  },
  {
   "cell_type": "code",
   "execution_count": 10,
   "id": "00eaac8d",
   "metadata": {},
   "outputs": [],
   "source": [
    "# class MyCustomException(Exception):\n",
    "#     pass\n",
    "\n",
    "# raise MyCustomException(\"Something went wrong\")\n"
   ]
  },
  {
   "cell_type": "code",
   "execution_count": 11,
   "id": "be0e7da4",
   "metadata": {},
   "outputs": [],
   "source": [
    "# Q4. What does the assert statement do, and what other statement is it like?"
   ]
  },
  {
   "cell_type": "markdown",
   "id": "507af8b3",
   "metadata": {},
   "source": [
    "The assert statement in Python is used to test a condition and raise an exception if the condition is not true. It is similar to the if statement, in that it checks a condition and executes code if the condition is true. However, if the condition is false, the assert statement raises an AssertionError exception and stops the program."
   ]
  },
  {
   "cell_type": "code",
   "execution_count": 13,
   "id": "5cbba862",
   "metadata": {},
   "outputs": [],
   "source": [
    "# assert condition, [error message]\n"
   ]
  },
  {
   "cell_type": "code",
   "execution_count": 14,
   "id": "601bdea8",
   "metadata": {},
   "outputs": [],
   "source": [
    "# Q5. What is the purpose of the with/as argument, and what other statement is it like?"
   ]
  },
  {
   "cell_type": "markdown",
   "id": "fab4c1c2",
   "metadata": {},
   "source": [
    "The with/as statement in Python is used to simplify the management of resources, such as files, sockets, and database connections, by ensuring that they are properly opened and closed. It is similar to a try/finally block, but with a more concise and readable syntax.\n",
    "\n",
    "The with/as statement creates a context in which a resource is used. Once the code within the context has completed, the resource is automatically released, even if an error occurs. The syntax for the with/as statement is as follows:"
   ]
  },
  {
   "cell_type": "code",
   "execution_count": 15,
   "id": "f6ca6356",
   "metadata": {},
   "outputs": [],
   "source": [
    "# with resource_expression as resource_variable:\n",
    "#     # code that uses the resource\n",
    "# with open('file.txt', 'r') as f:\n",
    "#     contents = f.read()\n"
   ]
  },
  {
   "cell_type": "code",
   "execution_count": null,
   "id": "d797067c",
   "metadata": {},
   "outputs": [],
   "source": []
  }
 ],
 "metadata": {
  "kernelspec": {
   "display_name": "Python 3 (ipykernel)",
   "language": "python",
   "name": "python3"
  },
  "language_info": {
   "codemirror_mode": {
    "name": "ipython",
    "version": 3
   },
   "file_extension": ".py",
   "mimetype": "text/x-python",
   "name": "python",
   "nbconvert_exporter": "python",
   "pygments_lexer": "ipython3",
   "version": "3.9.12"
  }
 },
 "nbformat": 4,
 "nbformat_minor": 5
}
