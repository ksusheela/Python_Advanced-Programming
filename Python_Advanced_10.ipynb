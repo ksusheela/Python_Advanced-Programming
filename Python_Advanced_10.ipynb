{
 "cells": [
  {
   "cell_type": "code",
   "execution_count": 1,
   "id": "d460520c",
   "metadata": {},
   "outputs": [],
   "source": [
    "# Q1. What is the difference between __getattr__ and __getattribute__?"
   ]
  },
  {
   "cell_type": "markdown",
   "id": "c597474e",
   "metadata": {},
   "source": [
    "In Python, both __getattr__ and __getattribute__ are special methods that allow you to define custom behavior when accessing attributes of an object. However, they are used in different ways and have different behaviors:\n",
    "\n",
    "__getattr__: This method is called when an attribute is not found using the usual lookup mechanism. It takes one argument - the name of the attribute being accessed - and should return the value of the attribute. If the attribute is not found even after __getattr__ is called, then a AttributeError is raised.\n",
    "\n",
    "__getattribute__: This method is called every time an attribute is accessed on the object. It takes one argument - the name of the attribute being accessed - and should return the value of the attribute. If you don't define __getattribute__, the default implementation is called instead, which simply looks up the attribute in the object's __dict__ attribute. However, if you define __getattribute__, it will always be called instead of the default implementation."
   ]
  },
  {
   "cell_type": "code",
   "execution_count": 2,
   "id": "c7ff867b",
   "metadata": {},
   "outputs": [],
   "source": [
    "# Q2. What is the difference between properties and descriptors?"
   ]
  },
  {
   "cell_type": "markdown",
   "id": "cca0b4d2",
   "metadata": {},
   "source": [
    "In Python, properties and descriptors are both mechanisms that allow you to define custom behavior when accessing and setting attributes of an object, but they are used in different ways and have different behaviors:\n",
    "\n",
    "Properties: Properties are a simple way to customize the behavior of attribute access and setting in a class. They are defined using the @property decorator, and provide a way to define a read-only attribute, or to customize the behavior of getting and setting a value. When you access or set a property, the getter or setter method associated with the property is called, allowing you to perform custom logic before returning or setting a value.\n",
    "\n",
    "Descriptors: Descriptors are a more powerful way to customize attribute access and setting in a class. They allow you to define custom behavior for accessing and setting attributes, and can be used to implement things like validation, type checking, and lazy evaluation. Descriptors are defined by implementing one or more of the __get__, __set__, or __delete__ methods in a separate class, which is then used as a descriptor in the class where you want to customize the behavior of an attribute."
   ]
  },
  {
   "cell_type": "code",
   "execution_count": 3,
   "id": "182086b0",
   "metadata": {},
   "outputs": [],
   "source": [
    "# Q3. What are the key differences in functionality between __getattr__ and __getattribute__, as well as\n",
    "# properties and descriptors?"
   ]
  },
  {
   "cell_type": "markdown",
   "id": "7b2855a2",
   "metadata": {},
   "source": [
    "Here are the key differences between __getattr__, __getattribute__, properties, and descriptors in terms of functionality:\n",
    "\n",
    "__getattr__: This method is only called when an attribute is not found through the normal lookup mechanism. It can be used to dynamically generate or calculate attribute values, or to provide default values for attributes that are not explicitly defined. __getattr__ is only called when an attribute is accessed and not found in the instance's namespace.\n",
    "\n",
    "__getattribute__: This method is called every time an attribute is accessed on an object, regardless of whether the attribute exists or not. It can be used to customize the behavior of attribute access, such as validating or transforming values before they are returned. If you define __getattribute__, you should be careful to avoid infinite recursion by calling the superclass's implementation of __getattribute__ or accessing the attribute using the super() function.\n",
    "\n",
    "Properties: Properties provide a simple way to customize the behavior of attribute access and setting. They are mainly used to define read-only attributes or to provide custom getter and setter methods for attributes. When a property is accessed or set, the corresponding getter or setter method is called, allowing you to perform custom logic before returning or setting a value.\n",
    "\n",
    "Descriptors: Descriptors provide a more powerful and flexible way to customize attribute access and setting. They can be used to define custom behavior for getting, setting, and deleting attributes, and can be used to implement things like validation, type checking, and lazy evaluation. Descriptors are defined by implementing one or more of the __get__, __set__, or __delete__ methods in a separate class, which is then used as a descriptor in the class where you want to customize the behavior of an attribute."
   ]
  },
  {
   "cell_type": "code",
   "execution_count": null,
   "id": "60700161",
   "metadata": {},
   "outputs": [],
   "source": []
  }
 ],
 "metadata": {
  "kernelspec": {
   "display_name": "Python 3 (ipykernel)",
   "language": "python",
   "name": "python3"
  },
  "language_info": {
   "codemirror_mode": {
    "name": "ipython",
    "version": 3
   },
   "file_extension": ".py",
   "mimetype": "text/x-python",
   "name": "python",
   "nbconvert_exporter": "python",
   "pygments_lexer": "ipython3",
   "version": "3.9.12"
  }
 },
 "nbformat": 4,
 "nbformat_minor": 5
}
