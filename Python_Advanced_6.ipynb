{
 "cells": [
  {
   "cell_type": "code",
   "execution_count": 1,
   "id": "03825757",
   "metadata": {},
   "outputs": [],
   "source": [
    "# Q1. Describe three applications for exception processing."
   ]
  },
  {
   "cell_type": "markdown",
   "id": "60b55ab6",
   "metadata": {},
   "source": [
    "Exception processing is a mechanism used in software development to handle unexpected situations or errors that occur during the execution of a program. Here are three examples of how exception processing can be used:\n",
    "\n",
    "Input validation: In many software applications, users input data that needs to be validated before it can be processed. For example, a user might enter a date that is in the wrong format or leave a required field blank. In this case, an exception can be thrown, and the program can handle it by displaying an error message to the user and prompting them to correct their input.\n",
    "\n",
    "Database operations: When working with databases, exceptions can be thrown if there is an issue with the connection, data retrieval, or data modification. For example, if a program is attempting to retrieve data from a database, and the database server is offline, an exception can be thrown, and the program can handle it by attempting to reconnect to the database or displaying an error message to the user.\n",
    "\n",
    "File operations: When working with files, exceptions can be thrown if there is an issue with opening, reading, or writing to a file. For example, if a program is attempting to open a file, and the file does not exist, an exception can be thrown, and the program can handle it by creating a new file or displaying an error message to the user. Similarly, if a program is attempting to write to a file that is read-only, an exception can be thrown, and the program can handle it by displaying an error message to the user or prompting them to change the file permissions.\n",
    "\n",
    "\n",
    "\n",
    "\n",
    "\n"
   ]
  },
  {
   "cell_type": "code",
   "execution_count": 3,
   "id": "c717e9fe",
   "metadata": {},
   "outputs": [],
   "source": [
    "# Q2. What happens if you don't do something extra to treat an exception?"
   ]
  },
  {
   "cell_type": "markdown",
   "id": "32f2527c",
   "metadata": {},
   "source": [
    "If an exception is not handled or treated properly, it will cause the program to terminate abnormally. When an exception occurs and is not caught or handled, it will propagate up the call stack until it reaches the top-level of the program. At this point, the program will terminate and an error message will be displayed to the user, indicating that an unhandled exception occurred.\n",
    "\n",
    "This can be a problem for several reasons. First, it can make the program seem unstable or unreliable to users. Second, it can leave important resources, such as files or database connections, in an inconsistent state. Finally, it can make it difficult to diagnose and fix problems in the program, as there may be no information available about what caused the exception or where it occurred.\n",
    "\n",
    "Therefore, it is essential to handle exceptions properly in software development. This typically involves catching the exception, logging the error information, and taking appropriate actions to recover from the error or inform the user about it."
   ]
  },
  {
   "cell_type": "code",
   "execution_count": 4,
   "id": "ea9f1d0a",
   "metadata": {},
   "outputs": [],
   "source": [
    "# Q3. What are your options for recovering from an exception in your script?"
   ]
  },
  {
   "cell_type": "markdown",
   "id": "7980d8a0",
   "metadata": {},
   "source": [
    "When an exception occurs in a script, there are several options available for recovering from the exception. Here are some of the most common ways to handle exceptions:\n",
    "\n",
    "Catch the exception: By wrapping a block of code in a try-except statement, you can catch any exceptions that occur and handle them in a specific way. For example, you might display an error message to the user or log the error information for debugging purposes.\n",
    "\n",
    "Retry the operation: In some cases, it may be appropriate to retry the operation that caused the exception. For example, if a network connection was lost during a file transfer, you might try to reconnect and resume the transfer.\n",
    "\n",
    "Substitute a default value: If an exception occurs while retrieving data, you might substitute a default value instead of the expected value. For example, if a web service is down and unable to provide current weather data, you might substitute a default value of \"unknown\" for the current temperature.\n",
    "\n",
    "Terminate the script gracefully: In some cases, it may be appropriate to terminate the script gracefully if an exception occurs. This might involve closing open files or database connections and releasing any resources before exiting the script."
   ]
  },
  {
   "cell_type": "code",
   "execution_count": 5,
   "id": "e7a19074",
   "metadata": {},
   "outputs": [],
   "source": [
    "# Q4. Describe two methods for triggering exceptions in your script."
   ]
  },
  {
   "cell_type": "markdown",
   "id": "8162494a",
   "metadata": {},
   "source": [
    "Exceptions can be triggered intentionally in a script to handle anticipated errors or test error handling functionality. Here are two methods for triggering exceptions in a script:\n",
    "\n",
    "Raise an exception using the raise statement: In Python, you can raise an exception manually by using the raise statement. For example, you might use the following code to raise a ValueError exception if an input value is negative:"
   ]
  },
  {
   "cell_type": "code",
   "execution_count": 6,
   "id": "12dcf594",
   "metadata": {},
   "outputs": [
    {
     "ename": "ValueError",
     "evalue": "Input value must be positive",
     "output_type": "error",
     "traceback": [
      "\u001b[1;31m---------------------------------------------------------------------------\u001b[0m",
      "\u001b[1;31mValueError\u001b[0m                                Traceback (most recent call last)",
      "Input \u001b[1;32mIn [6]\u001b[0m, in \u001b[0;36m<cell line: 2>\u001b[1;34m()\u001b[0m\n\u001b[0;32m      1\u001b[0m value \u001b[38;5;241m=\u001b[39m \u001b[38;5;241m-\u001b[39m\u001b[38;5;241m1\u001b[39m\n\u001b[0;32m      2\u001b[0m \u001b[38;5;28;01mif\u001b[39;00m value \u001b[38;5;241m<\u001b[39m \u001b[38;5;241m0\u001b[39m:\n\u001b[1;32m----> 3\u001b[0m     \u001b[38;5;28;01mraise\u001b[39;00m \u001b[38;5;167;01mValueError\u001b[39;00m(\u001b[38;5;124m\"\u001b[39m\u001b[38;5;124mInput value must be positive\u001b[39m\u001b[38;5;124m\"\u001b[39m)\n",
      "\u001b[1;31mValueError\u001b[0m: Input value must be positive"
     ]
    }
   ],
   "source": [
    "value = -1\n",
    "if value < 0:\n",
    "    raise ValueError(\"Input value must be positive\")\n"
   ]
  },
  {
   "cell_type": "markdown",
   "id": "77ac9e1a",
   "metadata": {},
   "source": [
    "Call a function that raises an exception: Another way to trigger an exception is to call a function that is known to raise an exception. For example, the Python open() function raises a FileNotFoundError exception if the specified file does not exist. You might use the following code to open a file and catch the exception if it occurs:"
   ]
  },
  {
   "cell_type": "code",
   "execution_count": 7,
   "id": "1de8446d",
   "metadata": {},
   "outputs": [
    {
     "ename": "IndentationError",
     "evalue": "expected an indented block (2184717006.py, line 4)",
     "output_type": "error",
     "traceback": [
      "\u001b[1;36m  Input \u001b[1;32mIn [7]\u001b[1;36m\u001b[0m\n\u001b[1;33m    except FileNotFoundError:\u001b[0m\n\u001b[1;37m                             ^\u001b[0m\n\u001b[1;31mIndentationError\u001b[0m\u001b[1;31m:\u001b[0m expected an indented block\n"
     ]
    }
   ],
   "source": [
    "try:\n",
    "    with open(\"myfile.txt\", \"r\") as f:\n",
    "        # do something with the file\n",
    "except FileNotFoundError:\n",
    "    print(\"The file could not be found\")\n"
   ]
  },
  {
   "cell_type": "code",
   "execution_count": 8,
   "id": "ef7e6a5b",
   "metadata": {},
   "outputs": [],
   "source": [
    "# Q5. Identify two methods for specifying actions to be executed at termination time, regardless of\n",
    "# whether or not an exception exists."
   ]
  },
  {
   "cell_type": "markdown",
   "id": "7a5ef901",
   "metadata": {},
   "source": [
    "In Python, there are two methods for specifying actions to be executed at termination time, regardless of whether or not an exception exists:\n",
    "\n",
    "Using the try-finally block: The try-finally block allows you to specify code that will always be executed, regardless of whether an exception occurs or not. The finally block is placed after the try and except blocks and will always be executed, even if an exception occurs. Here's an example:"
   ]
  },
  {
   "cell_type": "code",
   "execution_count": 9,
   "id": "81b99ce9",
   "metadata": {},
   "outputs": [
    {
     "ename": "IndentationError",
     "evalue": "expected an indented block (3573502113.py, line 3)",
     "output_type": "error",
     "traceback": [
      "\u001b[1;36m  Input \u001b[1;32mIn [9]\u001b[1;36m\u001b[0m\n\u001b[1;33m    except SomeException:\u001b[0m\n\u001b[1;37m    ^\u001b[0m\n\u001b[1;31mIndentationError\u001b[0m\u001b[1;31m:\u001b[0m expected an indented block\n"
     ]
    }
   ],
   "source": [
    "try:\n",
    "    # some code that might raise an exception\n",
    "except SomeException:\n",
    "    # handle the exception\n",
    "finally:\n",
    "    # code to be executed regardless of whether an exception occurs\n"
   ]
  },
  {
   "cell_type": "markdown",
   "id": "4cdff8f0",
   "metadata": {},
   "source": [
    "Using the atexit module: The atexit module allows you to register functions to be called when the Python interpreter exits. These functions will be called regardless of whether the program exits normally or due to an exception. Here's an example:"
   ]
  },
  {
   "cell_type": "code",
   "execution_count": 10,
   "id": "c25d40c2",
   "metadata": {},
   "outputs": [
    {
     "ename": "IndentationError",
     "evalue": "expected an indented block (639310777.py, line 6)",
     "output_type": "error",
     "traceback": [
      "\u001b[1;36m  Input \u001b[1;32mIn [10]\u001b[1;36m\u001b[0m\n\u001b[1;33m    atexit.register(cleanup)\u001b[0m\n\u001b[1;37m    ^\u001b[0m\n\u001b[1;31mIndentationError\u001b[0m\u001b[1;31m:\u001b[0m expected an indented block\n"
     ]
    }
   ],
   "source": [
    "import atexit\n",
    "\n",
    "def cleanup():\n",
    "    # code to be executed at exit time\n",
    "\n",
    "atexit.register(cleanup)\n"
   ]
  },
  {
   "cell_type": "code",
   "execution_count": null,
   "id": "5a42bb01",
   "metadata": {},
   "outputs": [],
   "source": []
  }
 ],
 "metadata": {
  "kernelspec": {
   "display_name": "Python 3 (ipykernel)",
   "language": "python",
   "name": "python3"
  },
  "language_info": {
   "codemirror_mode": {
    "name": "ipython",
    "version": 3
   },
   "file_extension": ".py",
   "mimetype": "text/x-python",
   "name": "python",
   "nbconvert_exporter": "python",
   "pygments_lexer": "ipython3",
   "version": "3.9.12"
  }
 },
 "nbformat": 4,
 "nbformat_minor": 5
}
