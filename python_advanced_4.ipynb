{
 "cells": [
  {
   "cell_type": "code",
   "execution_count": 1,
   "id": "9743b327",
   "metadata": {},
   "outputs": [],
   "source": [
    "# Q1. Which two operator overloading methods can you use in your classes to support iteration?"
   ]
  },
  {
   "cell_type": "markdown",
   "id": "14cb41cb",
   "metadata": {},
   "source": [
    "The __iter__() method should return an iterator object and is called when the iteration is started. It can return self or another object that has a __next__() method.\n",
    "\n",
    "The __next__() method should return the next value in the iteration sequence, and it is called each time the next value is needed. It should raise a StopIteration exception when there are no more values to iterate over."
   ]
  },
  {
   "cell_type": "code",
   "execution_count": 11,
   "id": "ce37393b",
   "metadata": {},
   "outputs": [
    {
     "name": "stdout",
     "output_type": "stream",
     "text": [
      "4\n",
      "5\n",
      "3\n",
      "1\n",
      "2\n"
     ]
    }
   ],
   "source": [
    "class MyIterator:\n",
    "    def __init__(self, items):\n",
    "        self.items = items\n",
    "        self.current = 0\n",
    "    \n",
    "    def __iter__(self):\n",
    "        return self\n",
    "    \n",
    "    def __next__(self):\n",
    "        if self.current < len(self.items):\n",
    "            result = self.items[self.current]\n",
    "            self.current += 1\n",
    "            return result\n",
    "        else:\n",
    "            raise StopIteration\n",
    "\n",
    "items = [4, 5, 3, 1, 2]\n",
    "my_iterator = MyIterator(items)\n",
    "for item in my_iterator:\n",
    "    print(item)\n"
   ]
  },
  {
   "cell_type": "code",
   "execution_count": 3,
   "id": "4f636324",
   "metadata": {},
   "outputs": [],
   "source": [
    "# Q2. In what contexts do the two operator overloading methods manage printing?"
   ]
  },
  {
   "cell_type": "markdown",
   "id": "8d5303dd",
   "metadata": {},
   "source": [
    "The two operator overloading methods that manage printing are __str__() and __repr__().\n",
    "\n",
    "The __str__() method is used to define the string representation of an object, and it is called when the str() function is called on an object. This method should return a string that represents the object in a human-readable format. This method is typically used to provide a user-friendly representation of an object.\n",
    "\n",
    "On the other hand, the __repr__() method is used to define the string representation of an object for debugging and development purposes. It is called when the repr() function is called on an object. This method should return a string that represents the object in a machine-readable format. This method is typically used to provide a detailed and unambiguous representation of an object."
   ]
  },
  {
   "cell_type": "code",
   "execution_count": 4,
   "id": "3c0b2b67",
   "metadata": {},
   "outputs": [
    {
     "name": "stdout",
     "output_type": "stream",
     "text": [
      "John is 30 years old.\n",
      "John is 30 years old.\n",
      "Person(name='John', age=30)\n"
     ]
    }
   ],
   "source": [
    "class Person:\n",
    "    def __init__(self, name, age):\n",
    "        self.name = name\n",
    "        self.age = age\n",
    "\n",
    "    def __str__(self):\n",
    "        return f\"{self.name} is {self.age} years old.\"\n",
    "\n",
    "    def __repr__(self):\n",
    "        return f\"Person(name='{self.name}', age={self.age})\"\n",
    "\n",
    "person = Person(\"John\", 30)\n",
    "print(person) # Output: John is 30 years old.\n",
    "print(str(person)) # Output: John is 30 years old.\n",
    "print(repr(person)) # Output: Person(name='John', age=30)\n"
   ]
  },
  {
   "cell_type": "code",
   "execution_count": 6,
   "id": "95adc7bc",
   "metadata": {},
   "outputs": [],
   "source": [
    "# Q3. In a class, how do you intercept slice operations?"
   ]
  },
  {
   "cell_type": "markdown",
   "id": "ba6e4390",
   "metadata": {},
   "source": [
    "In Python, you can intercept slice operations by defining the __getitem__() method in your class. This method is called when an item or slice is retrieved using the square bracket notation [].\n",
    "\n",
    "To intercept slice operations, you can check if the key parameter passed to the __getitem__() method is a slice object. If it is a slice object, you can extract the start, stop, and step parameters from the slice object and return a new slice or a sequence of elements based on these parameters."
   ]
  },
  {
   "cell_type": "code",
   "execution_count": 7,
   "id": "880bda4f",
   "metadata": {},
   "outputs": [
    {
     "name": "stdout",
     "output_type": "stream",
     "text": [
      "2\n",
      "[2, 3]\n",
      "[2, 4]\n"
     ]
    }
   ],
   "source": [
    "class MyList:\n",
    "    def __init__(self, items):\n",
    "        self.items = items\n",
    "\n",
    "    def __getitem__(self, key):\n",
    "        if isinstance(key, slice):\n",
    "            start = key.start if key.start is not None else 0\n",
    "            stop = key.stop if key.stop is not None else len(self.items)\n",
    "            step = key.step if key.step is not None else 1\n",
    "            return [self.items[i] for i in range(start, stop, step)]\n",
    "        else:\n",
    "            return self.items[key]\n",
    "\n",
    "my_list = MyList([1, 2, 3, 4, 5])\n",
    "print(my_list[1]) # Output: 2\n",
    "print(my_list[1:3]) # Output: [2, 3]\n",
    "print(my_list[1:5:2]) # Output: [2, 4]\n"
   ]
  },
  {
   "cell_type": "code",
   "execution_count": 8,
   "id": "73a4bed8",
   "metadata": {},
   "outputs": [],
   "source": [
    "# Q4. In a class, how do you capture in-place addition?"
   ]
  },
  {
   "cell_type": "markdown",
   "id": "60ed1bee",
   "metadata": {},
   "source": [
    "In Python, you can capture in-place addition using the __iadd__() method in your class. This method is called when the += operator is used on an object.\n",
    "\n",
    "To capture in-place addition, you can modify the state of the object in-place using the += operator and return the modified object."
   ]
  },
  {
   "cell_type": "code",
   "execution_count": 9,
   "id": "606b6311",
   "metadata": {},
   "outputs": [
    {
     "name": "stdout",
     "output_type": "stream",
     "text": [
      "8\n"
     ]
    }
   ],
   "source": [
    "class Counter:\n",
    "    def __init__(self, count=0):\n",
    "        self.count = count\n",
    "\n",
    "    def __iadd__(self, other):\n",
    "        self.count += other\n",
    "        return self\n",
    "\n",
    "counter = Counter(5)\n",
    "counter += 3 # Equivalent to counter.__iadd__(3)\n",
    "print(counter.count) # Output: 8\n"
   ]
  },
  {
   "cell_type": "code",
   "execution_count": 10,
   "id": "2389827f",
   "metadata": {},
   "outputs": [],
   "source": [
    "# Q5. When is it appropriate to use operator overloading?"
   ]
  },
  {
   "cell_type": "markdown",
   "id": "e06e47f5",
   "metadata": {},
   "source": [
    "Operator overloading is appropriate when you want to define custom behavior for operators in your classes. It allows you to define how operators should behave with instances of your class, making your classes behave like built-in types.\n",
    "\n",
    "Here are some scenarios where it is appropriate to use operator overloading:\n",
    "\n",
    "Custom data types: When you define custom data types, you can use operator overloading to make your classes work with the same operators as built-in types, such as arithmetic operators or comparison operators.\n",
    "\n",
    "Polymorphism: Operator overloading can be used to make your classes polymorphic, meaning they can work with different types of data. For example, the + operator can be used to concatenate strings and add numbers, depending on the operands.\n",
    "\n",
    "Simplify code: Operator overloading can make your code more concise and readable by allowing you to use familiar operators to perform operations on your custom data types.\n",
    "\n",
    "Domain-specific language: If you are creating a domain-specific language (DSL), operator overloading can be used to define the syntax of your DSL. This can make it easier for users to write code in your DSL that looks similar to natural language."
   ]
  },
  {
   "cell_type": "code",
   "execution_count": null,
   "id": "ccfebe0b",
   "metadata": {},
   "outputs": [],
   "source": []
  }
 ],
 "metadata": {
  "kernelspec": {
   "display_name": "Python 3 (ipykernel)",
   "language": "python",
   "name": "python3"
  },
  "language_info": {
   "codemirror_mode": {
    "name": "ipython",
    "version": 3
   },
   "file_extension": ".py",
   "mimetype": "text/x-python",
   "name": "python",
   "nbconvert_exporter": "python",
   "pygments_lexer": "ipython3",
   "version": "3.9.12"
  }
 },
 "nbformat": 4,
 "nbformat_minor": 5
}
