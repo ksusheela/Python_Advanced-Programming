{
 "cells": [
  {
   "cell_type": "code",
   "execution_count": 1,
   "id": "16638d68",
   "metadata": {},
   "outputs": [],
   "source": [
    "# 1. What is the concept of an abstract superclass?"
   ]
  },
  {
   "cell_type": "markdown",
   "id": "bc875c8b",
   "metadata": {},
   "source": [
    "In object-oriented programming, an abstract superclass is a class that is declared with the \"abstract\" keyword and contains one or more abstract methods. An abstract method is a method that is declared but not defined in the abstract superclass, meaning it has no implementation. Instead, the responsibility of implementing the abstract method is left to the concrete subclasses that inherit from the abstract superclass.\n",
    "\n",
    "The abstract superclass provides a common interface or contract for all of its subclasses, which are required to implement the abstract methods. This ensures that all subclasses have certain common behaviors or characteristics, while still allowing each subclass to implement those behaviors in its own unique way.\n",
    "\n",
    "Abstract superclasses cannot be instantiated, meaning they cannot be used to create objects directly. Instead, they serve as blueprints for creating objects of their concrete subclasses. The main advantage of using an abstract superclass is that it allows for a high degree of code reuse and modularity in object-oriented programming."
   ]
  },
  {
   "cell_type": "code",
   "execution_count": 4,
   "id": "cb70516f",
   "metadata": {},
   "outputs": [
    {
     "name": "stdout",
     "output_type": "stream",
     "text": [
      "Woof!\n",
      "Meow!\n"
     ]
    }
   ],
   "source": [
    "from abc import ABC, abstractmethod\n",
    "\n",
    "class Animal(ABC):\n",
    "    @abstractmethod\n",
    "    def speak(self):\n",
    "        pass\n",
    "\n",
    "class Dog(Animal):\n",
    "    def speak(self):\n",
    "        return \"Woof!\"\n",
    "\n",
    "class Cat(Animal):\n",
    "    def speak(self):\n",
    "        return \"Meow!\"\n",
    "\n",
    "dog = Dog()\n",
    "cat = Cat()\n",
    "\n",
    "print(dog.speak())  # Output: \"Woof!\"\n",
    "print(cat.speak())  # Output: \"Meow!\"\n"
   ]
  },
  {
   "cell_type": "code",
   "execution_count": 3,
   "id": "906a4b43",
   "metadata": {},
   "outputs": [],
   "source": [
    "# 2. What happens when a class statement&#39;s top level contains a basic assignment statement?"
   ]
  },
  {
   "cell_type": "markdown",
   "id": "681922d3",
   "metadata": {},
   "source": [
    "When a class statement's top level contains a basic assignment statement, the statement defines a class variable that is shared by all instances of the class. Class variables are variables that are defined at the class level, outside of any methods or functions, and are accessible to all instances of the class.\n",
    "\n",
    "Here's an example of a class definition that contains a basic assignment statement at the top level:"
   ]
  },
  {
   "cell_type": "code",
   "execution_count": 5,
   "id": "f8f8b5c4",
   "metadata": {},
   "outputs": [],
   "source": [
    "class Car:\n",
    "    wheels = 4\n",
    "\n",
    "    def __init__(self, make, model):\n",
    "        self.make = make\n",
    "        self.model = model\n"
   ]
  },
  {
   "cell_type": "code",
   "execution_count": 6,
   "id": "7e1bb9ad",
   "metadata": {},
   "outputs": [
    {
     "name": "stdout",
     "output_type": "stream",
     "text": [
      "4\n",
      "4\n",
      "3\n",
      "3\n"
     ]
    }
   ],
   "source": [
    "car1 = Car(\"Toyota\", \"Corolla\")\n",
    "car2 = Car(\"Honda\", \"Civic\")\n",
    "\n",
    "print(car1.wheels)  # Output: 4\n",
    "print(car2.wheels)  # Output: 4\n",
    "\n",
    "Car.wheels = 3\n",
    "\n",
    "print(car1.wheels)  # Output: 3\n",
    "print(car2.wheels)  # Output: 3\n"
   ]
  },
  {
   "cell_type": "code",
   "execution_count": 7,
   "id": "774b2cf7",
   "metadata": {},
   "outputs": [],
   "source": [
    "# 3. Why does a class need to manually call a superclass's __init__ method?"
   ]
  },
  {
   "cell_type": "markdown",
   "id": "278038da",
   "metadata": {},
   "source": [
    "In object-oriented programming, when a class inherits from a superclass, it typically needs to call the superclass's __init__ method to initialize the inherited attributes and behaviors of the superclass.\n",
    "\n",
    "Here are a few reasons why a class needs to manually call a superclass's __init__ method:\n",
    "\n",
    "Inheritance: When a subclass inherits from a superclass, it also inherits the superclass's attributes and behaviors. By calling the superclass's __init__ method, the subclass can initialize the inherited attributes and behaviors, which can then be used by the subclass.\n",
    "\n",
    "Overriding: When a subclass overrides a method or attribute of a superclass, it may still need to use the superclass's __init__ method to initialize other attributes and behaviors that were not overridden.\n",
    "\n",
    "Multiple inheritance: When a class inherits from multiple superclasses, it may need to call the __init__ method of each superclass to properly initialize all of the inherited attributes and behaviors."
   ]
  },
  {
   "cell_type": "code",
   "execution_count": 8,
   "id": "7d239082",
   "metadata": {},
   "outputs": [
    {
     "name": "stdout",
     "output_type": "stream",
     "text": [
      "Whiskers\n",
      "gray\n",
      "Meow!\n"
     ]
    }
   ],
   "source": [
    "class Animal:\n",
    "    def __init__(self, name):\n",
    "        self.name = name\n",
    "\n",
    "    def speak(self):\n",
    "        pass\n",
    "\n",
    "class Cat(Animal):\n",
    "    def __init__(self, name, color):\n",
    "        super().__init__(name)\n",
    "        self.color = color\n",
    "\n",
    "    def speak(self):\n",
    "        return \"Meow!\"\n",
    "\n",
    "cat = Cat(\"Whiskers\", \"gray\")\n",
    "print(cat.name)   # Output: Whiskers\n",
    "print(cat.color)  # Output: gray\n",
    "print(cat.speak())  # Output: Meow!\n"
   ]
  },
  {
   "cell_type": "code",
   "execution_count": 9,
   "id": "f8e46a60",
   "metadata": {},
   "outputs": [],
   "source": [
    "# 4. How can you augment, instead of completely replacing, an inherited method?"
   ]
  },
  {
   "cell_type": "markdown",
   "id": "7a5f073e",
   "metadata": {},
   "source": [
    "In object-oriented programming, it is possible to augment or modify an inherited method without completely replacing it. This can be done using method overriding and calling the superclass's method using the super() function."
   ]
  },
  {
   "cell_type": "code",
   "execution_count": 10,
   "id": "5a6d4ff6",
   "metadata": {},
   "outputs": [
    {
     "name": "stdout",
     "output_type": "stream",
     "text": [
      "Whiskers says Unknown sound and meows!\n"
     ]
    }
   ],
   "source": [
    "class Animal:\n",
    "    def __init__(self, name):\n",
    "        self.name = name\n",
    "\n",
    "    def speak(self):\n",
    "        return \"Unknown sound\"\n",
    "\n",
    "class Cat(Animal):\n",
    "    def __init__(self, name):\n",
    "        super().__init__(name)\n",
    "\n",
    "    def speak(self):\n",
    "        sound = super().speak()  # Call the superclass's speak() method\n",
    "        return f\"{self.name} says {sound} and meows!\"\n",
    "\n",
    "cat = Cat(\"Whiskers\")\n",
    "print(cat.speak())  # Output: Whiskers says Unknown sound and meows!\n"
   ]
  },
  {
   "cell_type": "code",
   "execution_count": 11,
   "id": "cd107dbf",
   "metadata": {},
   "outputs": [],
   "source": [
    "# 5. How is the local scope of a class different from that of a function?"
   ]
  },
  {
   "cell_type": "markdown",
   "id": "5ec61e49",
   "metadata": {},
   "source": [
    "In Python, the local scope of a class is different from that of a function in a few key ways:\n",
    "\n",
    "Variables: In a function, variables declared inside the function are considered local variables and are only accessible within the function. In contrast, variables declared inside a class are considered instance variables or class variables, and are accessible to all instances of the class.\n",
    "\n",
    "Scope: The scope of a class definition extends throughout the entire module in which it is defined. This means that any code in the module can access the class and its attributes. In contrast, the scope of a function is limited to the function itself and any nested functions or code blocks.\n",
    "\n",
    "Methods: In a class, functions defined within the class are called methods, and they are always associated with instances of the class. In contrast, functions defined outside of a class are not associated with any specific instance or class.\n",
    "\n",
    "Inheritance: Classes can inherit attributes and methods from parent classes, which allows for code reuse and makes it easier to create complex object hierarchies. Functions do not support inheritance."
   ]
  },
  {
   "cell_type": "code",
   "execution_count": 15,
   "id": "83050ac8",
   "metadata": {},
   "outputs": [
    {
     "ename": "NameError",
     "evalue": "name 'x' is not defined",
     "output_type": "error",
     "traceback": [
      "\u001b[1;31m---------------------------------------------------------------------------\u001b[0m",
      "\u001b[1;31mNameError\u001b[0m                                 Traceback (most recent call last)",
      "Input \u001b[1;32mIn [15]\u001b[0m, in \u001b[0;36m<cell line: 11>\u001b[1;34m()\u001b[0m\n\u001b[0;32m      8\u001b[0m     \u001b[38;5;28;01mdef\u001b[39;00m \u001b[38;5;21mmy_method\u001b[39m(\u001b[38;5;28mself\u001b[39m):\n\u001b[0;32m      9\u001b[0m         \u001b[38;5;28mprint\u001b[39m(\u001b[38;5;28mself\u001b[39m\u001b[38;5;241m.\u001b[39my)\n\u001b[1;32m---> 11\u001b[0m \u001b[38;5;28mprint\u001b[39m(\u001b[43mx\u001b[49m)  \u001b[38;5;66;03m# Raises NameError: name 'x' is not defined\u001b[39;00m\n\u001b[0;32m     13\u001b[0m obj \u001b[38;5;241m=\u001b[39m MyClass()\n\u001b[0;32m     14\u001b[0m obj\u001b[38;5;241m.\u001b[39mmy_method()\n",
      "\u001b[1;31mNameError\u001b[0m: name 'x' is not defined"
     ]
    }
   ],
   "source": [
    "def my_function():\n",
    "    x = 10\n",
    "    print(x)\n",
    "\n",
    "class MyClass:\n",
    "    y = 20\n",
    "\n",
    "    def my_method(self):\n",
    "        print(self.y)\n",
    "\n",
    "print(x)  # Raises NameError: name 'x' is not defined\n",
    "\n",
    "obj = MyClass()\n",
    "obj.my_method()  # Output: 20\n"
   ]
  },
  {
   "cell_type": "code",
   "execution_count": null,
   "id": "627a97f5",
   "metadata": {},
   "outputs": [],
   "source": []
  }
 ],
 "metadata": {
  "kernelspec": {
   "display_name": "Python 3 (ipykernel)",
   "language": "python",
   "name": "python3"
  },
  "language_info": {
   "codemirror_mode": {
    "name": "ipython",
    "version": 3
   },
   "file_extension": ".py",
   "mimetype": "text/x-python",
   "name": "python",
   "nbconvert_exporter": "python",
   "pygments_lexer": "ipython3",
   "version": "3.9.12"
  }
 },
 "nbformat": 4,
 "nbformat_minor": 5
}
