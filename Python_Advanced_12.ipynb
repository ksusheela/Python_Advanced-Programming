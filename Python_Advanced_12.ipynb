{
 "cells": [
  {
   "cell_type": "code",
   "execution_count": 1,
   "id": "f6529ec6",
   "metadata": {},
   "outputs": [],
   "source": [
    "# Q1. Does assigning a value to a string's indexed character violate Python's string immutability?"
   ]
  },
  {
   "cell_type": "markdown",
   "id": "87e01e3a",
   "metadata": {},
   "source": [
    "Yes, assigning a value to a string's indexed character violates Python's string immutability. In Python, strings are considered as immutable objects, which means that once a string is created, its value cannot be changed.\n",
    "\n",
    "When you try to assign a value to a string's indexed character, Python will raise a TypeError, indicating that strings do not support item assignment. For example:"
   ]
  },
  {
   "cell_type": "code",
   "execution_count": 5,
   "id": "f82fc3d4",
   "metadata": {},
   "outputs": [
    {
     "ename": "TypeError",
     "evalue": "'str' object does not support item assignment",
     "output_type": "error",
     "traceback": [
      "\u001b[1;31m---------------------------------------------------------------------------\u001b[0m",
      "\u001b[1;31mTypeError\u001b[0m                                 Traceback (most recent call last)",
      "Input \u001b[1;32mIn [5]\u001b[0m, in \u001b[0;36m<cell line: 2>\u001b[1;34m()\u001b[0m\n\u001b[0;32m      1\u001b[0m my_string \u001b[38;5;241m=\u001b[39m \u001b[38;5;124m\"\u001b[39m\u001b[38;5;124mHello\u001b[39m\u001b[38;5;124m\"\u001b[39m\n\u001b[1;32m----> 2\u001b[0m my_string[\u001b[38;5;241m0\u001b[39m] \u001b[38;5;241m=\u001b[39m \u001b[38;5;124m\"\u001b[39m\u001b[38;5;124mJ\u001b[39m\u001b[38;5;124m\"\u001b[39m\n",
      "\u001b[1;31mTypeError\u001b[0m: 'str' object does not support item assignment"
     ]
    }
   ],
   "source": [
    "my_string = \"Hello\"\n",
    "my_string[0] = \"J\"  # Raises TypeError: 'str' object does not support item assignment\n"
   ]
  },
  {
   "cell_type": "markdown",
   "id": "ac121c09",
   "metadata": {},
   "source": [
    "To modify a string in Python, you need to create a new string with the desired changes. You can achieve this by concatenating or slicing different parts of the original string. For example:"
   ]
  },
  {
   "cell_type": "code",
   "execution_count": 2,
   "id": "1e4f9aac",
   "metadata": {},
   "outputs": [],
   "source": [
    "my_string = \"Hello\"\n",
    "new_string = \"J\" + my_string[1:]  # creates a new string \"Jello\"\n"
   ]
  },
  {
   "cell_type": "code",
   "execution_count": 4,
   "id": "3e274cb9",
   "metadata": {},
   "outputs": [],
   "source": [
    "# Q2. Does using the += operator to concatenate strings violate Python's string immutability? Why or\n",
    "# why not?"
   ]
  },
  {
   "cell_type": "markdown",
   "id": "3aa31434",
   "metadata": {},
   "source": [
    "Using the += operator to concatenate strings does not violate Python's string immutability because it creates a new string object and assigns it back to the original variable.\n",
    "\n",
    "When you use the += operator to concatenate strings, Python creates a new string that contains the concatenation of the original string and the new string. Then, it assigns the new string to the same variable. This operation does not modify the original string object in place but instead creates a new string object, which is assigned to the same variable name."
   ]
  },
  {
   "cell_type": "code",
   "execution_count": 6,
   "id": "0ac1747d",
   "metadata": {},
   "outputs": [
    {
     "name": "stdout",
     "output_type": "stream",
     "text": [
      "Hello, World!\n"
     ]
    }
   ],
   "source": [
    "my_string = \"Hello\"\n",
    "my_string += \", World!\"\n",
    "print(my_string)  # Output: \"Hello, World!\"\n"
   ]
  },
  {
   "cell_type": "markdown",
   "id": "2d788a91",
   "metadata": {},
   "source": [
    "In the above example, we use the += operator to concatenate the string \", World!\" to the original string \"Hello\". Python creates a new string object that contains the concatenation of the two strings and assigns it back to the same variable my_string. The original string object \"Hello\" remains unchanged, and a new string object \"Hello, World!\" is created."
   ]
  },
  {
   "cell_type": "code",
   "execution_count": 7,
   "id": "df5d4332",
   "metadata": {},
   "outputs": [],
   "source": [
    "# Q3. In Python, how many different ways are there to index a character?"
   ]
  },
  {
   "cell_type": "markdown",
   "id": "9e5e6e07",
   "metadata": {},
   "source": [
    "In Python, there is only one way to index a character in a string, which is by using square brackets [] notation with the index of the character within the string.\n",
    "\n",
    "The index of the first character in a string is 0, and the index of the last character is len(string) - 1, where string is the string being indexed.\n",
    "\n",
    "For example, given the string \"hello\", the first character \"h\" can be indexed using string[0] notation, and the last character \"o\" can be indexed using string[4] notation:"
   ]
  },
  {
   "cell_type": "code",
   "execution_count": 8,
   "id": "c03a4795",
   "metadata": {},
   "outputs": [
    {
     "name": "stdout",
     "output_type": "stream",
     "text": [
      "h\n",
      "o\n"
     ]
    }
   ],
   "source": [
    "string = \"hello\"\n",
    "print(string[0])  # Output: \"h\"\n",
    "print(string[4])  # Output: \"o\"\n"
   ]
  },
  {
   "cell_type": "code",
   "execution_count": 9,
   "id": "26a10708",
   "metadata": {},
   "outputs": [
    {
     "name": "stdout",
     "output_type": "stream",
     "text": [
      "o\n"
     ]
    }
   ],
   "source": [
    "print(string[-1])  # Raises IndexError: string index out of range\n"
   ]
  },
  {
   "cell_type": "code",
   "execution_count": 10,
   "id": "64426afc",
   "metadata": {},
   "outputs": [],
   "source": [
    "# Q4. What is the relationship between indexing and slicing?"
   ]
  },
  {
   "cell_type": "markdown",
   "id": "6e27e099",
   "metadata": {},
   "source": [
    "In Python, indexing and slicing are two ways to access and manipulate individual characters or substrings of a string. Indexing refers to accessing a single character at a specific position within the string, whereas slicing refers to extracting a contiguous subset of characters from the string.\n",
    "\n",
    "The main difference between indexing and slicing is the notation used. Indexing uses square brackets [] with a single index value to access a single character, whereas slicing uses the same square brackets [] with two or three index values to extract a contiguous subset of characters from the string.\n",
    "\n",
    "For example, given the string \"hello\", we can index the first character \"h\" using string[0] notation, and slice the substring \"ell\" using string[1:4] notation:"
   ]
  },
  {
   "cell_type": "code",
   "execution_count": 11,
   "id": "0b9cd222",
   "metadata": {},
   "outputs": [
    {
     "name": "stdout",
     "output_type": "stream",
     "text": [
      "h\n",
      "ell\n"
     ]
    }
   ],
   "source": [
    "string = \"hello\"\n",
    "print(string[0])    # Output: \"h\"\n",
    "print(string[1:4])  # Output: \"ell\"\n"
   ]
  },
  {
   "cell_type": "code",
   "execution_count": 12,
   "id": "49775a45",
   "metadata": {},
   "outputs": [],
   "source": [
    "# Q5. What is an indexed character's exact data type? What is the data form of a slicing-generated\n",
    "# substring?"
   ]
  },
  {
   "cell_type": "markdown",
   "id": "d1714f33",
   "metadata": {},
   "source": [
    "In Python, an indexed character is represented by a string data type, which is a sequence of Unicode characters enclosed in single or double quotes.\n",
    "\n",
    "When you access an indexed character in a string using square bracket notation, the returned value is a string of length 1 that contains the character at the specified index. The data type of this returned value is also a string.\n",
    "\n",
    "For example, given the string \"hello\", the indexed character at position 1 is the string \"e\", and its data type is also a string:"
   ]
  },
  {
   "cell_type": "code",
   "execution_count": 13,
   "id": "0a7da34d",
   "metadata": {},
   "outputs": [
    {
     "name": "stdout",
     "output_type": "stream",
     "text": [
      "e\n",
      "<class 'str'>\n"
     ]
    }
   ],
   "source": [
    "string = \"hello\"\n",
    "indexed_character = string[1]\n",
    "print(indexed_character)  # Output: \"e\"\n",
    "print(type(indexed_character))  # Output: <class 'str'>\n"
   ]
  },
  {
   "cell_type": "code",
   "execution_count": 14,
   "id": "b0125905",
   "metadata": {},
   "outputs": [
    {
     "name": "stdout",
     "output_type": "stream",
     "text": [
      "ell\n",
      "<class 'str'>\n"
     ]
    }
   ],
   "source": [
    "string = \"hello\"\n",
    "substring = string[1:4]\n",
    "print(substring)  # Output: \"ell\"\n",
    "print(type(substring))  # Output: <class 'str'>\n"
   ]
  },
  {
   "cell_type": "code",
   "execution_count": 15,
   "id": "0118fe65",
   "metadata": {},
   "outputs": [],
   "source": [
    "# Q6. What is the relationship between string and character \"types\" in Python?"
   ]
  },
  {
   "cell_type": "markdown",
   "id": "2392e1cf",
   "metadata": {},
   "source": [
    "In Python, there is no separate \"character\" data type distinct from the \"string\" data type. In fact, a \"string\" in Python is simply a sequence of \"characters\". A \"character\" in Python is just a string of length 1.\n",
    "\n",
    "Thus, a Python string can be thought of as a collection of individual characters, where each character is itself a string of length 1. This means that string operations, such as indexing and slicing, can be used to manipulate individual \"characters\" in a string.\n",
    "\n",
    "For example, given the string \"hello\", we can access the first \"character\" (i.e., the character at index 0) using indexing notation string[0], and its data type will be a string of length 1:"
   ]
  },
  {
   "cell_type": "code",
   "execution_count": 16,
   "id": "362a7216",
   "metadata": {},
   "outputs": [
    {
     "name": "stdout",
     "output_type": "stream",
     "text": [
      "h\n",
      "<class 'str'>\n"
     ]
    }
   ],
   "source": [
    "string = \"hello\"\n",
    "character = string[0]\n",
    "print(character)  # Output: \"h\"\n",
    "print(type(character))  # Output: <class 'str'>\n"
   ]
  },
  {
   "cell_type": "markdown",
   "id": "af55cea5",
   "metadata": {},
   "source": [
    "Similarly, we can extract a substring consisting of multiple \"characters\" using slicing notation string[1:4], and the result will be a string:"
   ]
  },
  {
   "cell_type": "code",
   "execution_count": 17,
   "id": "f1e82ae6",
   "metadata": {},
   "outputs": [
    {
     "name": "stdout",
     "output_type": "stream",
     "text": [
      "ell\n",
      "<class 'str'>\n"
     ]
    }
   ],
   "source": [
    "string = \"hello\"\n",
    "substring = string[1:4]\n",
    "print(substring)  # Output: \"ell\"\n",
    "print(type(substring))  # Output: <class 'str'>\n"
   ]
  },
  {
   "cell_type": "code",
   "execution_count": 18,
   "id": "3e6f42bb",
   "metadata": {},
   "outputs": [],
   "source": [
    "# Q7. Identify at least two operators and one method that allow you to combine one or more smaller\n",
    "# strings to create a larger string."
   ]
  },
  {
   "cell_type": "markdown",
   "id": "173e3f70",
   "metadata": {},
   "source": [
    "In Python, there are several ways to combine smaller strings to create a larger string. Here are two commonly used operators and one method:\n",
    "\n",
    "+ operator: The + operator can be used to concatenate two or more strings. When you use the + operator with two or more strings, it creates a new string that contains all the characters of the original strings in the order they were combined.\n",
    "For example, you can use the + operator to concatenate the strings \"hello\" and \"world\" to create the string \"hello world\":"
   ]
  },
  {
   "cell_type": "code",
   "execution_count": 19,
   "id": "f4f9f1ac",
   "metadata": {},
   "outputs": [
    {
     "name": "stdout",
     "output_type": "stream",
     "text": [
      "hello world\n"
     ]
    }
   ],
   "source": [
    "string1 = \"hello\"\n",
    "string2 = \"world\"\n",
    "result = string1 + \" \" + string2\n",
    "print(result)  # Output: \"hello world\"\n"
   ]
  },
  {
   "cell_type": "markdown",
   "id": "1f6255fe",
   "metadata": {},
   "source": [
    "join() method: The join() method can be used to concatenate a list of strings into a single string. When you call the join() method on a string separator and pass it a list of strings, it creates a new string by concatenating all the strings in the list, separated by the specified separator.\n",
    "For example, you can use the join() method to concatenate the strings \"hello\", \"world\", and \"python\" into the string \"hello, world, python\":\n",
    "\n"
   ]
  },
  {
   "cell_type": "code",
   "execution_count": 20,
   "id": "a604464a",
   "metadata": {},
   "outputs": [
    {
     "name": "stdout",
     "output_type": "stream",
     "text": [
      "hello, world, python\n"
     ]
    }
   ],
   "source": [
    "strings = [\"hello\", \"world\", \"python\"]\n",
    "separator = \", \"\n",
    "result = separator.join(strings)\n",
    "print(result)  # Output: \"hello, world, python\"\n"
   ]
  },
  {
   "cell_type": "code",
   "execution_count": 21,
   "id": "8731cfa5",
   "metadata": {},
   "outputs": [],
   "source": [
    "# Q8. What is the benefit of first checking the target string with in or not in before using the index\n",
    "# method to find a substring?"
   ]
  },
  {
   "cell_type": "markdown",
   "id": "37218fe9",
   "metadata": {},
   "source": [
    "The in and not in operators in Python are used to check if a substring is present or not in a larger string, respectively. On the other hand, the index() method is used to find the index of the first occurrence of a substring within a larger string.\n",
    "\n",
    "Checking the target string with in or not in before using the index() method to find a substring can provide some benefits. Here are a few reasons why you might want to do this:\n",
    "\n",
    "Avoiding errors: If the substring you're searching for isn't present in the larger string, the index() method will raise a ValueError. By first checking if the substring is present using in or not in, you can avoid this error and handle the case where the substring is not found in a more graceful way.\n",
    "\n",
    "Efficiency: If the larger string is very long, and the substring you're searching for is not present, calling the index() method will traverse the entire length of the string to determine that the substring is not present. This can be a slow operation, especially if you're doing it multiple times. By first checking if the substring is present using in or not in, you can avoid the potentially expensive operation of calling index() unnecessarily.\n",
    "\n",
    "Code readability: Adding a simple if statement to check for the presence of a substring before calling index() can make your code more readable and easier to understand for other developers who may be reviewing or maintaining your code.\n",
    "\n",
    "Overall, checking the target string with in or not in before using the index() method to find a substring can help you write more efficient, robust, and readable code.\n",
    "\n",
    "\n",
    "\n",
    "\n"
   ]
  },
  {
   "cell_type": "code",
   "execution_count": 22,
   "id": "a1fdac96",
   "metadata": {},
   "outputs": [
    {
     "name": "stdout",
     "output_type": "stream",
     "text": [
      "The substring 'cat' is not present in the text.\n"
     ]
    }
   ],
   "source": [
    "text = \"The quick brown fox jumps over the lazy dog\"\n",
    "substring = \"cat\"\n",
    "\n",
    "# Check if substring is present using 'in'\n",
    "if substring in text:\n",
    "    index = text.index(substring)\n",
    "    print(f\"The substring '{substring}' is present at index {index}.\")\n",
    "else:\n",
    "    print(f\"The substring '{substring}' is not present in the text.\")\n",
    "\n",
    "# Output: The substring 'cat' is not present in the text.\n"
   ]
  },
  {
   "cell_type": "code",
   "execution_count": 23,
   "id": "dcc85f55",
   "metadata": {},
   "outputs": [],
   "source": [
    "# Q9. Which operators and built-in string methods produce simple Boolean (true/false) results?"
   ]
  },
  {
   "cell_type": "markdown",
   "id": "ecf56649",
   "metadata": {},
   "source": [
    "In Python, several operators and built-in string methods produce simple Boolean (true/false) results. Here are a few examples:\n",
    "\n",
    "Operators:\n",
    "\n",
    "in: This operator returns True if the substring is present in the larger string, and False otherwise. For example: \"hello\" in \"hello world\" returns True.\n",
    "\n",
    "not in: This operator returns True if the substring is not present in the larger string, and False otherwise. For example: \"goodbye\" not in \"hello world\" returns True.\n",
    "\n",
    "==: This operator returns True if two strings are equal, and False otherwise. For example: \"hello\" == \"hello\" returns True."
   ]
  },
  {
   "cell_type": "markdown",
   "id": "9acad57a",
   "metadata": {},
   "source": [
    "String methods:\n",
    "\n",
    "startswith(): This method returns True if a string starts with a specified prefix, and False otherwise. For example: \"hello world\".startswith(\"hello\") returns True.\n",
    "\n",
    "endswith(): This method returns True if a string ends with a specified suffix, and False otherwise. For example: \"hello world\".endswith(\"world\") returns True.\n",
    "\n",
    "isalpha(): This method returns True if a string consists only of alphabetic characters, and False otherwise. For example: \"hello\".isalpha() returns True, while \"hello123\".isalpha() returns False.\n",
    "\n",
    "isdigit(): This method returns True if a string consists only of digits, and False otherwise. For example: \"123\".isdigit() returns True, while \"hello123\".isdigit() returns False."
   ]
  },
  {
   "cell_type": "code",
   "execution_count": null,
   "id": "42e93efd",
   "metadata": {},
   "outputs": [],
   "source": []
  }
 ],
 "metadata": {
  "kernelspec": {
   "display_name": "Python 3 (ipykernel)",
   "language": "python",
   "name": "python3"
  },
  "language_info": {
   "codemirror_mode": {
    "name": "ipython",
    "version": 3
   },
   "file_extension": ".py",
   "mimetype": "text/x-python",
   "name": "python",
   "nbconvert_exporter": "python",
   "pygments_lexer": "ipython3",
   "version": "3.9.12"
  }
 },
 "nbformat": 4,
 "nbformat_minor": 5
}
