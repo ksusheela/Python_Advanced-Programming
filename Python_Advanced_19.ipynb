{
 "cells": [
  {
   "cell_type": "code",
   "execution_count": 1,
   "id": "35727d29",
   "metadata": {},
   "outputs": [],
   "source": [
    "# Q1. Define the relationship between a class and its instances. Is it a one-to-one or a one-to-many\n",
    "# partnership, for example?"
   ]
  },
  {
   "cell_type": "markdown",
   "id": "3318da39",
   "metadata": {},
   "source": [
    "A class is a blueprint or a template for creating objects, while an instance is a specific realization of that class. The relationship between a class and its instances can be described as a one-to-many partnership, where a single class can have multiple instances created from it.\n",
    "\n",
    "Each instance is unique and has its own set of values for the attributes defined in the class. The class provides the structure and behavior for all instances created from it, but each instance can have its own state and behavior based on its specific attributes and methods.\n",
    "\n",
    "In other words, a class defines the common properties and behavior for a group of objects, while instances are individual objects that can have their own specific characteristics and behaviors based on the class definition."
   ]
  },
  {
   "cell_type": "code",
   "execution_count": 2,
   "id": "86137360",
   "metadata": {},
   "outputs": [],
   "source": [
    "# Q2. What kind of data is held only in an instance?"
   ]
  },
  {
   "cell_type": "markdown",
   "id": "61a33578",
   "metadata": {},
   "source": [
    "In object-oriented programming, an instance is a specific realization of a class that has its own set of values for the attributes defined in the class. Instance data refers to the data that is unique to a specific instance and is not shared by other instances of the same class.\n",
    "\n",
    "Instance data can include any data that is specific to the instance and not part of the class definition. For example, if a class defines a \"Person\" with attributes such as name, age, and gender, then instance data for a particular person instance could include the person's name, age, and gender.\n",
    "\n",
    "Other examples of instance data could include the current state of an object, such as the position of a moving object or the status of a running process. Any data that is specific to a particular instance and not part of the class definition is considered instance data."
   ]
  },
  {
   "cell_type": "code",
   "execution_count": 3,
   "id": "34cf8e61",
   "metadata": {},
   "outputs": [],
   "source": [
    "# Q3. What kind of knowledge is stored in a class?"
   ]
  },
  {
   "cell_type": "markdown",
   "id": "46da1789",
   "metadata": {},
   "source": [
    "In object-oriented programming, a class is a blueprint or a template that defines the properties and behavior of a group of objects. The knowledge stored in a class can include the following:\n",
    "\n",
    "Attributes or properties: A class can define a set of attributes or properties that describe the characteristics of the objects created from the class. For example, a class \"Person\" may have attributes such as name, age, and gender.\n",
    "\n",
    "Methods or functions: A class can also define a set of methods or functions that define the behavior of the objects created from the class. For example, a class \"Person\" may have methods such as \"walk,\" \"talk,\" or \"eat.\"\n",
    "\n",
    "Relationships: A class can define relationships between objects created from the class or with other classes. For example, a class \"Student\" can have a relationship with a class \"Teacher,\" where each student can have one or more teachers.\n",
    "\n",
    "Constraints: A class can define constraints or rules that must be followed by the objects created from the class. For example, a class \"BankAccount\" may have a constraint that the account balance cannot be negative.\n",
    "\n",
    "In summary, a class in object-oriented programming stores knowledge about the properties, behavior, relationships, and constraints of the objects created from the class."
   ]
  },
  {
   "cell_type": "code",
   "execution_count": 4,
   "id": "f7aef30c",
   "metadata": {},
   "outputs": [],
   "source": [
    "# Q4. What exactly is a method, and how is it different from a regular function?"
   ]
  },
  {
   "cell_type": "markdown",
   "id": "1504579e",
   "metadata": {},
   "source": [
    "In object-oriented programming, a method is a function that is defined inside a class and can be called on an object created from that class.\n",
    "\n",
    "A method is different from a regular function in that it is associated with a specific object created from a class and can access and manipulate the object's data. A method typically takes the form of object.method(arguments) where object is an instance of the class and method is a function defined inside the class.\n",
    "\n",
    "Here are some key differences between a method and a regular function:\n",
    "\n",
    "A method is associated with a specific object, while a function is not. A method operates on the data associated with the object it is called on, while a function operates on its input arguments.\n",
    "\n",
    "A method is defined inside a class, while a function is defined outside of any class. A method is part of the class definition and can only be called on an instance of that class.\n",
    "\n",
    "A method can access and modify the state of an object it is called on, while a function generally cannot. A method can access and manipulate the object's attributes, which are defined in the class.\n",
    "\n",
    "A method can be overridden in a subclass, while a function cannot. In object-oriented programming, a subclass can define a new implementation of a method inherited from its superclass.\n",
    "\n",
    "In summary, a method is a function defined inside a class that is associated with a specific object and can access and manipulate the object's data, while a regular function is not associated with any object and operates on its input arguments.\n",
    "\n"
   ]
  },
  {
   "cell_type": "code",
   "execution_count": 15,
   "id": "f90eabc3",
   "metadata": {},
   "outputs": [],
   "source": [
    "# Q5. Is inheritance supported in Python, and if so, what is the syntax?"
   ]
  },
  {
   "cell_type": "markdown",
   "id": "25aa1458",
   "metadata": {},
   "source": [
    "Yes, inheritance is supported in Python. Inheritance is a mechanism that allows a class to inherit properties and methods from another class.\n",
    "\n",
    "The syntax for creating a subclass in Python and inheriting from a superclass is as follows:"
   ]
  },
  {
   "cell_type": "code",
   "execution_count": 16,
   "id": "4d68efe3",
   "metadata": {},
   "outputs": [],
   "source": [
    "# class SuperClass:\n",
    "#     # properties and methods\n",
    "\n",
    "# class SubClass(SuperClass):\n",
    "#     # properties and methods\n"
   ]
  },
  {
   "cell_type": "code",
   "execution_count": 17,
   "id": "805ee1ef",
   "metadata": {},
   "outputs": [
    {
     "name": "stdout",
     "output_type": "stream",
     "text": [
      "Fido\n",
      "Woof!\n",
      "Whiskers\n",
      "Meow!\n"
     ]
    }
   ],
   "source": [
    "class Animal:\n",
    "    def __init__(self, name):\n",
    "        self.name = name\n",
    "\n",
    "    def speak(self):\n",
    "        raise NotImplementedError(\"Subclass must implement abstract method\")\n",
    "\n",
    "class Dog(Animal):\n",
    "    def speak(self):\n",
    "        return \"Woof!\"\n",
    "\n",
    "class Cat(Animal):\n",
    "    def speak(self):\n",
    "        return \"Meow!\"\n",
    "\n",
    "dog1 = Dog(\"Fido\")\n",
    "print(dog1.name)\n",
    "print(dog1.speak())\n",
    "\n",
    "cat1 = Cat(\"Whiskers\")\n",
    "print(cat1.name)\n",
    "print(cat1.speak())\n"
   ]
  },
  {
   "cell_type": "code",
   "execution_count": 18,
   "id": "16861851",
   "metadata": {},
   "outputs": [],
   "source": [
    "# Q6. How much encapsulation (making instance or class variables private) does Python support?"
   ]
  },
  {
   "cell_type": "markdown",
   "id": "c0ce5fec",
   "metadata": {},
   "source": [
    "Python supports a limited degree of encapsulation for instance and class variables using naming conventions. By convention, variables that are intended to be private to a class or instance are named with a leading underscore (e.g. _my_private_variable). However, this does not actually enforce encapsulation in the way that it does in other object-oriented programming languages such as Java or C#.\n",
    "\n",
    "In Python, it is still possible to access and modify instance and class variables even if they are intended to be private. For example, the following code demonstrates how to access and modify a private instance variable:"
   ]
  },
  {
   "cell_type": "code",
   "execution_count": 19,
   "id": "5f748892",
   "metadata": {},
   "outputs": [
    {
     "name": "stdout",
     "output_type": "stream",
     "text": [
      "42\n",
      "23\n"
     ]
    }
   ],
   "source": [
    "class MyClass:\n",
    "    def __init__(self):\n",
    "        self._my_private_variable = 42\n",
    "\n",
    "my_object = MyClass()\n",
    "print(my_object._my_private_variable) # prints 42\n",
    "\n",
    "my_object._my_private_variable = 23\n",
    "print(my_object._my_private_variable) # prints 23\n"
   ]
  },
  {
   "cell_type": "markdown",
   "id": "04fd2b47",
   "metadata": {},
   "source": [
    "Note that the _my_private_variable variable is intended to be private, but it can still be accessed and modified from outside the class. This is because the underscore naming convention is only a convention, and it is up to the programmer to follow it. However, using the naming convention can help communicate to other programmers that a variable is intended to be private and should not be accessed or modified from outside the class."
   ]
  },
  {
   "cell_type": "code",
   "execution_count": 21,
   "id": "0bf99267",
   "metadata": {},
   "outputs": [],
   "source": [
    "# Q7. How do you distinguish between a class variable and an instance variable?"
   ]
  },
  {
   "cell_type": "markdown",
   "id": "c1d7fddf",
   "metadata": {},
   "source": [
    "In Python, a class variable is a variable that is shared by all instances of a class, while an instance variable is a variable that is unique to each instance of a class.\n",
    "\n",
    "Here's an example that illustrates the difference between a class variable and an instance variable:"
   ]
  },
  {
   "cell_type": "code",
   "execution_count": 22,
   "id": "ffd08c76",
   "metadata": {},
   "outputs": [
    {
     "name": "stdout",
     "output_type": "stream",
     "text": [
      "0\n",
      "0\n",
      "42\n",
      "0\n",
      "1\n",
      "2\n"
     ]
    }
   ],
   "source": [
    "class MyClass:\n",
    "    class_variable = 0\n",
    "\n",
    "    def __init__(self, instance_variable):\n",
    "        self.instance_variable = instance_variable\n",
    "\n",
    "# Create two instances of the MyClass class\n",
    "object1 = MyClass(1)\n",
    "object2 = MyClass(2)\n",
    "\n",
    "# Access the class variable from the instances\n",
    "print(object1.class_variable) # prints 0\n",
    "print(object2.class_variable) # prints 0\n",
    "\n",
    "# Change the class variable from one of the instances\n",
    "object1.class_variable = 42\n",
    "\n",
    "# The class variable is now different for each instance\n",
    "print(object1.class_variable) # prints 42\n",
    "print(object2.class_variable) # prints 0\n",
    "\n",
    "# The instance variables are unique to each instance\n",
    "print(object1.instance_variable) # prints 1\n",
    "print(object2.instance_variable) # prints 2\n"
   ]
  },
  {
   "cell_type": "code",
   "execution_count": 23,
   "id": "e6568988",
   "metadata": {},
   "outputs": [],
   "source": [
    "# Q8. When, if ever, can self be included in a class's method definitions?"
   ]
  },
  {
   "cell_type": "markdown",
   "id": "40c8065a",
   "metadata": {},
   "source": [
    "In Python, the self parameter is included in a class's method definitions to indicate that the method is an instance method. An instance method is a method that operates on an instance of the class, and the self parameter is used to reference the instance that the method is operating on.\n",
    "\n",
    "The self parameter is typically included as the first parameter in a method definition, but its name can be anything (although self is the convention). Here's an example:"
   ]
  },
  {
   "cell_type": "code",
   "execution_count": 28,
   "id": "faa2497c",
   "metadata": {},
   "outputs": [],
   "source": [
    "# class MyClass:\n",
    "#     def my_method(self, arg1, arg2):\n",
    "#         # do something with arg1, arg2, and self\n",
    "#         pass\n"
   ]
  },
  {
   "cell_type": "code",
   "execution_count": 24,
   "id": "ac7da2b2",
   "metadata": {},
   "outputs": [],
   "source": [
    "# Q9. What is the difference between the _ _add_ _ and the _ _radd_ _ methods?"
   ]
  },
  {
   "cell_type": "markdown",
   "id": "48318957",
   "metadata": {},
   "source": [
    "The __add__ and __radd__ methods in Python are used to implement addition for objects of a class. The __add__ method is used when the object appears on the left side of the + operator, while the __radd__ method is used when the object appears on the right side of the + operator.\n",
    "\n",
    "Here's an example that illustrates the difference between the __add__ and __radd__ methods:"
   ]
  },
  {
   "cell_type": "code",
   "execution_count": 27,
   "id": "926a7996",
   "metadata": {},
   "outputs": [
    {
     "name": "stdout",
     "output_type": "stream",
     "text": [
      "__add__ called\n",
      "__radd__ called\n"
     ]
    }
   ],
   "source": [
    "class MyClass:\n",
    "    def __init__(self, value):\n",
    "        self.value = value\n",
    "\n",
    "    def __add__(self, other):\n",
    "        print(\"__add__ called\")\n",
    "        return MyClass(self.value + other.value)\n",
    "\n",
    "    def __radd__(self, other):\n",
    "        print(\"__radd__ called\")\n",
    "        return MyClass(self.value + other)\n",
    "\n",
    "object1 = MyClass(1)\n",
    "object2 = MyClass(2)\n",
    "\n",
    "# Calling __add__ on object1 with object2 as an argument\n",
    "result1 = object1 + object2 # prints \"__add__ called\"\n",
    "\n",
    "# Calling __radd__ on 3 with object1 as an argument\n",
    "result2 = 3 + object1 # prints \"__radd__ called\"\n"
   ]
  },
  {
   "cell_type": "code",
   "execution_count": 26,
   "id": "951916f2",
   "metadata": {},
   "outputs": [],
   "source": [
    "# Q10. When is it necessary to use a reflection method? When do you not need it, even though you\n",
    "# support the operation in question?"
   ]
  },
  {
   "cell_type": "markdown",
   "id": "db8017b1",
   "metadata": {},
   "source": [
    "Reflection methods, also known as \"magic methods\" or \"dunder methods\", are special methods in Python that are used to implement built-in operations or behaviors. Reflection methods are called automatically by Python when certain operations are performed on objects of a class.\n",
    "\n",
    "One common example of a reflection method is the __str__ method, which is used to convert an object to a string representation. Another example is the __len__ method, which is used to get the length of an object.\n",
    "\n",
    "It is necessary to use a reflection method when you want to implement a specific behavior or operation for objects of your class. For example, if you want to implement addition between objects of your class, you would define the __add__ method.\n",
    "\n",
    "However, it is not always necessary to define a reflection method, even if you support the operation in question. For example, if you have a class that represents a list of items, you may support the in operator to check if an item is in the list. Python will automatically check if an item is in the list by calling the __contains__ method if it is defined, but if it is not defined, Python will use the __iter__ method to iterate over the list and check if the item is present."
   ]
  },
  {
   "cell_type": "code",
   "execution_count": 29,
   "id": "771dd257",
   "metadata": {},
   "outputs": [],
   "source": [
    "# Q11. What is the _ _iadd_ _ method called?"
   ]
  },
  {
   "cell_type": "markdown",
   "id": "a0add567",
   "metadata": {},
   "source": [
    "The __iadd__ method is called the \"in-place addition\" method. It is used to define the behavior of the += operator between objects of a class. When the += operator is used on an object, Python will check if the object has an __iadd__ method, and if it does, it will use that method to perform the addition in-place (i.e., modify the object itself rather than creating a new object).\n",
    "\n",
    "Here's an example:"
   ]
  },
  {
   "cell_type": "code",
   "execution_count": 32,
   "id": "5e2781e6",
   "metadata": {},
   "outputs": [
    {
     "name": "stdout",
     "output_type": "stream",
     "text": [
      "8\n"
     ]
    }
   ],
   "source": [
    "class Counter:\n",
    "    def __init__(self, value):\n",
    "        self.value = value\n",
    "    \n",
    "    def __iadd__(self, other):\n",
    "        self.value += other\n",
    "        return self\n",
    "c = Counter(5)\n",
    "c += 3\n",
    "print(c.value)"
   ]
  },
  {
   "cell_type": "code",
   "execution_count": 30,
   "id": "4e87704c",
   "metadata": {},
   "outputs": [],
   "source": [
    "# Q12. Is the _ _init_ _ method inherited by subclasses? What do you do if you need to customize its\n",
    "# behavior within a subclass?"
   ]
  },
  {
   "cell_type": "markdown",
   "id": "967fee3c",
   "metadata": {},
   "source": [
    "Yes, the __init__ method is inherited by subclasses in Python. When a subclass is created, it inherits all of the attributes and methods of its parent class, including the __init__ method.\n",
    "\n",
    "If you need to customize the behavior of __init__ in a subclass, you can override it by defining a new __init__ method in the subclass. Within the new method, you can call the parent class's __init__ method using the super() function, and then add any additional behavior specific to the subclass.\n",
    "\n",
    "Here's an example:"
   ]
  },
  {
   "cell_type": "code",
   "execution_count": 33,
   "id": "becf6183",
   "metadata": {},
   "outputs": [
    {
     "name": "stdout",
     "output_type": "stream",
     "text": [
      "Mittens is an animal.\n",
      "Mittens is a tabby cat.\n"
     ]
    }
   ],
   "source": [
    "class Animal:\n",
    "    def __init__(self, name):\n",
    "        self.name = name\n",
    "        print(f\"{self.name} is an animal.\")\n",
    "\n",
    "class Cat(Animal):\n",
    "    def __init__(self, name, color):\n",
    "        super().__init__(name)\n",
    "        self.color = color\n",
    "        print(f\"{self.name} is a {self.color} cat.\")\n",
    "\n",
    "my_cat = Cat(\"Mittens\", \"tabby\")\n"
   ]
  },
  {
   "cell_type": "code",
   "execution_count": null,
   "id": "ab9142ba",
   "metadata": {},
   "outputs": [],
   "source": []
  }
 ],
 "metadata": {
  "kernelspec": {
   "display_name": "Python 3 (ipykernel)",
   "language": "python",
   "name": "python3"
  },
  "language_info": {
   "codemirror_mode": {
    "name": "ipython",
    "version": 3
   },
   "file_extension": ".py",
   "mimetype": "text/x-python",
   "name": "python",
   "nbconvert_exporter": "python",
   "pygments_lexer": "ipython3",
   "version": "3.9.12"
  }
 },
 "nbformat": 4,
 "nbformat_minor": 5
}
