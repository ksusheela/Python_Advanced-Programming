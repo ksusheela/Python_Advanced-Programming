{
 "cells": [
  {
   "cell_type": "code",
   "execution_count": 1,
   "id": "ad42a037",
   "metadata": {},
   "outputs": [],
   "source": [
    "# Q1. Is an assignment operator like += only for show? Is it possible that it would lead to faster results\n",
    "# at the runtime?"
   ]
  },
  {
   "cell_type": "markdown",
   "id": "861d9fac",
   "metadata": {},
   "source": [
    "No, the assignment operator like += is not only for show, it can also lead to faster results at runtime in certain cases.\n",
    "\n",
    "The += operator combines addition and assignment in a single operation. It adds the value on the right-hand side of the operator to the variable on the left-hand side and then assigns the result back to the same variable. This can be more efficient than writing separate addition and assignment statements because it avoids the need to access the variable twice.\n",
    "\n",
    "For example, consider the following code:"
   ]
  },
  {
   "cell_type": "code",
   "execution_count": 3,
   "id": "964d6b65",
   "metadata": {},
   "outputs": [],
   "source": [
    "#x = x + y\n"
   ]
  },
  {
   "cell_type": "markdown",
   "id": "ccde3f5c",
   "metadata": {},
   "source": [
    "This statement first retrieves the value of x, adds y to it, and then assigns the result back to x. In contrast, the equivalent code using the += operator is:"
   ]
  },
  {
   "cell_type": "markdown",
   "id": "2db9fc48",
   "metadata": {},
   "source": [
    "#x += y\n",
    "\n",
    "This statement performs the addition and assignment in a single step, which can be faster in some cases"
   ]
  },
  {
   "cell_type": "code",
   "execution_count": 7,
   "id": "bc897766",
   "metadata": {},
   "outputs": [],
   "source": [
    "# Q2. What is the smallest number of statements you'd have to write in most programming languages to\n",
    "# replace the Python expression a, b = a + b, a?"
   ]
  },
  {
   "cell_type": "markdown",
   "id": "dca0a75a",
   "metadata": {},
   "source": [
    "The Python expression a, b = a + b, a is a tuple assignment statement that assigns the value of a + b to a and the previous value of a to b.\n",
    "\n",
    "To replace this expression in most programming languages, you would need to write at least two statements to achieve the same result:"
   ]
  },
  {
   "cell_type": "code",
   "execution_count": 9,
   "id": "b2fbca34",
   "metadata": {},
   "outputs": [],
   "source": [
    "# temp = a\n",
    "# a = a + b\n",
    "# b = temp\n"
   ]
  },
  {
   "cell_type": "markdown",
   "id": "1bbe04fc",
   "metadata": {},
   "source": [
    "The first statement assigns the value of a to a temporary variable temp. The second statement adds b to the new value of a and assigns the result back to a. The third statement assigns the value of temp (which holds the previous value of a) to b.\n",
    "\n",
    "However, some programming languages provide a shorthand syntax for tuple assignment that allows you to write the same statement more concisely. For example, in JavaScript, you can write:"
   ]
  },
  {
   "cell_type": "markdown",
   "id": "11beee21",
   "metadata": {},
   "source": [
    "#[b, a] = [a + b, a];\n",
    "\n",
    "This assigns the value of a + b to the first element of a new array [a + b, a] and the value of a to the second element of the same array. The destructuring assignment syntax then assigns the first element of the array to b and the second element to a. This achieves the same result as the Python expression a, b = a + b, a in a single statement."
   ]
  },
  {
   "cell_type": "code",
   "execution_count": 11,
   "id": "344c2db7",
   "metadata": {},
   "outputs": [],
   "source": [
    "# Q3. In Python, what is the most effective way to set a list of 100 integers to 0?"
   ]
  },
  {
   "cell_type": "markdown",
   "id": "5f535c81",
   "metadata": {},
   "source": [
    "In Python, the most effective way to set a list of 100 integers to 0 is to use the list multiplication operator * to create a list of 100 zeros:"
   ]
  },
  {
   "cell_type": "code",
   "execution_count": 39,
   "id": "dff5ecd2",
   "metadata": {},
   "outputs": [
    {
     "data": {
      "text/plain": [
       "[0,\n",
       " 0,\n",
       " 0,\n",
       " 0,\n",
       " 0,\n",
       " 0,\n",
       " 0,\n",
       " 0,\n",
       " 0,\n",
       " 0,\n",
       " 0,\n",
       " 0,\n",
       " 0,\n",
       " 0,\n",
       " 0,\n",
       " 0,\n",
       " 0,\n",
       " 0,\n",
       " 0,\n",
       " 0,\n",
       " 0,\n",
       " 0,\n",
       " 0,\n",
       " 0,\n",
       " 0,\n",
       " 0,\n",
       " 0,\n",
       " 0,\n",
       " 0,\n",
       " 0,\n",
       " 0,\n",
       " 0,\n",
       " 0,\n",
       " 0,\n",
       " 0,\n",
       " 0,\n",
       " 0,\n",
       " 0,\n",
       " 0,\n",
       " 0,\n",
       " 0,\n",
       " 0,\n",
       " 0,\n",
       " 0,\n",
       " 0,\n",
       " 0,\n",
       " 0,\n",
       " 0,\n",
       " 0,\n",
       " 0,\n",
       " 0,\n",
       " 0,\n",
       " 0,\n",
       " 0,\n",
       " 0,\n",
       " 0,\n",
       " 0,\n",
       " 0,\n",
       " 0,\n",
       " 0,\n",
       " 0,\n",
       " 0,\n",
       " 0,\n",
       " 0,\n",
       " 0,\n",
       " 0,\n",
       " 0,\n",
       " 0,\n",
       " 0,\n",
       " 0,\n",
       " 0,\n",
       " 0,\n",
       " 0,\n",
       " 0,\n",
       " 0,\n",
       " 0,\n",
       " 0,\n",
       " 0,\n",
       " 0,\n",
       " 0,\n",
       " 0,\n",
       " 0,\n",
       " 0,\n",
       " 0,\n",
       " 0,\n",
       " 0,\n",
       " 0,\n",
       " 0,\n",
       " 0,\n",
       " 0,\n",
       " 0,\n",
       " 0,\n",
       " 0,\n",
       " 0,\n",
       " 0,\n",
       " 0,\n",
       " 0,\n",
       " 0,\n",
       " 0,\n",
       " 0]"
      ]
     },
     "execution_count": 39,
     "metadata": {},
     "output_type": "execute_result"
    }
   ],
   "source": [
    "my_list = [0] * 100\n",
    "my_list"
   ]
  },
  {
   "cell_type": "markdown",
   "id": "6fa22051",
   "metadata": {},
   "source": [
    "This statement creates a list with 100 elements, each of which is set to 0. The * operator repeats the value [0] 100 times to create the list.\n",
    "\n",
    "This method is more efficient than using a loop to set each element to 0 because it avoids the overhead of iterating through the list and assigning a value to each element. It also avoids the overhead of creating a new list using a list comprehension."
   ]
  },
  {
   "cell_type": "code",
   "execution_count": 13,
   "id": "e7cbe1ca",
   "metadata": {},
   "outputs": [],
   "source": [
    "# Q4. What is the most effective way to initialise a list of 99 integers that repeats the sequence 1, 2, 3?\n",
    "# S If necessary, show step-by-step instructions on how to accomplish this."
   ]
  },
  {
   "cell_type": "markdown",
   "id": "1571ad6a",
   "metadata": {},
   "source": [
    "The most effective way to initialize a list of 99 integers that repeats the sequence 1, 2, 3 is to use a list comprehension with the modulo operator %. Here's how to accomplish this step-by-step:\n",
    "\n",
    "Create a list with the sequence [1, 2, 3]:"
   ]
  },
  {
   "cell_type": "code",
   "execution_count": 14,
   "id": "08fc78cd",
   "metadata": {},
   "outputs": [],
   "source": [
    "seq = [1, 2, 3]\n"
   ]
  },
  {
   "cell_type": "markdown",
   "id": "61b9ca8d",
   "metadata": {},
   "source": [
    "Use a list comprehension to create a list of 99 integers that repeats the sequence. The list comprehension should iterate over a range of 99 and use the modulo operator to index into the seq list:"
   ]
  },
  {
   "cell_type": "code",
   "execution_count": 16,
   "id": "05f14e22",
   "metadata": {},
   "outputs": [
    {
     "data": {
      "text/plain": [
       "[1,\n",
       " 2,\n",
       " 3,\n",
       " 1,\n",
       " 2,\n",
       " 3,\n",
       " 1,\n",
       " 2,\n",
       " 3,\n",
       " 1,\n",
       " 2,\n",
       " 3,\n",
       " 1,\n",
       " 2,\n",
       " 3,\n",
       " 1,\n",
       " 2,\n",
       " 3,\n",
       " 1,\n",
       " 2,\n",
       " 3,\n",
       " 1,\n",
       " 2,\n",
       " 3,\n",
       " 1,\n",
       " 2,\n",
       " 3,\n",
       " 1,\n",
       " 2,\n",
       " 3,\n",
       " 1,\n",
       " 2,\n",
       " 3,\n",
       " 1,\n",
       " 2,\n",
       " 3,\n",
       " 1,\n",
       " 2,\n",
       " 3,\n",
       " 1,\n",
       " 2,\n",
       " 3,\n",
       " 1,\n",
       " 2,\n",
       " 3,\n",
       " 1,\n",
       " 2,\n",
       " 3,\n",
       " 1,\n",
       " 2,\n",
       " 3,\n",
       " 1,\n",
       " 2,\n",
       " 3,\n",
       " 1,\n",
       " 2,\n",
       " 3,\n",
       " 1,\n",
       " 2,\n",
       " 3,\n",
       " 1,\n",
       " 2,\n",
       " 3,\n",
       " 1,\n",
       " 2,\n",
       " 3,\n",
       " 1,\n",
       " 2,\n",
       " 3,\n",
       " 1,\n",
       " 2,\n",
       " 3,\n",
       " 1,\n",
       " 2,\n",
       " 3,\n",
       " 1,\n",
       " 2,\n",
       " 3,\n",
       " 1,\n",
       " 2,\n",
       " 3,\n",
       " 1,\n",
       " 2,\n",
       " 3,\n",
       " 1,\n",
       " 2,\n",
       " 3,\n",
       " 1,\n",
       " 2,\n",
       " 3,\n",
       " 1,\n",
       " 2,\n",
       " 3,\n",
       " 1,\n",
       " 2,\n",
       " 3,\n",
       " 1,\n",
       " 2,\n",
       " 3]"
      ]
     },
     "execution_count": 16,
     "metadata": {},
     "output_type": "execute_result"
    }
   ],
   "source": [
    "my_list = [seq[i % 3] for i in range(99)]\n",
    "my_list"
   ]
  },
  {
   "cell_type": "code",
   "execution_count": 17,
   "id": "1fafc7b3",
   "metadata": {},
   "outputs": [],
   "source": [
    "# Q5. If you're using IDLE to run a Python application, explain how to print a multidimensional list as\n",
    "# efficiently?"
   ]
  },
  {
   "cell_type": "markdown",
   "id": "08621d26",
   "metadata": {},
   "source": [
    "To print a multidimensional list efficiently in IDLE, you can use a nested loop to iterate over the rows and columns of the list and print each element. Here's an example of how to do this:"
   ]
  },
  {
   "cell_type": "code",
   "execution_count": 18,
   "id": "9c18a5ad",
   "metadata": {},
   "outputs": [
    {
     "name": "stdout",
     "output_type": "stream",
     "text": [
      "1 2 3 \n",
      "4 5 6 \n",
      "7 8 9 \n"
     ]
    }
   ],
   "source": [
    "my_list = [[1, 2, 3], [4, 5, 6], [7, 8, 9]]\n",
    "\n",
    "for row in my_list:\n",
    "    for elem in row:\n",
    "        print(elem, end=' ')\n",
    "    print()\n"
   ]
  },
  {
   "cell_type": "code",
   "execution_count": 19,
   "id": "04e7b788",
   "metadata": {},
   "outputs": [],
   "source": [
    "# Q6. Is it possible to use list comprehension with a string? If so, how can you go about doing it?"
   ]
  },
  {
   "cell_type": "markdown",
   "id": "79c744a6",
   "metadata": {},
   "source": [
    "Yes, it is possible to use list comprehension with a string in Python. You can use a list comprehension to create a list of characters or strings from a given string. Here's how to do it:\n",
    "\n",
    "To create a list of characters from a string, you can use a list comprehension with the string as the input iterable:"
   ]
  },
  {
   "cell_type": "code",
   "execution_count": 20,
   "id": "4102be4e",
   "metadata": {},
   "outputs": [
    {
     "name": "stdout",
     "output_type": "stream",
     "text": [
      "['h', 'e', 'l', 'l', 'o', ' ', 'w', 'o', 'r', 'l', 'd']\n"
     ]
    }
   ],
   "source": [
    "my_string = \"hello world\"\n",
    "my_chars = [char for char in my_string]\n",
    "print(my_chars)\n"
   ]
  },
  {
   "cell_type": "markdown",
   "id": "725b67ba",
   "metadata": {},
   "source": [
    "To create a list of substrings from a string, you can use a list comprehension with the string's split() method:"
   ]
  },
  {
   "cell_type": "code",
   "execution_count": 21,
   "id": "45e36652",
   "metadata": {},
   "outputs": [
    {
     "name": "stdout",
     "output_type": "stream",
     "text": [
      "['hello', 'world']\n"
     ]
    }
   ],
   "source": [
    "my_string = \"hello world\"\n",
    "my_words = [word for word in my_string.split()]\n",
    "print(my_words)\n"
   ]
  },
  {
   "cell_type": "code",
   "execution_count": 22,
   "id": "2b5fe9ee",
   "metadata": {},
   "outputs": [],
   "source": [
    "# Q7. From the command line, how do you get support with a user-written Python programme? Is this\n",
    "# possible from inside IDLE?"
   ]
  },
  {
   "cell_type": "markdown",
   "id": "8075255d",
   "metadata": {},
   "source": [
    "From the command line, you can get support with a user-written Python program by using the --help command-line argument. This argument should be followed by the name of the Python file you want to get help for. Here's an example:"
   ]
  },
  {
   "cell_type": "code",
   "execution_count": 23,
   "id": "ef252f8b",
   "metadata": {},
   "outputs": [],
   "source": [
    "# python my_program.py --help\n"
   ]
  },
  {
   "cell_type": "markdown",
   "id": "d828ecd2",
   "metadata": {},
   "source": [
    "This command will display the help message for the my_program.py file if the file includes a help message or command-line options.\n",
    "\n",
    "In addition to the --help command-line argument, you can also add command-line options to your program to allow users to customize its behavior. You can use a library like argparse to parse these command-line options and provide help messages for them."
   ]
  },
  {
   "cell_type": "code",
   "execution_count": 24,
   "id": "161af25d",
   "metadata": {},
   "outputs": [],
   "source": [
    "# Q8. Functions are said to be “first-class objects” in Python but not in most other languages, such as\n",
    "# C++ or Java. What can you do in Python with a function (callable object) that you can&#39;t do in C or\n",
    "# C++?"
   ]
  },
  {
   "cell_type": "markdown",
   "id": "39ad5515",
   "metadata": {},
   "source": [
    "In Python, functions are considered first-class objects, which means that they can be passed around and manipulated just like any other object. This allows for a variety of programming techniques that are not available in languages like C++ or Java.\n",
    "\n",
    "Here are some examples of what you can do with a function in Python that you can't do in C++:\n",
    "\n",
    "Assign a function to a"
   ]
  },
  {
   "cell_type": "code",
   "execution_count": 25,
   "id": "dffcb12a",
   "metadata": {},
   "outputs": [],
   "source": [
    "def add(a, b):\n",
    "    return a + b\n",
    "\n",
    "my_func = add\n",
    "result = my_func(2, 3) # result = 5\n"
   ]
  },
  {
   "cell_type": "markdown",
   "id": "ecdaac70",
   "metadata": {},
   "source": [
    "Pass a function as an argument to another function: In Python, you can pass a function as an argument to another function. This allows you to create more flexible and dynamic code. For example:"
   ]
  },
  {
   "cell_type": "code",
   "execution_count": 26,
   "id": "ec8d2de4",
   "metadata": {},
   "outputs": [],
   "source": [
    "def apply(func, a, b):\n",
    "    return func(a, b)\n",
    "\n",
    "result = apply(add, 2, 3) # result = 5\n"
   ]
  },
  {
   "cell_type": "markdown",
   "id": "6028ec85",
   "metadata": {},
   "source": [
    "Return a function from a function: In Python, you can return a function from another function. This allows you to create more complex and powerful functions. For example:"
   ]
  },
  {
   "cell_type": "code",
   "execution_count": 27,
   "id": "c488e05b",
   "metadata": {},
   "outputs": [],
   "source": [
    "def make_adder(n):\n",
    "    def adder(x):\n",
    "        return x + n\n",
    "    return adder\n",
    "\n",
    "add_3 = make_adder(3)\n",
    "result = add_3(2) # result = 5\n"
   ]
  },
  {
   "cell_type": "code",
   "execution_count": 28,
   "id": "6cb7b613",
   "metadata": {},
   "outputs": [],
   "source": [
    "# Q9. How do you distinguish between a wrapper, a wrapped feature, and a decorator?"
   ]
  },
  {
   "cell_type": "markdown",
   "id": "933c1030",
   "metadata": {},
   "source": [
    "In Python, a wrapper, a wrapped feature, and a decorator are all related to the concept of function composition, but they have slightly different meanings:\n",
    "\n",
    "Wrapper: A wrapper is a function that takes another function as an argument and returns a new function that typically modifies or enhances the behavior of the original function. The new function is said to \"wrap\" the original function. Here's an example:"
   ]
  },
  {
   "cell_type": "code",
   "execution_count": 29,
   "id": "a62ff24e",
   "metadata": {},
   "outputs": [
    {
     "name": "stdout",
     "output_type": "stream",
     "text": [
      "Calling the original function\n"
     ]
    }
   ],
   "source": [
    "def my_wrapper(func):\n",
    "    def new_func(*args, **kwargs):\n",
    "        print(\"Calling the original function\")\n",
    "        return func(*args, **kwargs)\n",
    "    return new_func\n",
    "\n",
    "@my_wrapper\n",
    "def my_function(x):\n",
    "    return x + 1\n",
    "\n",
    "result = my_function(2) # prints \"Calling the original function\" and returns 3\n"
   ]
  },
  {
   "cell_type": "markdown",
   "id": "d817adcc",
   "metadata": {},
   "source": [
    "In this example, my_wrapper is a wrapper function that takes a function func as an argument and returns a new function new_func that wraps the original function. The @my_wrapper decorator syntax is a shorthand way of applying the my_wrapper function to the my_function function."
   ]
  },
  {
   "cell_type": "markdown",
   "id": "842f322b",
   "metadata": {},
   "source": [
    "Wrapped feature: A wrapped feature refers to the original function that is being wrapped by the wrapper function. In the example above, my_function is the wrapped feature.\n",
    "\n",
    "Decorator: A decorator is a special kind of wrapper function that is used to modify the behavior of other functions. A decorator is applied to a function using the @decorator_name syntax. Decorators are often used for adding functionality like logging, caching, or authentication to a function. In the example above, @my_wrapper is a decorator that applies the my_wrapper function to my_function."
   ]
  },
  {
   "cell_type": "code",
   "execution_count": 30,
   "id": "adf79ba7",
   "metadata": {},
   "outputs": [],
   "source": [
    "# Q10. If a function is a generator function, what does it return?"
   ]
  },
  {
   "cell_type": "markdown",
   "id": "01afb432",
   "metadata": {},
   "source": [
    "If a function is a generator function in Python, it returns a generator object. A generator function is a special kind of function that uses the yield keyword to produce a series of values, rather than returning a single value like a regular function.\n",
    "\n",
    "When you call a generator function, it doesn't actually execute the function body right away. Instead, it returns a generator object that you can use to iterate over the values produced by the function. Each time you call the next() function on the generator object, the generator function is executed from where it left off until it encounters a yield statement. The value of the yield statement is returned as the next value of the generator.\n",
    "\n",
    "Here's an example of a generator function that produces the Fibonacci sequence:"
   ]
  },
  {
   "cell_type": "code",
   "execution_count": 31,
   "id": "ecf0d70b",
   "metadata": {},
   "outputs": [],
   "source": [
    "def fibonacci():\n",
    "    a, b = 0, 1\n",
    "    while True:\n",
    "        yield a\n",
    "        a, b = b, a + b\n"
   ]
  },
  {
   "cell_type": "markdown",
   "id": "6436d3b4",
   "metadata": {},
   "source": [
    "When you call this function, it doesn't actually produce any values right away. Instead, it returns a generator object:"
   ]
  },
  {
   "cell_type": "code",
   "execution_count": 32,
   "id": "a76ae5a7",
   "metadata": {},
   "outputs": [
    {
     "data": {
      "text/plain": [
       "<generator object fibonacci at 0x00000158D7276200>"
      ]
     },
     "execution_count": 32,
     "metadata": {},
     "output_type": "execute_result"
    }
   ],
   "source": [
    "fib = fibonacci()\n",
    "fib\n"
   ]
  },
  {
   "cell_type": "code",
   "execution_count": 34,
   "id": "5b9c1951",
   "metadata": {},
   "outputs": [
    {
     "data": {
      "text/plain": [
       "0"
      ]
     },
     "execution_count": 34,
     "metadata": {},
     "output_type": "execute_result"
    }
   ],
   "source": [
    "next(fib)"
   ]
  },
  {
   "cell_type": "code",
   "execution_count": 33,
   "id": "28a9b847",
   "metadata": {},
   "outputs": [],
   "source": [
    "# Q11. What is the one improvement that must be made to a function in order for it to become a\n",
    "# generator function in the Python language?"
   ]
  },
  {
   "cell_type": "markdown",
   "id": "76f03353",
   "metadata": {},
   "source": [
    "In order for a regular function to become a generator function in Python, it must include the yield keyword at least once in its body.\n",
    "\n",
    "A generator function is a special type of function that generates a series of values using the yield statement, rather than returning a single value with the return statement. When a generator function is called, it returns a generator object that can be used to iterate over the series of values.\n",
    "\n",
    "Here's an example of a regular function that adds two numbers and returns the result:"
   ]
  },
  {
   "cell_type": "code",
   "execution_count": 35,
   "id": "acbf812c",
   "metadata": {},
   "outputs": [],
   "source": [
    "def add_numbers(a, b):\n",
    "    return a + b\n"
   ]
  },
  {
   "cell_type": "code",
   "execution_count": 36,
   "id": "84c2558f",
   "metadata": {},
   "outputs": [],
   "source": [
    "# And here's an example of the same function implemented as a generator function:"
   ]
  },
  {
   "cell_type": "code",
   "execution_count": 37,
   "id": "8e22cca2",
   "metadata": {},
   "outputs": [],
   "source": [
    "def add_numbers_generator(a, b):\n",
    "    while True:\n",
    "        yield a + b\n"
   ]
  },
  {
   "cell_type": "markdown",
   "id": "e998ba07",
   "metadata": {},
   "source": [
    "In the generator version, we use an infinite loop with the yield statement to generate a series of values, rather than returning a single value with the return statement. Each time the generator is called, it generates the next value in the series."
   ]
  },
  {
   "cell_type": "code",
   "execution_count": 38,
   "id": "56c76146",
   "metadata": {},
   "outputs": [],
   "source": [
    "# Q12. Identify at least one benefit of generators."
   ]
  },
  {
   "cell_type": "markdown",
   "id": "98b18325",
   "metadata": {},
   "source": [
    "Generators offer several benefits over regular functions in Python:\n",
    "\n",
    "Memory efficiency: Generators are memory efficient because they generate values on-the-fly, one at a time, instead of generating all the values at once and storing them in memory. This makes them particularly useful for working with large datasets or infinite sequences.\n",
    "\n",
    "Lazy evaluation: Generators are evaluated lazily, which means that they only generate values as they are requested by the program. This can help improve performance by avoiding unnecessary computation and memory usage.\n",
    "\n",
    "Iterability: Generators are iterable, which means that they can be used in any context where an iterable is expected, such as in a for loop or with the built-in sum() function.\n",
    "\n",
    "Simplified code: Generators can often simplify code by removing the need for explicit loops and temporary data structures. For example, a generator expression can replace a list comprehension when only one value is needed at a time.\n",
    "\n",
    "Overall, generators are a powerful tool for working with large or infinite sequences of data in a memory-efficient and lazy manner, while also simplifying code and improving performance.\n",
    "\n",
    "\n",
    "\n",
    "\n",
    "\n"
   ]
  },
  {
   "cell_type": "code",
   "execution_count": null,
   "id": "9907dafd",
   "metadata": {},
   "outputs": [],
   "source": []
  }
 ],
 "metadata": {
  "kernelspec": {
   "display_name": "Python 3 (ipykernel)",
   "language": "python",
   "name": "python3"
  },
  "language_info": {
   "codemirror_mode": {
    "name": "ipython",
    "version": 3
   },
   "file_extension": ".py",
   "mimetype": "text/x-python",
   "name": "python",
   "nbconvert_exporter": "python",
   "pygments_lexer": "ipython3",
   "version": "3.9.12"
  }
 },
 "nbformat": 4,
 "nbformat_minor": 5
}
