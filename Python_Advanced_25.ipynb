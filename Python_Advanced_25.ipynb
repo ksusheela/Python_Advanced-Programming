{
 "cells": [
  {
   "cell_type": "code",
   "execution_count": 1,
   "id": "4062ddf5",
   "metadata": {},
   "outputs": [],
   "source": [
    "# Q1. What is the distinction between a numpy array and a pandas data frame? Is there a way to\n",
    "# convert between the two if there is?"
   ]
  },
  {
   "cell_type": "markdown",
   "id": "dbcc44aa",
   "metadata": {},
   "source": [
    "A numpy array is a homogenous, multi-dimensional array of elements, where each element has the same data type. It is primarily used for mathematical operations and numerical computations. On the other hand, a pandas dataframe is a tabular data structure with labeled axes (rows and columns). It allows for mixed data types and supports operations like merging, grouping, and filtering.\n",
    "\n",
    "The major difference between the two is that a numpy array is a low-level data structure and has limited functionalities, while a pandas dataframe is a high-level data structure with more advanced features for data manipulation and analysis.\n",
    "\n",
    "To convert a numpy array to a pandas dataframe, you can use the pandas.DataFrame() function and pass the numpy array as an argument. For example:"
   ]
  },
  {
   "cell_type": "code",
   "execution_count": 13,
   "id": "4d8eb029",
   "metadata": {},
   "outputs": [
    {
     "data": {
      "text/html": [
       "<div>\n",
       "<style scoped>\n",
       "    .dataframe tbody tr th:only-of-type {\n",
       "        vertical-align: middle;\n",
       "    }\n",
       "\n",
       "    .dataframe tbody tr th {\n",
       "        vertical-align: top;\n",
       "    }\n",
       "\n",
       "    .dataframe thead th {\n",
       "        text-align: right;\n",
       "    }\n",
       "</style>\n",
       "<table border=\"1\" class=\"dataframe\">\n",
       "  <thead>\n",
       "    <tr style=\"text-align: right;\">\n",
       "      <th></th>\n",
       "      <th>A</th>\n",
       "      <th>B</th>\n",
       "      <th>C</th>\n",
       "    </tr>\n",
       "  </thead>\n",
       "  <tbody>\n",
       "    <tr>\n",
       "      <th>0</th>\n",
       "      <td>1</td>\n",
       "      <td>2</td>\n",
       "      <td>3</td>\n",
       "    </tr>\n",
       "    <tr>\n",
       "      <th>1</th>\n",
       "      <td>4</td>\n",
       "      <td>5</td>\n",
       "      <td>6</td>\n",
       "    </tr>\n",
       "    <tr>\n",
       "      <th>2</th>\n",
       "      <td>7</td>\n",
       "      <td>8</td>\n",
       "      <td>9</td>\n",
       "    </tr>\n",
       "  </tbody>\n",
       "</table>\n",
       "</div>"
      ],
      "text/plain": [
       "   A  B  C\n",
       "0  1  2  3\n",
       "1  4  5  6\n",
       "2  7  8  9"
      ]
     },
     "execution_count": 13,
     "metadata": {},
     "output_type": "execute_result"
    }
   ],
   "source": [
    "import numpy as np\n",
    "import pandas as pd\n",
    "\n",
    "# create a numpy array\n",
    "arr = np.array([[1, 2, 3], [4, 5, 6], [7, 8, 9]])\n",
    "\n",
    "# convert numpy array to pandas dataframe\n",
    "df = pd.DataFrame(arr, columns=['A', 'B', 'C'])\n",
    "df"
   ]
  },
  {
   "cell_type": "code",
   "execution_count": 14,
   "id": "22be4f64",
   "metadata": {},
   "outputs": [
    {
     "data": {
      "text/plain": [
       "array([[1, 4, 7],\n",
       "       [2, 5, 8],\n",
       "       [3, 6, 9]], dtype=int64)"
      ]
     },
     "execution_count": 14,
     "metadata": {},
     "output_type": "execute_result"
    }
   ],
   "source": [
    "import numpy as np\n",
    "import pandas as pd\n",
    "\n",
    "# create a pandas dataframe\n",
    "df = pd.DataFrame({'A': [1, 2, 3], 'B': [4, 5, 6], 'C': [7, 8, 9]})\n",
    "\n",
    "# convert pandas dataframe to numpy array\n",
    "arr = df.values\n",
    "arr"
   ]
  },
  {
   "cell_type": "code",
   "execution_count": 4,
   "id": "3ac56de4",
   "metadata": {},
   "outputs": [],
   "source": [
    "# Q2. What can go wrong when an user enters in a stock-ticker symbol, and how do you handle it?"
   ]
  },
  {
   "cell_type": "markdown",
   "id": "50472ee8",
   "metadata": {},
   "source": [
    "When a user enters a stock-ticker symbol, several things can go wrong. Here are some common scenarios and how you can handle them:\n",
    "\n",
    "Wrong or misspelled symbol: The user might enter the wrong or misspelled symbol. In this case, you can handle it by checking the symbol against a list of valid symbols and providing an error message if the symbol is not found. Alternatively, you can use an API that returns a list of valid symbols and their corresponding companies and display it to the user for selection.\n",
    "\n",
    "Symbol no longer exists: A stock symbol may no longer exist due to mergers, acquisitions, or bankruptcy. In this case, you can handle it by checking the symbol against a list of current symbols and providing an error message if the symbol is not found.\n",
    "\n",
    "Server issues: Sometimes, the server might be down, which may result in an error or timeout. In this case, you can handle it by implementing a retry mechanism or displaying a message to the user to try again later.\n",
    "\n",
    "Data quality issues: The stock data might contain errors or inconsistencies that may result in incorrect information being displayed. In this case, you can handle it by implementing data validation and cleansing techniques to ensure the accuracy and consistency of the data.\n",
    "\n",
    "Overall, it's important to handle user input errors gracefully by providing informative error messages and offering possible solutions or alternatives to the user."
   ]
  },
  {
   "cell_type": "code",
   "execution_count": 5,
   "id": "93688ca3",
   "metadata": {},
   "outputs": [],
   "source": [
    "# Q3. Identify some of the plotting techniques that are used to produce a stock-market chart."
   ]
  },
  {
   "cell_type": "markdown",
   "id": "59d53d14",
   "metadata": {},
   "source": [
    "There are several plotting techniques that are commonly used to produce stock-market charts. Here are a few examples:\n",
    "\n",
    "Line chart: A line chart is a simple plotting technique that shows the trend of the stock price over time. It plots the stock price on the y-axis and the time on the x-axis, connecting the data points with a line.\n",
    "\n",
    "Candlestick chart: A candlestick chart is a more advanced plotting technique that displays the opening, closing, high, and low prices of the stock for each day. It uses rectangles (called candlesticks) to represent the range between the opening and closing prices and lines (called wicks) to represent the high and low prices.\n",
    "\n",
    "Bar chart: A bar chart is another common plotting technique that shows the range of prices for a given time period. It uses vertical bars to represent the range between the opening and closing prices and horizontal lines to represent the high and low prices.\n",
    "\n",
    "Area chart: An area chart is a variation of the line chart that shows the area below the line filled with color. It is commonly used to show the total market value of a stock or index over time.\n",
    "\n",
    "Scatter plot: A scatter plot is a plotting technique that shows the relationship between two variables. It can be used to plot the relationship between the stock price and other variables such as trading volume, market capitalization, or dividend yield.\n",
    "\n",
    "These are just a few examples of the plotting techniques that can be used to produce stock-market charts. The choice of technique depends on the data being analyzed and the insights that need to be communicated to the audience.\n",
    "\n",
    "\n",
    "\n",
    "\n",
    "\n"
   ]
  },
  {
   "cell_type": "code",
   "execution_count": 6,
   "id": "9f5f399a",
   "metadata": {},
   "outputs": [],
   "source": [
    "# Q4. Why is it essential to print a legend on a stock market chart?"
   ]
  },
  {
   "cell_type": "markdown",
   "id": "293be9d2",
   "metadata": {},
   "source": [
    "Printing a legend on a stock market chart is essential because it helps the viewer understand the information being presented. A legend provides a key to interpreting the various elements of the chart, such as the colors, symbols, or lines used to represent different data points.\n",
    "\n",
    "In a stock market chart, the legend may include information about the stock being plotted, such as its ticker symbol or the name of the company. It may also include information about the time period being shown, such as the start and end dates or the interval between data points.\n",
    "\n",
    "Additionally, the legend may provide information about the units of measurement used in the chart, such as the currency, share price, or trading volume. This helps the viewer understand the scale of the data being presented and allows for accurate interpretation of the chart.\n",
    "\n",
    "Overall, including a legend on a stock market chart is crucial for effective communication of data and helps ensure that the viewer can accurately understand and interpret the information being presented."
   ]
  },
  {
   "cell_type": "code",
   "execution_count": 7,
   "id": "71fcdb2e",
   "metadata": {},
   "outputs": [],
   "source": [
    "# Q5. What is the best way to limit the length of a pandas data frame to less than a year?"
   ]
  },
  {
   "cell_type": "markdown",
   "id": "ee15e5e6",
   "metadata": {},
   "source": [
    "The best way to limit the length of a pandas data frame to less than a year is to filter the data frame based on a specific date range. Here are the steps to do it:\n",
    "\n",
    "Convert the date column to a pandas datetime format using pd.to_datetime().\n",
    "\n",
    "Set the date column as the index using df.set_index('date', inplace=True).\n",
    "\n",
    "Filter the data frame based on a specific date range using df.loc[start_date:end_date], where start_date and end_date are datetime objects representing the start and end of the desired date range.\n",
    "\n",
    "Reset the index using df.reset_index(inplace=True).\n",
    "\n",
    "Here's an example code snippet that limits the length of a pandas data frame to less than a year, assuming that the date column is named 'date'"
   ]
  },
  {
   "cell_type": "code",
   "execution_count": 9,
   "id": "8de2ed07",
   "metadata": {},
   "outputs": [],
   "source": [
    "# import pandas as pd\n",
    "\n",
    "# # Load the data frame\n",
    "# df = pd.read_csv('data.csv')\n",
    "\n",
    "# # Convert the date column to datetime format\n",
    "# df['date'] = pd.to_datetime(df['date'])\n",
    "\n",
    "# # Set the date column as the index\n",
    "# df.set_index('date', inplace=True)\n",
    "\n",
    "# # Define the start and end dates for the desired date range\n",
    "# start_date = pd.to_datetime('2022-01-01')\n",
    "# end_date = pd.to_datetime('2022-12-31')\n",
    "\n",
    "# # Filter the data frame based on the date range\n",
    "# df = df.loc[start_date:end_date]\n",
    "\n",
    "# # Reset the index\n",
    "# df.reset_index(inplace=True)\n"
   ]
  },
  {
   "cell_type": "code",
   "execution_count": 10,
   "id": "34b5b4c9",
   "metadata": {},
   "outputs": [],
   "source": [
    "# Q6. What is the definition of a 180-day moving average?"
   ]
  },
  {
   "cell_type": "markdown",
   "id": "903c5a10",
   "metadata": {},
   "source": [
    "A 180-day moving average is a technical indicator used in financial analysis to smooth out the price data of a security or market index over a 180-day period. The moving average is calculated by taking the average price of the security over the previous 180 days.\n",
    "\n",
    "The 180-day moving average is a type of trend-following indicator that is used to identify the direction of a trend and to signal potential buy or sell signals. When the price of the security is above the 180-day moving average, it is considered to be in an uptrend, while a price below the moving average indicates a downtrend.\n",
    "\n",
    "Traders and investors use the 180-day moving average as part of their analysis to identify longer-term trends and to help filter out short-term price fluctuations. It can also be used in conjunction with other technical indicators and chart patterns to generate trading signals and to make informed investment decisions."
   ]
  },
  {
   "cell_type": "code",
   "execution_count": 11,
   "id": "650e825b",
   "metadata": {},
   "outputs": [],
   "source": [
    "# Q7. Did the chapter's final example use 'indirect' importing? If so, how exactly do you do it?"
   ]
  },
  {
   "cell_type": "markdown",
   "id": "a86a1609",
   "metadata": {},
   "source": [
    "Yes, the chapter's final example used \"indirect\" importing, also known as aliasing, which allows you to give a module a different name while importing it.\n",
    "\n",
    "To use indirect importing, you can use the as keyword and assign an alias to the module name. Here is an example:"
   ]
  },
  {
   "cell_type": "code",
   "execution_count": 12,
   "id": "477247b1",
   "metadata": {},
   "outputs": [
    {
     "data": {
      "text/html": [
       "<div>\n",
       "<style scoped>\n",
       "    .dataframe tbody tr th:only-of-type {\n",
       "        vertical-align: middle;\n",
       "    }\n",
       "\n",
       "    .dataframe tbody tr th {\n",
       "        vertical-align: top;\n",
       "    }\n",
       "\n",
       "    .dataframe thead th {\n",
       "        text-align: right;\n",
       "    }\n",
       "</style>\n",
       "<table border=\"1\" class=\"dataframe\">\n",
       "  <thead>\n",
       "    <tr style=\"text-align: right;\">\n",
       "      <th></th>\n",
       "      <th>col1</th>\n",
       "      <th>col2</th>\n",
       "    </tr>\n",
       "  </thead>\n",
       "  <tbody>\n",
       "    <tr>\n",
       "      <th>count</th>\n",
       "      <td>2.000000</td>\n",
       "      <td>2.000000</td>\n",
       "    </tr>\n",
       "    <tr>\n",
       "      <th>mean</th>\n",
       "      <td>1.500000</td>\n",
       "      <td>3.500000</td>\n",
       "    </tr>\n",
       "    <tr>\n",
       "      <th>std</th>\n",
       "      <td>0.707107</td>\n",
       "      <td>0.707107</td>\n",
       "    </tr>\n",
       "    <tr>\n",
       "      <th>min</th>\n",
       "      <td>1.000000</td>\n",
       "      <td>3.000000</td>\n",
       "    </tr>\n",
       "    <tr>\n",
       "      <th>25%</th>\n",
       "      <td>1.250000</td>\n",
       "      <td>3.250000</td>\n",
       "    </tr>\n",
       "    <tr>\n",
       "      <th>50%</th>\n",
       "      <td>1.500000</td>\n",
       "      <td>3.500000</td>\n",
       "    </tr>\n",
       "    <tr>\n",
       "      <th>75%</th>\n",
       "      <td>1.750000</td>\n",
       "      <td>3.750000</td>\n",
       "    </tr>\n",
       "    <tr>\n",
       "      <th>max</th>\n",
       "      <td>2.000000</td>\n",
       "      <td>4.000000</td>\n",
       "    </tr>\n",
       "  </tbody>\n",
       "</table>\n",
       "</div>"
      ],
      "text/plain": [
       "           col1      col2\n",
       "count  2.000000  2.000000\n",
       "mean   1.500000  3.500000\n",
       "std    0.707107  0.707107\n",
       "min    1.000000  3.000000\n",
       "25%    1.250000  3.250000\n",
       "50%    1.500000  3.500000\n",
       "75%    1.750000  3.750000\n",
       "max    2.000000  4.000000"
      ]
     },
     "execution_count": 12,
     "metadata": {},
     "output_type": "execute_result"
    }
   ],
   "source": [
    "import pandas as pd\n",
    "\n",
    "# Create a DataFrame using the pd alias\n",
    "df = pd.DataFrame({'col1': [1, 2], 'col2': [3, 4]})\n",
    "\n",
    "# Use the pd alias to call the describe() function on the DataFrame\n",
    "df.describe()\n"
   ]
  },
  {
   "cell_type": "markdown",
   "id": "cd7ec851",
   "metadata": {},
   "source": [
    "In this example, we imported the pandas module and gave it the alias pd. We then used the pd alias to create a DataFrame and call the describe() function on it.\n",
    "\n",
    "Indirect importing can be useful when working with modules that have long or complex names, or when you want to avoid naming conflicts with other modules in your code."
   ]
  },
  {
   "cell_type": "code",
   "execution_count": null,
   "id": "7b5f7b3b",
   "metadata": {},
   "outputs": [],
   "source": []
  }
 ],
 "metadata": {
  "kernelspec": {
   "display_name": "Python 3 (ipykernel)",
   "language": "python",
   "name": "python3"
  },
  "language_info": {
   "codemirror_mode": {
    "name": "ipython",
    "version": 3
   },
   "file_extension": ".py",
   "mimetype": "text/x-python",
   "name": "python",
   "nbconvert_exporter": "python",
   "pygments_lexer": "ipython3",
   "version": "3.9.12"
  }
 },
 "nbformat": 4,
 "nbformat_minor": 5
}
