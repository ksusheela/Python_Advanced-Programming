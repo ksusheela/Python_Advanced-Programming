{
 "cells": [
  {
   "cell_type": "code",
   "execution_count": 1,
   "id": "c05c6f21",
   "metadata": {},
   "outputs": [],
   "source": [
    "# Q1. What is the purpose of Python&#39;s OOP?"
   ]
  },
  {
   "cell_type": "markdown",
   "id": "8b77ec70",
   "metadata": {},
   "source": [
    "The purpose of Python's Object-Oriented Programming (OOP) is to provide a way to organize and structure complex programs into smaller, reusable, and more manageable chunks of code, called objects. OOP allows developers to create classes that encapsulate data and behavior into a single unit, making it easier to reason about and maintain the code.\n",
    "\n",
    "In OOP, each object is an instance of a class that has its own attributes (variables) and methods (functions) that can interact with other objects. This allows for a more modular and flexible approach to programming, where objects can be reused across multiple applications and scenarios."
   ]
  },
  {
   "cell_type": "code",
   "execution_count": 2,
   "id": "050ee858",
   "metadata": {},
   "outputs": [],
   "source": [
    "# Q2. Where does an inheritance search look for an attribute?"
   ]
  },
  {
   "cell_type": "markdown",
   "id": "8f1d6ea7",
   "metadata": {},
   "source": [
    "When a Python program tries to access an attribute (a variable or method) of an object, the interpreter first searches for that attribute in the object itself. If it's not found, the interpreter then looks for it in the object's class, and then in the class's parent classes, and so on, until it reaches the top-level object class. This process is known as the \"inheritance search\".\n",
    "\n",
    "The order in which the interpreter looks for attributes is defined by the Method Resolution Order (MRO) algorithm, which is determined when a class is created. The MRO algorithm uses a depth-first search (DFS) strategy, where the inheritance graph of a class hierarchy is traversed from left to right.\n",
    "\n",
    "The MRO can be accessed using the built-in mro() method of a class. For example, if you have a class Child that inherits from Parent1 and Parent2, you can access its MRO like this:"
   ]
  },
  {
   "cell_type": "code",
   "execution_count": 4,
   "id": "8f876dad",
   "metadata": {},
   "outputs": [
    {
     "name": "stdout",
     "output_type": "stream",
     "text": [
      "[<class '__main__.Child'>, <class '__main__.Parent1'>, <class '__main__.Parent2'>, <class 'object'>]\n"
     ]
    }
   ],
   "source": [
    "class Parent1:\n",
    "    pass\n",
    "\n",
    "class Parent2:\n",
    "    pass\n",
    "\n",
    "class Child(Parent1, Parent2):\n",
    "    pass\n",
    "\n",
    "print(Child.mro())\n"
   ]
  },
  {
   "cell_type": "code",
   "execution_count": 3,
   "id": "90eb1a1e",
   "metadata": {},
   "outputs": [],
   "source": [
    "# Q3. How do you distinguish between a class object and an instance object?"
   ]
  },
  {
   "cell_type": "markdown",
   "id": "473e3d1a",
   "metadata": {},
   "source": [
    "In Python's Object-Oriented Programming (OOP), a class is a blueprint or template that defines the properties and behavior of a certain type of object. An instance, on the other hand, is a specific object that is created based on the blueprint of a class.\n",
    "\n",
    "To distinguish between a class object and an instance object in Python, you can look at their respective types using the built-in type() function. For example:"
   ]
  },
  {
   "cell_type": "code",
   "execution_count": 5,
   "id": "4a8bbf02",
   "metadata": {},
   "outputs": [
    {
     "name": "stdout",
     "output_type": "stream",
     "text": [
      "<class 'type'>\n",
      "<class '__main__.MyClass'>\n"
     ]
    }
   ],
   "source": [
    "class MyClass:\n",
    "    pass\n",
    "\n",
    "my_class_obj = MyClass() # creating an instance of MyClass\n",
    "\n",
    "print(type(MyClass)) # prints \"<class 'type'>\"\n",
    "print(type(my_class_obj)) # prints \"<class '__main__.MyClass'>\"\n"
   ]
  },
  {
   "cell_type": "code",
   "execution_count": 6,
   "id": "2521c59d",
   "metadata": {},
   "outputs": [],
   "source": [
    "# Q4. What makes the first argument in a class’s method function special?"
   ]
  },
  {
   "cell_type": "markdown",
   "id": "7879d025",
   "metadata": {},
   "source": [
    "In Python's Object-Oriented Programming (OOP), the first argument of a class method function is conventionally named self. This argument is used to refer to the instance object that the method is being called on.\n",
    "\n",
    "When a method is called on an instance object, Python automatically passes the instance object as the first argument to the method. This allows the method to access and modify the instance's attributes and perform operations specific to that instance."
   ]
  },
  {
   "cell_type": "code",
   "execution_count": 7,
   "id": "ac6e21ce",
   "metadata": {},
   "outputs": [
    {
     "name": "stdout",
     "output_type": "stream",
     "text": [
      "Hello from instance <__main__.MyClass object at 0x0000017A619610D0>\n"
     ]
    }
   ],
   "source": [
    "class MyClass:\n",
    "    def my_method(self):\n",
    "        print(\"Hello from instance\", self)\n",
    "\n",
    "my_instance = MyClass()\n",
    "my_instance.my_method()\n"
   ]
  },
  {
   "cell_type": "code",
   "execution_count": 8,
   "id": "3a282fe2",
   "metadata": {},
   "outputs": [],
   "source": [
    "# Q5. What is the purpose of the __init__ method?"
   ]
  },
  {
   "cell_type": "markdown",
   "id": "e4e65978",
   "metadata": {},
   "source": [
    "The __init__ method in Python is a special method, also known as a constructor, that gets called when an instance of a class is created. Its purpose is to initialize the attributes of the instance with the values passed as arguments to the constructor or with default values.\n",
    "\n",
    "The __init__ method is defined with the following signature:"
   ]
  },
  {
   "cell_type": "code",
   "execution_count": 10,
   "id": "60b7fcda",
   "metadata": {},
   "outputs": [
    {
     "name": "stdout",
     "output_type": "stream",
     "text": [
      "John\n",
      "30\n"
     ]
    }
   ],
   "source": [
    "# class MyClass:\n",
    "#     def __init__(self, arg1, arg2, ...):\n",
    "#         # Initialize instance attributes here\n",
    "class Person:\n",
    "    def __init__(self, name, age):\n",
    "        self.name = name\n",
    "        self.age = age\n",
    "\n",
    "person1 = Person(\"John\", 30)\n",
    "print(person1.name) # Output: \"John\"\n",
    "print(person1.age) # Output: 30\n"
   ]
  },
  {
   "cell_type": "code",
   "execution_count": 11,
   "id": "2ffe867a",
   "metadata": {},
   "outputs": [],
   "source": [
    "# Q6. What is the process for creating a class instance?"
   ]
  },
  {
   "cell_type": "markdown",
   "id": "ad3760a1",
   "metadata": {},
   "source": [
    "To create an instance of a class in Python, you first define the class with its attributes and methods, then use the class name as a function to create an instance of that class. The process can be summarized in the following steps:\n",
    "\n",
    "Define the class: Define the class with the class keyword and specify its attributes and methods."
   ]
  },
  {
   "cell_type": "code",
   "execution_count": 12,
   "id": "a2c727be",
   "metadata": {},
   "outputs": [],
   "source": [
    "class MyClass:\n",
    "    def __init__(self, attribute1, attribute2):\n",
    "        self.attribute1 = attribute1\n",
    "        self.attribute2 = attribute2\n",
    "\n",
    "    def my_method(self):\n",
    "        print(\"Hello from MyClass!\")\n"
   ]
  },
  {
   "cell_type": "markdown",
   "id": "85f5101f",
   "metadata": {},
   "source": [
    "Create an instance of the class: To create an instance of the class, call the class name with the arguments to be passed to the __init__ method."
   ]
  },
  {
   "cell_type": "code",
   "execution_count": 13,
   "id": "04453ee9",
   "metadata": {},
   "outputs": [],
   "source": [
    "my_instance = MyClass(\"value1\", \"value2\")\n"
   ]
  },
  {
   "cell_type": "code",
   "execution_count": 14,
   "id": "8581312a",
   "metadata": {},
   "outputs": [
    {
     "name": "stdout",
     "output_type": "stream",
     "text": [
      "value1\n",
      "value2\n",
      "Hello from MyClass!\n"
     ]
    }
   ],
   "source": [
    "print(my_instance.attribute1) # Output: \"value1\"\n",
    "print(my_instance.attribute2) # Output: \"value2\"\n",
    "my_instance.my_method() # Output: \"Hello from MyClass!\"\n"
   ]
  },
  {
   "cell_type": "code",
   "execution_count": 15,
   "id": "794897cb",
   "metadata": {},
   "outputs": [],
   "source": [
    "# Q7. What is the process for creating a class?"
   ]
  },
  {
   "cell_type": "markdown",
   "id": "5575e8fe",
   "metadata": {},
   "source": [
    "To create a class in Python, you use the class keyword followed by the name of the class and a colon. Inside the class definition, you define the attributes and methods of the class. The basic process for creating a class in Python can be summarized in the following steps:\n",
    "\n",
    "Define the class: Use the class keyword followed by the name of the class and a colon to define the class."
   ]
  },
  {
   "cell_type": "code",
   "execution_count": 16,
   "id": "0a2eee99",
   "metadata": {},
   "outputs": [],
   "source": [
    "# class MyClass:\n",
    "#     # Define the attributes and methods of the class here\n"
   ]
  },
  {
   "cell_type": "markdown",
   "id": "a67c0909",
   "metadata": {},
   "source": [
    "Define the attributes: Define the attributes of the class using the self keyword and dot notation to refer to the instance object's attributes."
   ]
  },
  {
   "cell_type": "code",
   "execution_count": 17,
   "id": "b7427ec7",
   "metadata": {},
   "outputs": [],
   "source": [
    "# class MyClass:\n",
    "#     def __init__(self, attribute1, attribute2):\n",
    "#         self.attribute1 = attribute1\n",
    "#         self.attribute2 = attribute2\n"
   ]
  },
  {
   "cell_type": "code",
   "execution_count": 18,
   "id": "4136f485",
   "metadata": {},
   "outputs": [],
   "source": [
    "class MyClass:\n",
    "    def __init__(self, attribute1, attribute2):\n",
    "        self.attribute1 = attribute1\n",
    "        self.attribute2 = attribute2\n",
    "\n",
    "    def my_method(self):\n",
    "        print(\"Hello from MyClass!\")\n",
    "my_instance = MyClass(\"value1\", \"value2\")\n"
   ]
  },
  {
   "cell_type": "code",
   "execution_count": 19,
   "id": "361d08f9",
   "metadata": {},
   "outputs": [],
   "source": [
    "# Q8. How would you define the superclasses of a class?"
   ]
  },
  {
   "cell_type": "markdown",
   "id": "fde9f32c",
   "metadata": {},
   "source": [
    "In Python, the superclasses of a class are the classes from which the class inherits attributes and methods. To define the superclasses of a class, you specify the superclass(es) in the class definition using parentheses after the class name. This is called subclassing or inheritance.\n",
    "\n",
    "Here is an example of how to define the superclasses of a class in Python:\n",
    "\n"
   ]
  },
  {
   "cell_type": "code",
   "execution_count": 20,
   "id": "f8143a7b",
   "metadata": {},
   "outputs": [],
   "source": [
    "class SuperClass1:\n",
    "    def method1(self):\n",
    "        print(\"Method 1 from SuperClass1\")\n",
    "\n",
    "class SuperClass2:\n",
    "    def method2(self):\n",
    "        print(\"Method 2 from SuperClass2\")\n",
    "\n",
    "class SubClass(SuperClass1, SuperClass2):\n",
    "    def method3(self):\n",
    "        print(\"Method 3 from SubClass\")\n"
   ]
  },
  {
   "cell_type": "code",
   "execution_count": null,
   "id": "abe7d434",
   "metadata": {},
   "outputs": [],
   "source": []
  }
 ],
 "metadata": {
  "kernelspec": {
   "display_name": "Python 3 (ipykernel)",
   "language": "python",
   "name": "python3"
  },
  "language_info": {
   "codemirror_mode": {
    "name": "ipython",
    "version": 3
   },
   "file_extension": ".py",
   "mimetype": "text/x-python",
   "name": "python",
   "nbconvert_exporter": "python",
   "pygments_lexer": "ipython3",
   "version": "3.9.12"
  }
 },
 "nbformat": 4,
 "nbformat_minor": 5
}
