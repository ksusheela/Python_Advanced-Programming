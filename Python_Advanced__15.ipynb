{
 "cells": [
  {
   "cell_type": "code",
   "execution_count": 1,
   "id": "3a68448a",
   "metadata": {},
   "outputs": [],
   "source": [
    "# What are the new features added in Python 3.8 version?"
   ]
  },
  {
   "cell_type": "markdown",
   "id": "bc8ce6b5",
   "metadata": {},
   "source": [
    "Python 3.8 was released on October 14, 2019 and included several new features and improvements over its predecessor, Python 3.7. Some of the notable new features added in Python 3.8 are:\n",
    "\n",
    "Assignment Expressions (the Walrus Operator): This new operator (:=) allows you to assign a value to a variable as part of an expression. This can be especially useful in loops and comprehensions.\n",
    "\n",
    "Positional-only parameters: Python 3.8 introduced support for defining positional-only parameters in function definitions. These parameters can only be passed by position and cannot be specified by name.\n",
    "\n",
    "f-strings now support = for self-documenting expressions and debugging: With Python 3.8, you can now use the equal sign (=) within f-strings to help self-document the code or to aid in debugging.\n",
    "\n",
    "Simpler and more flexible customization of class creation: Python 3.8 introduced several new features to make it easier to customize class creation, including the ability to intercept class creation and modify class dictionaries.\n",
    "\n",
    "The time module now uses clock_gettime() on Unix platforms: The time module now uses clock_gettime() instead of gettimeofday() on Unix platforms, providing higher resolution and better accuracy.\n",
    "\n",
    "New syntax warnings: Python 3.8 introduced new syntax warnings to help identify potentially problematic code, including a DeprecationWarning for the use of the open() function with mode='U' and a SyntaxWarning for the use of a colon (:) in an f-string expression.\n",
    "\n",
    "Improvements to the multiprocessing module: Python 3.8 includes several improvements to the multiprocessing module, including the ability to specify the maximum number of tasks in a ProcessPoolExecutor, better support for using shared memory, and improved error handling.\n",
    "\n",
    "These are just some of the new features and improvements that were added in Python 3.8.\n",
    "\n"
   ]
  },
  {
   "cell_type": "code",
   "execution_count": 2,
   "id": "708571c1",
   "metadata": {},
   "outputs": [],
   "source": [
    "# 2. What is monkey patching in Python?"
   ]
  },
  {
   "cell_type": "markdown",
   "id": "1fc9264f",
   "metadata": {},
   "source": [
    "Monkey patching in Python refers to the technique of modifying or extending the behavior of a module, class, or object at runtime by replacing its attributes or methods with new ones. This can be useful when you need to change the behavior of a third-party library or module without modifying its source code.\n",
    "\n",
    "To perform monkey patching, you can simply assign new values to the attributes or methods of the object you want to modify. For example, suppose you have a module named mymodule that contains a function named myfunc:"
   ]
  },
  {
   "cell_type": "code",
   "execution_count": 23,
   "id": "e49d8f76",
   "metadata": {},
   "outputs": [
    {
     "data": {
      "text/plain": [
       "'C:\\\\Users\\\\ADMIN'"
      ]
     },
     "execution_count": 23,
     "metadata": {},
     "output_type": "execute_result"
    }
   ],
   "source": [
    "#mymodule.py\n",
    "def myfunc():\n",
    "    print(\"Hello,World\")\n",
    "import os\n",
    "os.getcwd()"
   ]
  },
  {
   "cell_type": "markdown",
   "id": "92d6b434",
   "metadata": {},
   "source": [
    "Now, suppose you want to modify the behavior of myfunc by adding a new message to the output. You can do this by importing the mymodule module and redefining the myfunc function:"
   ]
  },
  {
   "cell_type": "code",
   "execution_count": 12,
   "id": "424b50ad",
   "metadata": {},
   "outputs": [],
   "source": [
    "# import mymodule\n",
    "\n",
    "# def newfunc():\n",
    "#     print(\"Goodbye, world!\")\n",
    "\n",
    "# mymodule.myfunc = newfunc\n"
   ]
  },
  {
   "cell_type": "code",
   "execution_count": 10,
   "id": "feb0485e",
   "metadata": {},
   "outputs": [],
   "source": [
    "# 3. What is the difference between a shallow copy and deep copy?"
   ]
  },
  {
   "cell_type": "markdown",
   "id": "ddb0997d",
   "metadata": {},
   "source": [
    "Shallow copy:\n",
    "\n",
    "A shallow copy creates a new object which stores a reference to the original object, but it does not create a new copy of the object's data. In other words, the new object points to the same memory location as the original object, and changes made to the original object will also be reflected in the shallow copy. In Python, you can create a shallow copy using the copy() method.\n",
    "\n",
    "Here's an example of creating a shallow copy of a list:"
   ]
  },
  {
   "cell_type": "code",
   "execution_count": 14,
   "id": "2c64e7ba",
   "metadata": {},
   "outputs": [
    {
     "name": "stdout",
     "output_type": "stream",
     "text": [
      "[1, 2, ['new', 4]]\n",
      "[1, 2, ['new', 4]]\n"
     ]
    }
   ],
   "source": [
    "original = [1, 2, [3, 4]]\n",
    "shallow_copy = original.copy()\n",
    "\n",
    "original[2][0] = 'new'\n",
    "print(original)         # [1, 2, ['new', 4]]\n",
    "print(shallow_copy)     # [1, 2, ['new', 4]]\n"
   ]
  },
  {
   "cell_type": "markdown",
   "id": "c6a7a3ce",
   "metadata": {},
   "source": [
    "Deep copy:\n",
    "\n",
    "A deep copy creates a new object and recursively copies the original object's data, including all nested objects, so that the new object is completely independent of the original object. In Python, you can create a deep copy using the deepcopy() method from the copy module.\n",
    "\n",
    "Here's an example of creating a deep copy of a list:"
   ]
  },
  {
   "cell_type": "code",
   "execution_count": 15,
   "id": "6d40eded",
   "metadata": {},
   "outputs": [
    {
     "name": "stdout",
     "output_type": "stream",
     "text": [
      "[1, 2, ['new', 4]]\n",
      "[1, 2, [3, 4]]\n"
     ]
    }
   ],
   "source": [
    "import copy\n",
    "\n",
    "original = [1, 2, [3, 4]]\n",
    "deep_copy = copy.deepcopy(original)\n",
    "\n",
    "original[2][0] = 'new'\n",
    "print(original)         # [1, 2, ['new', 4]]\n",
    "print(deep_copy)        # [1, 2, [3, 4]]\n"
   ]
  },
  {
   "cell_type": "code",
   "execution_count": 16,
   "id": "bf221e19",
   "metadata": {},
   "outputs": [],
   "source": [
    "# 4. What is the maximum possible length of an identifier?"
   ]
  },
  {
   "cell_type": "code",
   "execution_count": 17,
   "id": "1db076bf",
   "metadata": {},
   "outputs": [],
   "source": [
    " pradeep_pornima_halya_Hasya_Karun_Pavan_ambika_raj_This_is_becauselonger_identifiers_can_become_difficult_to_read_and =\"Family\""
   ]
  },
  {
   "cell_type": "code",
   "execution_count": 22,
   "id": "80dbf703",
   "metadata": {},
   "outputs": [
    {
     "ename": "NameError",
     "evalue": "name 'pradeep_pornima_halya_Hasya_Karun_Pavan_ambika_raj_This_is_becauselonger_identifiers_can_become_difficult_to_read_and' is not defined",
     "output_type": "error",
     "traceback": [
      "\u001b[1;31m---------------------------------------------------------------------------\u001b[0m",
      "\u001b[1;31mNameError\u001b[0m                                 Traceback (most recent call last)",
      "Input \u001b[1;32mIn [22]\u001b[0m, in \u001b[0;36m<cell line: 1>\u001b[1;34m()\u001b[0m\n\u001b[1;32m----> 1\u001b[0m \u001b[38;5;28mprint\u001b[39m(\u001b[43mpradeep_pornima_halya_Hasya_Karun_Pavan_ambika_raj_This_is_becauselonger_identifiers_can_become_difficult_to_read_and\u001b[49m)\n",
      "\u001b[1;31mNameError\u001b[0m: name 'pradeep_pornima_halya_Hasya_Karun_Pavan_ambika_raj_This_is_becauselonger_identifiers_can_become_difficult_to_read_and' is not defined"
     ]
    }
   ],
   "source": [
    "print(pradeep_pornima_halya_Hasya_Karun_Pavan_ambika_raj_This_is_becauselonger_identifiers_can_become_difficult_to_read_and)"
   ]
  },
  {
   "cell_type": "markdown",
   "id": "6fa87464",
   "metadata": {},
   "source": [
    "In Python, the maximum possible length of an identifier is not specified explicitly. However, PEP 8, which is the official Python style guide, recommends that the maximum length of an identifier should be 79 characters. This is because longer identifiers can become difficult to read and make the code harder to understand.\n",
    "\n",
    "In practice, most programming languages, including Python, impose a practical limit on the length of identifiers based on the available memory and other system constraints. In general, it is recommended to use meaningful and descriptive identifiers that are long enough to convey their purpose, but not so long that they become unwieldy or difficult to read.\n",
    "\n",
    "It is worth noting that some programming styles, such as using Hungarian notation or other naming conventions that embed additional information in the identifier, may result in longer identifiers. In such cases, it is important to balance the need for clarity and readability with the practical considerations of code organization and maintainability."
   ]
  },
  {
   "cell_type": "code",
   "execution_count": 20,
   "id": "c671fb0c",
   "metadata": {},
   "outputs": [],
   "source": [
    "# 5. What is generator comprehension?"
   ]
  },
  {
   "cell_type": "markdown",
   "id": "000a404f",
   "metadata": {},
   "source": [
    "Generator comprehension is a concise way to create a generator object in Python. It is similar to list comprehension, but instead of creating a list, it creates a generator object. A generator is an iterable that generates values on the fly, rather than storing them in memory all at once.\n",
    "\n",
    "The syntax of generator comprehension is similar to list comprehension, but with parentheses () instead of square brackets []. Here's an example:"
   ]
  },
  {
   "cell_type": "code",
   "execution_count": 21,
   "id": "a9dd70cc",
   "metadata": {},
   "outputs": [
    {
     "name": "stdout",
     "output_type": "stream",
     "text": [
      "0\n",
      "1\n",
      "4\n",
      "9\n",
      "16\n",
      "25\n",
      "36\n",
      "49\n",
      "64\n",
      "81\n"
     ]
    }
   ],
   "source": [
    "# Create a generator object that yields the squares of numbers from 0 to 9\n",
    "squares = (x*x for x in range(10))\n",
    "\n",
    "# Print the squares\n",
    "for square in squares:\n",
    "    print(square)\n"
   ]
  },
  {
   "cell_type": "markdown",
   "id": "cb65d2cc",
   "metadata": {},
   "source": [
    "One advantage of using generator comprehension over list comprehension is that it can be more memory-efficient, since it generates values on the fly rather than storing them in memory all at once. This can be particularly useful when working with large datasets or when dealing with computationally expensive operations."
   ]
  },
  {
   "cell_type": "code",
   "execution_count": null,
   "id": "b8034c7e",
   "metadata": {},
   "outputs": [],
   "source": []
  }
 ],
 "metadata": {
  "kernelspec": {
   "display_name": "Python 3 (ipykernel)",
   "language": "python",
   "name": "python3"
  },
  "language_info": {
   "codemirror_mode": {
    "name": "ipython",
    "version": 3
   },
   "file_extension": ".py",
   "mimetype": "text/x-python",
   "name": "python",
   "nbconvert_exporter": "python",
   "pygments_lexer": "ipython3",
   "version": "3.9.12"
  }
 },
 "nbformat": 4,
 "nbformat_minor": 5
}
